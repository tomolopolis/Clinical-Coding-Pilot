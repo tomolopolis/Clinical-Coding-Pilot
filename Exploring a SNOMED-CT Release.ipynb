{
 "cells": [
  {
   "cell_type": "markdown",
   "metadata": {},
   "source": [
    "# Exploring a SNOMED-CT uk extension Release"
   ]
  },
  {
   "cell_type": "code",
   "execution_count": 2,
   "metadata": {},
   "outputs": [],
   "source": [
    "import pandas as pd\n",
    "import numpy as np\n",
    "import json\n",
    "import re"
   ]
  },
  {
   "cell_type": "markdown",
   "metadata": {},
   "source": [
    "## Loading the SNOMED UK extention release files"
   ]
  },
  {
   "cell_type": "code",
   "execution_count": 3,
   "metadata": {},
   "outputs": [],
   "source": [
    "snomed_dir = r'C:\\Users\\k1767582\\Desktop\\SNOMED'"
   ]
  },
  {
   "cell_type": "markdown",
   "metadata": {},
   "source": [
    "Use Snapshot, instead of Full, here, as Full contains all historical concepts since 2014. Delta only contains differences from last version.\n",
    "https://confluence.ihtsdotools.org/display/DOCGLOSS/Snapshot+release"
   ]
  },
  {
   "cell_type": "code",
   "execution_count": 6,
   "metadata": {},
   "outputs": [],
   "source": [
    "base_term = f'{snomed_dir}/uk_sct2cl_30.2.0_20200930000001/'\n",
    "int_terminology = base_term + 'SnomedCT_InternationalRF2_PRODUCTION_20190731T120000Z/Snapshot/Terminology'\n",
    "uk_ext_terminology = base_term + 'SnomedCT_UKClinicalRF2_PRODUCTION_20200930T000001Z/Snapshot/Terminology' #'SnomedCT_UKClinicalRF2_PRODUCTION_20191001T000001Z/Snapshot/Terminology'"
   ]
  },
  {
   "cell_type": "code",
   "execution_count": 7,
   "metadata": {},
   "outputs": [],
   "source": [
    "def parse_file(filename, first_row_header=True, columns=None):\n",
    "    with open(filename, encoding='utf-8') as f:\n",
    "        entities = [[n.strip() for n in line.split('\\t')] for line in f]\n",
    "        return pd.DataFrame(entities[1:], columns=entities[0] if first_row_header else columns)"
   ]
  },
  {
   "cell_type": "markdown",
   "metadata": {},
   "source": [
    "## SNOMED CT Design\n",
    "\n",
    "### SNOMED CT Components\n",
    "SNOMED CT is a clinical terminology containing concepts with unique meanings and formal logic based definitions organised into hierarchies.\n",
    "For further information please see: https://confluence.ihtsdotools.org/display/DOCSTART/4.+SNOMED+CT+Basics\n",
    "\n",
    "SNOMED CT content is represented into 3 main types of components:\n",
    "- __Concepts__ representing clinical meanings that are organised into hierarchies.\n",
    "- __Descriptions__ which link appropriate human readable terms to concepts\n",
    "- __Relationships__ which link each concept to other related concepts"
   ]
  },
  {
   "cell_type": "markdown",
   "metadata": {},
   "source": [
    "__NOTE:__ SNOMED-CT (UK Ed.) is an extension to the Int Ed. Both sets of files (Int. and the UK Ext.) are released as part of one 'UK Release'."
   ]
  },
  {
   "cell_type": "markdown",
   "metadata": {},
   "source": [
    "Load and merge the active concept from the international and UK Extention __Concept snapshot__ files"
   ]
  },
  {
   "cell_type": "markdown",
   "metadata": {},
   "source": [
    "#### __Table 4.2.1-1:__ Concept file - Detailed Specification\n",
    "\n",
    "|Field|Data type|Purpose|Mutable|Part of Primary Key|\n",
    "|:-----|:-----|:-----|:-----|:-----|\n",
    "|id|SCTID|Uniquely Idenfies the concept|NO|YES (Full/Snapshot)|\n",
    "|effectiveTime|Time|Specifies the inclusive date at which the component version's state became the then current valid state of the component.|YES|YES (Full)<br>Optional (Snapshot)|\n",
    "|active|Boolean|Specifies whether the concept was active or inactive from the nominal release date specified by the effectiveTime.|YES|NO|\n",
    "|moduleId|SCTID|Identifies the concept version's module. Set to a descendant of 900000000000443000(Module) within the metadata hierarchy.|YES|NO|\n",
    "|definitionStatusId|SCTID|Specifies if the concept version is primitive or defined. Set to a descendant of 900000000000444006(Definition status)in the metadata hierarchy.|YES|NO|\n",
    "\n",
    "Taken from: https://confluence.ihtsdotools.org/display/DOCRELFMT"
   ]
  },
  {
   "cell_type": "code",
   "execution_count": 8,
   "metadata": {},
   "outputs": [],
   "source": [
    "int_terms = parse_file(f'{int_terminology}/sct2_Concept_Snapshot_INT_20190731.txt')\n",
    "uk_terms = parse_file(f'{uk_ext_terminology}/sct2_Concept_Snapshot_GB1000000_20200930.txt')\n",
    "terms = pd.concat([int_terms, uk_terms])\n",
    "active_terms = terms[terms.active == '1'] # active concepts are represented with 1"
   ]
  },
  {
   "cell_type": "code",
   "execution_count": 9,
   "metadata": {},
   "outputs": [
    {
     "data": {
      "text/plain": "               id effectiveTime  active            moduleId  \\\ncount      380165        380165  380165              380165   \nunique     380165            72       1                   5   \ntop     325412002      20020131       1  900000000000207008   \nfreq            1        172004  380165              349097   \n\n        definitionStatusId  \ncount               380165  \nunique                   2  \ntop     900000000000074008  \nfreq                268381  ",
      "text/html": "<div>\n<style scoped>\n    .dataframe tbody tr th:only-of-type {\n        vertical-align: middle;\n    }\n\n    .dataframe tbody tr th {\n        vertical-align: top;\n    }\n\n    .dataframe thead th {\n        text-align: right;\n    }\n</style>\n<table border=\"1\" class=\"dataframe\">\n  <thead>\n    <tr style=\"text-align: right;\">\n      <th></th>\n      <th>id</th>\n      <th>effectiveTime</th>\n      <th>active</th>\n      <th>moduleId</th>\n      <th>definitionStatusId</th>\n    </tr>\n  </thead>\n  <tbody>\n    <tr>\n      <th>count</th>\n      <td>380165</td>\n      <td>380165</td>\n      <td>380165</td>\n      <td>380165</td>\n      <td>380165</td>\n    </tr>\n    <tr>\n      <th>unique</th>\n      <td>380165</td>\n      <td>72</td>\n      <td>1</td>\n      <td>5</td>\n      <td>2</td>\n    </tr>\n    <tr>\n      <th>top</th>\n      <td>325412002</td>\n      <td>20020131</td>\n      <td>1</td>\n      <td>900000000000207008</td>\n      <td>900000000000074008</td>\n    </tr>\n    <tr>\n      <th>freq</th>\n      <td>1</td>\n      <td>172004</td>\n      <td>380165</td>\n      <td>349097</td>\n      <td>268381</td>\n    </tr>\n  </tbody>\n</table>\n</div>"
     },
     "execution_count": 9,
     "metadata": {},
     "output_type": "execute_result"
    }
   ],
   "source": [
    "# Every concept has a unique concept identifier: active_terms['id'] \n",
    "active_terms.describe()"
   ]
  },
  {
   "cell_type": "markdown",
   "metadata": {},
   "source": [
    "Load and merge the active descriptions from the international and UK Extention __Description snapshot__ files"
   ]
  },
  {
   "cell_type": "markdown",
   "metadata": {},
   "source": [
    "#### __Table 4.2.2-1:__ Description file - Detailed Specification\n",
    "\n",
    "|Field|Data type|Purpose|Mutable|Part of Primary Key|\n",
    "|:-----|:-----|:-----|:-----|:-----|\n",
    "|id|SCTID|Uniquely identifies the description.|NO|YES (Full/Snapshot)|\n",
    "|effectiveTime|Time|Specifies the inclusive date at which the component version's state became the then current valid state of the component|YES|YES (Full)<br>Optional \\|Snapshot\\||\n",
    "|active|Boolean|Specifies whether the state of the description was active or inactive from the nominal release date specified by the effectiveTime.|YES|NO|\n",
    "|moduleId|SCTID|Identifies the description version's module. Set to a child of 900000000000443000\\|Module\\| within the metadata hierarchy.|YES|NO|\n",
    "|conceptId|SCTID|Identifies the concept to which this description applies. Set to the identifier of a concept in the 138875005 \\|SNOMED CT Concept\\| hierarchy within the Concept. Note that a specific version of a description is not directly bound to a specific version of the concept to which it applies. Which version of a description applies to a concept depends on its effectiveTime and the point in time at which it is accessed.|NO|NO|\n",
    "|languageCode|String|Specifies the language of the description text using the two character ISO-639-1 code. Note that this specifies a language level only, not a dialect or country code.|NO|NO|\n",
    "|typeId|SCTID|Identifies whether the description is fully specified name a synonym or other description type. This field is set to a child of 900000000000446008\\|Description type\\| in the Metadata hierarchy.|NO|NO|\n",
    "|term|String|The description version's text value, represented in UTF-8 encoding.|YES|NO|\n",
    "|caseSignificanceId|SCTID|Identifies the concept enumeration value that represents the case significance of this description version. For example, the term may be completely case sensitive, case insensitive or initial letter case insensitive. This field will be set to a child of 900000000000447004\\|Case significance\\| within the metadata hierarchy.|YES|NO|\n",
    "\n",
    "Taken from: https://confluence.ihtsdotools.org/display/DOCRELFMT"
   ]
  },
  {
   "cell_type": "code",
   "execution_count": 10,
   "metadata": {},
   "outputs": [],
   "source": [
    "int_desc = parse_file(f'{int_terminology}/sct2_Description_Snapshot-en_INT_20190731.txt')\n",
    "uk_desc = parse_file(f'{uk_ext_terminology}/sct2_Description_Snapshot-en_GB1000000_20200930.txt')\n",
    "descs = pd.concat([int_desc, uk_desc])\n",
    "active_descs = descs[descs.active == '1']"
   ]
  },
  {
   "cell_type": "code",
   "execution_count": 11,
   "metadata": {},
   "outputs": [
    {
     "data": {
      "text/plain": "       id effectiveTime active            moduleId  conceptId languageCode  \\\n0  101013      20170731      1  900000000000207008  126813005           en   \n1  102018      20170731      1  900000000000207008  126814004           en   \n2  103011      20170731      1  900000000000207008  126815003           en   \n3  104017      20170731      1  900000000000207008  126816002           en   \n4  105016      20170731      1  900000000000207008  126817006           en   \n\n               typeId                                         term  \\\n0  900000000000013009    Neoplasm of anterior aspect of epiglottis   \n1  900000000000013009  Neoplasm of junctional region of epiglottis   \n2  900000000000013009       Neoplasm of lateral wall of oropharynx   \n3  900000000000013009     Neoplasm of posterior wall of oropharynx   \n4  900000000000013009                        Neoplasm of esophagus   \n\n   caseSignificanceId  \n0  900000000000448009  \n1  900000000000448009  \n2  900000000000448009  \n3  900000000000448009  \n4  900000000000448009  ",
      "text/html": "<div>\n<style scoped>\n    .dataframe tbody tr th:only-of-type {\n        vertical-align: middle;\n    }\n\n    .dataframe tbody tr th {\n        vertical-align: top;\n    }\n\n    .dataframe thead th {\n        text-align: right;\n    }\n</style>\n<table border=\"1\" class=\"dataframe\">\n  <thead>\n    <tr style=\"text-align: right;\">\n      <th></th>\n      <th>id</th>\n      <th>effectiveTime</th>\n      <th>active</th>\n      <th>moduleId</th>\n      <th>conceptId</th>\n      <th>languageCode</th>\n      <th>typeId</th>\n      <th>term</th>\n      <th>caseSignificanceId</th>\n    </tr>\n  </thead>\n  <tbody>\n    <tr>\n      <th>0</th>\n      <td>101013</td>\n      <td>20170731</td>\n      <td>1</td>\n      <td>900000000000207008</td>\n      <td>126813005</td>\n      <td>en</td>\n      <td>900000000000013009</td>\n      <td>Neoplasm of anterior aspect of epiglottis</td>\n      <td>900000000000448009</td>\n    </tr>\n    <tr>\n      <th>1</th>\n      <td>102018</td>\n      <td>20170731</td>\n      <td>1</td>\n      <td>900000000000207008</td>\n      <td>126814004</td>\n      <td>en</td>\n      <td>900000000000013009</td>\n      <td>Neoplasm of junctional region of epiglottis</td>\n      <td>900000000000448009</td>\n    </tr>\n    <tr>\n      <th>2</th>\n      <td>103011</td>\n      <td>20170731</td>\n      <td>1</td>\n      <td>900000000000207008</td>\n      <td>126815003</td>\n      <td>en</td>\n      <td>900000000000013009</td>\n      <td>Neoplasm of lateral wall of oropharynx</td>\n      <td>900000000000448009</td>\n    </tr>\n    <tr>\n      <th>3</th>\n      <td>104017</td>\n      <td>20170731</td>\n      <td>1</td>\n      <td>900000000000207008</td>\n      <td>126816002</td>\n      <td>en</td>\n      <td>900000000000013009</td>\n      <td>Neoplasm of posterior wall of oropharynx</td>\n      <td>900000000000448009</td>\n    </tr>\n    <tr>\n      <th>4</th>\n      <td>105016</td>\n      <td>20170731</td>\n      <td>1</td>\n      <td>900000000000207008</td>\n      <td>126817006</td>\n      <td>en</td>\n      <td>900000000000013009</td>\n      <td>Neoplasm of esophagus</td>\n      <td>900000000000448009</td>\n    </tr>\n  </tbody>\n</table>\n</div>"
     },
     "execution_count": 11,
     "metadata": {},
     "output_type": "execute_result"
    }
   ],
   "source": [
    "active_descs.head()"
   ]
  },
  {
   "cell_type": "markdown",
   "metadata": {},
   "source": [
    "Load and merge the relationships from the international and UK Extention __Relationship snapshot__ files"
   ]
  },
  {
   "cell_type": "markdown",
   "metadata": {},
   "source": [
    "#### __Table 4.2.3-1:__ Relationship file - Detailed specification\n",
    "\n",
    "|Field|Data type|Purpose|Mutable|Part of Primary Key|\n",
    "|:-----|:-----|:-----|:-----|:-----|\n",
    "|id|SCTID|Uniquely identifies the relationship.|NO|YES(Full/Snapshot)|\n",
    "|effectiveTime|Time|Specifies the inclusive date at which the component version's state became the then current valid state of the component.|YES|YES(Full) Optional(Snapshot)|\n",
    "|active|Boolean|Specifies whether the state of the relationship was active or inactive from the nominal release date specified by the effectiveTime field.|YES|NO|\n",
    "|moduleId|SCTID|Identifies the relationship version's module. Set to a child of 900000000000443000\\|Module\\| within the metadata hierarchy.|YES|NO|\n",
    "|sourceId|SCTID|Identifies the source concept of the relationship version. That is the concept defined by this relationship. Set to the identifier of a concept.|NO|NO|\n",
    "|destinationId|SCTID|Identifies the concept that is the destination of the relationship version.<br>That is the concept representing the value of the attribute represented by the typeId column.<br>Set to the identifier of a concept.<br>Note that the values that can be applied to particular attributes are formally defined by the SNOMED CT Machine Readable Concept Model.|NO|NO|\n",
    "|relationshipGroup|Integer|Groups together relationship versions that are part of a logically associated relationshipGroup. All active Relationship records with the same relationshipGroup number and sourceId are grouped in this way.|YES|NO|\n",
    "|typeId|SCTID|Identifies the concept that represent the defining attribute (or relationship type) represented by this relationship version.<br><br>That is the concept representing the value of the attribute represented by the typeId column. <br><br>Set to the identifier of a concept. The concept identified must be either 116680003\\|Is a\\| or a subtype of 410662002\\|Concept model attribute\\|. The concepts that can be used as in the typeId column are formally defined as follows:<br>116680003\\|is a\\| OR < 410662002\\|concept model attribute\\|<br><br>__Note__ that the attributes that can be applied to particular concepts are formally defined by the SNOMED CT Machine Readable Concept Model.|NO|NO|\n",
    "|characteristicTypeId|SCTID|A concept enumeration value that identifies the characteristic type of the relationship version (i.e. whether the relationship version is defining, qualifying, etc.) This field is set to a descendant of 900000000000449001\\|Characteristic type\\|in the metadata hierarchy.|YES|NO|\n",
    "|modifierId|SCTID|A concept enumeration value that identifies the type of Description Logic(DL) restriction (some, all, etc.). Set to a child of 900000000000450001\\|Modifier\\| in the metadata hierarchy.<br> __Note__ Currently the only value used in this column is 900000000000451002\\|Some\\| and thus in practical terms this column can be ignored.|YES|NO|\n",
    "\n",
    "Taken from: https://confluence.ihtsdotools.org/display/DOCRELFMT"
   ]
  },
  {
   "cell_type": "code",
   "execution_count": 12,
   "metadata": {},
   "outputs": [],
   "source": [
    "int_relat = parse_file(f'{int_terminology}/sct2_Relationship_Snapshot_INT_20190731.txt')\n",
    "uk_relat = parse_file(f'{uk_ext_terminology}/sct2_Relationship_Snapshot_GB1000000_20200930.txt')\n",
    "relat = pd.concat([int_relat, uk_relat])\n",
    "active_relat = relat[relat.active == '1']"
   ]
  },
  {
   "cell_type": "code",
   "execution_count": 13,
   "metadata": {},
   "outputs": [
    {
     "data": {
      "text/plain": "        id effectiveTime active            moduleId   sourceId destinationId  \\\n1   101021      20020131      1  900000000000207008   10000006      29857009   \n2   102025      20020131      1  900000000000207008   10000006       9972008   \n13  114022      20020131      1  900000000000207008  134035007      84371003   \n26  127021      20020131      1  900000000000207008  134136005      57250008   \n29  130025      20020131      1  900000000000207008   10002003     116175006   \n\n   relationshipGroup     typeId characteristicTypeId          modifierId  \n1                  0  116680003   900000000000011006  900000000000451002  \n2                  0  116680003   900000000000011006  900000000000451002  \n13                 0  116680003   900000000000011006  900000000000451002  \n26                 0  116680003   900000000000011006  900000000000451002  \n29                 0  116680003   900000000000011006  900000000000451002  ",
      "text/html": "<div>\n<style scoped>\n    .dataframe tbody tr th:only-of-type {\n        vertical-align: middle;\n    }\n\n    .dataframe tbody tr th {\n        vertical-align: top;\n    }\n\n    .dataframe thead th {\n        text-align: right;\n    }\n</style>\n<table border=\"1\" class=\"dataframe\">\n  <thead>\n    <tr style=\"text-align: right;\">\n      <th></th>\n      <th>id</th>\n      <th>effectiveTime</th>\n      <th>active</th>\n      <th>moduleId</th>\n      <th>sourceId</th>\n      <th>destinationId</th>\n      <th>relationshipGroup</th>\n      <th>typeId</th>\n      <th>characteristicTypeId</th>\n      <th>modifierId</th>\n    </tr>\n  </thead>\n  <tbody>\n    <tr>\n      <th>1</th>\n      <td>101021</td>\n      <td>20020131</td>\n      <td>1</td>\n      <td>900000000000207008</td>\n      <td>10000006</td>\n      <td>29857009</td>\n      <td>0</td>\n      <td>116680003</td>\n      <td>900000000000011006</td>\n      <td>900000000000451002</td>\n    </tr>\n    <tr>\n      <th>2</th>\n      <td>102025</td>\n      <td>20020131</td>\n      <td>1</td>\n      <td>900000000000207008</td>\n      <td>10000006</td>\n      <td>9972008</td>\n      <td>0</td>\n      <td>116680003</td>\n      <td>900000000000011006</td>\n      <td>900000000000451002</td>\n    </tr>\n    <tr>\n      <th>13</th>\n      <td>114022</td>\n      <td>20020131</td>\n      <td>1</td>\n      <td>900000000000207008</td>\n      <td>134035007</td>\n      <td>84371003</td>\n      <td>0</td>\n      <td>116680003</td>\n      <td>900000000000011006</td>\n      <td>900000000000451002</td>\n    </tr>\n    <tr>\n      <th>26</th>\n      <td>127021</td>\n      <td>20020131</td>\n      <td>1</td>\n      <td>900000000000207008</td>\n      <td>134136005</td>\n      <td>57250008</td>\n      <td>0</td>\n      <td>116680003</td>\n      <td>900000000000011006</td>\n      <td>900000000000451002</td>\n    </tr>\n    <tr>\n      <th>29</th>\n      <td>130025</td>\n      <td>20020131</td>\n      <td>1</td>\n      <td>900000000000207008</td>\n      <td>10002003</td>\n      <td>116175006</td>\n      <td>0</td>\n      <td>116680003</td>\n      <td>900000000000011006</td>\n      <td>900000000000451002</td>\n    </tr>\n  </tbody>\n</table>\n</div>"
     },
     "execution_count": 13,
     "metadata": {},
     "output_type": "execute_result"
    }
   ],
   "source": [
    "active_relat.head()"
   ]
  },
  {
   "cell_type": "markdown",
   "metadata": {},
   "source": [
    "## SNOMED CT Concept Model"
   ]
  },
  {
   "cell_type": "markdown",
   "metadata": {},
   "source": [
    "<img src=\"img/Association Between Files from 2019.png\">\n",
    "\n",
    "Taken from: https://confluence.ihtsdotools.org/display/DOCRELFMT"
   ]
  },
  {
   "cell_type": "markdown",
   "metadata": {},
   "source": [
    "Find the fully specified name, Synonym or Definition of a SNOMED concept\n",
    "\n",
    "__Description type__\n",
    "\n",
    "|Type id|Term|\n",
    "|:---:|:---|\n",
    "|900000000000003001|Fully specified name|\n",
    "|900000000000013009|Synonym|\n",
    "|900000000000550004|Definition|\n"
   ]
  },
  {
   "cell_type": "markdown",
   "metadata": {},
   "source": [
    "Create a DataFrame which contains only the active SNOMED codes and their fully specified name"
   ]
  },
  {
   "cell_type": "code",
   "execution_count": 14,
   "metadata": {},
   "outputs": [
    {
     "data": {
      "text/plain": "             id_x effectiveTime_x active_x          moduleId_x  \\\ncount      380165          380165   380165              380165   \nunique     380165              72        1                   5   \ntop     325412002        20020131        1  900000000000207008   \nfreq            1          172004   380165              349097   \n\n        definitionStatusId        id_y effectiveTime_y active_y  \\\ncount               380165      380165          380165   380165   \nunique                   2      380165              70        1   \ntop     900000000000074008  1475361012        20170731        1   \nfreq                268381           1          241600   380165   \n\n                moduleId_y  conceptId languageCode              typeId  \\\ncount               380165     380165       380165              380165   \nunique                   5     380165            1                   1   \ntop     900000000000207008  325412002           en  900000000000003001   \nfreq                349098          1       380165              380165   \n\n                                                     term  caseSignificanceId  \ncount                                              380165              380165  \nunique                                             380165                   3  \ntop     Ability to use glottalic airstream for speech ...  900000000000448009  \nfreq                                                    1              280125  ",
      "text/html": "<div>\n<style scoped>\n    .dataframe tbody tr th:only-of-type {\n        vertical-align: middle;\n    }\n\n    .dataframe tbody tr th {\n        vertical-align: top;\n    }\n\n    .dataframe thead th {\n        text-align: right;\n    }\n</style>\n<table border=\"1\" class=\"dataframe\">\n  <thead>\n    <tr style=\"text-align: right;\">\n      <th></th>\n      <th>id_x</th>\n      <th>effectiveTime_x</th>\n      <th>active_x</th>\n      <th>moduleId_x</th>\n      <th>definitionStatusId</th>\n      <th>id_y</th>\n      <th>effectiveTime_y</th>\n      <th>active_y</th>\n      <th>moduleId_y</th>\n      <th>conceptId</th>\n      <th>languageCode</th>\n      <th>typeId</th>\n      <th>term</th>\n      <th>caseSignificanceId</th>\n    </tr>\n  </thead>\n  <tbody>\n    <tr>\n      <th>count</th>\n      <td>380165</td>\n      <td>380165</td>\n      <td>380165</td>\n      <td>380165</td>\n      <td>380165</td>\n      <td>380165</td>\n      <td>380165</td>\n      <td>380165</td>\n      <td>380165</td>\n      <td>380165</td>\n      <td>380165</td>\n      <td>380165</td>\n      <td>380165</td>\n      <td>380165</td>\n    </tr>\n    <tr>\n      <th>unique</th>\n      <td>380165</td>\n      <td>72</td>\n      <td>1</td>\n      <td>5</td>\n      <td>2</td>\n      <td>380165</td>\n      <td>70</td>\n      <td>1</td>\n      <td>5</td>\n      <td>380165</td>\n      <td>1</td>\n      <td>1</td>\n      <td>380165</td>\n      <td>3</td>\n    </tr>\n    <tr>\n      <th>top</th>\n      <td>325412002</td>\n      <td>20020131</td>\n      <td>1</td>\n      <td>900000000000207008</td>\n      <td>900000000000074008</td>\n      <td>1475361012</td>\n      <td>20170731</td>\n      <td>1</td>\n      <td>900000000000207008</td>\n      <td>325412002</td>\n      <td>en</td>\n      <td>900000000000003001</td>\n      <td>Ability to use glottalic airstream for speech ...</td>\n      <td>900000000000448009</td>\n    </tr>\n    <tr>\n      <th>freq</th>\n      <td>1</td>\n      <td>172004</td>\n      <td>380165</td>\n      <td>349097</td>\n      <td>268381</td>\n      <td>1</td>\n      <td>241600</td>\n      <td>380165</td>\n      <td>349098</td>\n      <td>1</td>\n      <td>380165</td>\n      <td>380165</td>\n      <td>1</td>\n      <td>280125</td>\n    </tr>\n  </tbody>\n</table>\n</div>"
     },
     "execution_count": 14,
     "metadata": {},
     "output_type": "execute_result"
    }
   ],
   "source": [
    "active_with_desc = pd.merge(active_terms, active_descs[active_descs['typeId'] == '900000000000003001'], left_on=['id'], right_on=['conceptId'], how='inner')\n",
    "active_with_desc.describe()"
   ]
  },
  {
   "cell_type": "markdown",
   "metadata": {},
   "source": [
    "Occasionally within UK SNOMED ed. releases there are concepts which have >1 active primary descriptions. These extra descriptions need to be removed.\n"
   ]
  },
  {
   "cell_type": "code",
   "execution_count": 15,
   "metadata": {},
   "outputs": [
    {
     "data": {
      "text/plain": "Empty DataFrame\nColumns: [id_x, effectiveTime_x, active_x, moduleId_x, definitionStatusId, id_y, effectiveTime_y, active_y, moduleId_y, conceptId, languageCode, typeId, term, caseSignificanceId]\nIndex: []",
      "text/html": "<div>\n<style scoped>\n    .dataframe tbody tr th:only-of-type {\n        vertical-align: middle;\n    }\n\n    .dataframe tbody tr th {\n        vertical-align: top;\n    }\n\n    .dataframe thead th {\n        text-align: right;\n    }\n</style>\n<table border=\"1\" class=\"dataframe\">\n  <thead>\n    <tr style=\"text-align: right;\">\n      <th></th>\n      <th>id_x</th>\n      <th>effectiveTime_x</th>\n      <th>active_x</th>\n      <th>moduleId_x</th>\n      <th>definitionStatusId</th>\n      <th>id_y</th>\n      <th>effectiveTime_y</th>\n      <th>active_y</th>\n      <th>moduleId_y</th>\n      <th>conceptId</th>\n      <th>languageCode</th>\n      <th>typeId</th>\n      <th>term</th>\n      <th>caseSignificanceId</th>\n    </tr>\n  </thead>\n  <tbody>\n  </tbody>\n</table>\n</div>"
     },
     "execution_count": 15,
     "metadata": {},
     "output_type": "execute_result"
    }
   ],
   "source": [
    "# Inspect the duplicates\n",
    "active_with_desc[active_with_desc.duplicated(['id_x'], keep='first')]"
   ]
  },
  {
   "cell_type": "code",
   "execution_count": 16,
   "metadata": {},
   "outputs": [],
   "source": [
    "# drop duplicates\n",
    "active_with_desc = active_with_desc.drop_duplicates(['id_x'], keep='first')\n",
    "assert len(active_with_desc) == len(active_terms)"
   ]
  },
  {
   "cell_type": "markdown",
   "metadata": {},
   "source": [
    "Create the top-level Concept which each concept is linked to:\n",
    "tui -> term unique identifier"
   ]
  },
  {
   "cell_type": "code",
   "execution_count": 17,
   "metadata": {},
   "outputs": [],
   "source": [
    "def find_tui(concept_name):\n",
    "    return re.match(r\"\\((\\w+\\s?.?\\s?\\w+.?\\w+.?\\w+.?)\\)$\")\n",
    "active_with_desc['tui'] = active_with_desc['term'].str.extract(r\"\\((\\w+\\s?.?\\s?\\w+.?\\w+.?\\w+.?)\\)$\")"
   ]
  },
  {
   "cell_type": "code",
   "execution_count": 18,
   "metadata": {},
   "outputs": [
    {
     "data": {
      "text/plain": "             id_x effectiveTime_x active_x          moduleId_x  \\\ncount      380165          380165   380165              380165   \nunique     380165              72        1                   5   \ntop     325412002        20020131        1  900000000000207008   \nfreq            1          172004   380165              349097   \n\n        definitionStatusId        id_y effectiveTime_y active_y  \\\ncount               380165      380165          380165   380165   \nunique                   2      380165              70        1   \ntop     900000000000074008  1475361012        20170731        1   \nfreq                268381           1          241600   380165   \n\n                moduleId_y  conceptId languageCode              typeId  \\\ncount               380165     380165       380165              380165   \nunique                   5     380165            1                   1   \ntop     900000000000207008  325412002           en  900000000000003001   \nfreq                349098          1       380165              380165   \n\n                                                     term  caseSignificanceId  \\\ncount                                              380165              380165   \nunique                                             380165                   3   \ntop     Ability to use glottalic airstream for speech ...  900000000000448009   \nfreq                                                    1              280125   \n\n             tui  \ncount     380165  \nunique        60  \ntop     disorder  \nfreq       77285  ",
      "text/html": "<div>\n<style scoped>\n    .dataframe tbody tr th:only-of-type {\n        vertical-align: middle;\n    }\n\n    .dataframe tbody tr th {\n        vertical-align: top;\n    }\n\n    .dataframe thead th {\n        text-align: right;\n    }\n</style>\n<table border=\"1\" class=\"dataframe\">\n  <thead>\n    <tr style=\"text-align: right;\">\n      <th></th>\n      <th>id_x</th>\n      <th>effectiveTime_x</th>\n      <th>active_x</th>\n      <th>moduleId_x</th>\n      <th>definitionStatusId</th>\n      <th>id_y</th>\n      <th>effectiveTime_y</th>\n      <th>active_y</th>\n      <th>moduleId_y</th>\n      <th>conceptId</th>\n      <th>languageCode</th>\n      <th>typeId</th>\n      <th>term</th>\n      <th>caseSignificanceId</th>\n      <th>tui</th>\n    </tr>\n  </thead>\n  <tbody>\n    <tr>\n      <th>count</th>\n      <td>380165</td>\n      <td>380165</td>\n      <td>380165</td>\n      <td>380165</td>\n      <td>380165</td>\n      <td>380165</td>\n      <td>380165</td>\n      <td>380165</td>\n      <td>380165</td>\n      <td>380165</td>\n      <td>380165</td>\n      <td>380165</td>\n      <td>380165</td>\n      <td>380165</td>\n      <td>380165</td>\n    </tr>\n    <tr>\n      <th>unique</th>\n      <td>380165</td>\n      <td>72</td>\n      <td>1</td>\n      <td>5</td>\n      <td>2</td>\n      <td>380165</td>\n      <td>70</td>\n      <td>1</td>\n      <td>5</td>\n      <td>380165</td>\n      <td>1</td>\n      <td>1</td>\n      <td>380165</td>\n      <td>3</td>\n      <td>60</td>\n    </tr>\n    <tr>\n      <th>top</th>\n      <td>325412002</td>\n      <td>20020131</td>\n      <td>1</td>\n      <td>900000000000207008</td>\n      <td>900000000000074008</td>\n      <td>1475361012</td>\n      <td>20170731</td>\n      <td>1</td>\n      <td>900000000000207008</td>\n      <td>325412002</td>\n      <td>en</td>\n      <td>900000000000003001</td>\n      <td>Ability to use glottalic airstream for speech ...</td>\n      <td>900000000000448009</td>\n      <td>disorder</td>\n    </tr>\n    <tr>\n      <th>freq</th>\n      <td>1</td>\n      <td>172004</td>\n      <td>380165</td>\n      <td>349097</td>\n      <td>268381</td>\n      <td>1</td>\n      <td>241600</td>\n      <td>380165</td>\n      <td>349098</td>\n      <td>1</td>\n      <td>380165</td>\n      <td>380165</td>\n      <td>1</td>\n      <td>280125</td>\n      <td>77285</td>\n    </tr>\n  </tbody>\n</table>\n</div>"
     },
     "execution_count": 18,
     "metadata": {},
     "output_type": "execute_result"
    }
   ],
   "source": [
    "active_with_desc.describe()"
   ]
  },
  {
   "cell_type": "code",
   "execution_count": 19,
   "metadata": {},
   "outputs": [
    {
     "data": {
      "text/plain": "array([], shape=(0, 15), dtype=object)"
     },
     "execution_count": 19,
     "metadata": {},
     "output_type": "execute_result"
    }
   ],
   "source": [
    "active_with_desc[active_with_desc['tui'].isnull()].values"
   ]
  },
  {
   "cell_type": "code",
   "execution_count": 20,
   "metadata": {},
   "outputs": [
    {
     "data": {
      "text/plain": "array(['organism', 'substance', 'procedure', 'body structure', 'disorder',\n       'occupation', 'finding', 'qualifier value',\n       'morphologic abnormality', 'cell structure', 'physical object',\n       'regime/therapy', 'product', 'medicinal product', 'cell', 'person',\n       'ethnic group', 'environment', 'observable entity', 'event',\n       'religion/philosophy', 'attribute', 'physical force', 'situation',\n       'medicinal product form', 'navigational concept', 'clinical drug',\n       'social concept', 'tumor staging', 'specimen', 'basic dose form',\n       'life style', 'dose form', 'linkage concept', 'staging scale',\n       'record artifact', 'assessment scale', 'SNOMED RT+CTV3',\n       'geographic location', 'environment / location',\n       'inactive concept', 'special concept', 'namespace concept',\n       'racial group', 'link assertion', 'foundation metadata concept',\n       'core metadata concept', 'disposition', 'unit of presentation',\n       'OWL metadata concept', 'number', 'state of matter',\n       'transformation', 'intended site', 'release characteristic',\n       'administration method', 'role', 'supplier', 'product name',\n       'metadata'], dtype=object)"
     },
     "execution_count": 20,
     "metadata": {},
     "output_type": "execute_result"
    }
   ],
   "source": [
    "# The number of unique TUIs\n",
    "active_with_desc['tui'].unique()"
   ]
  },
  {
   "cell_type": "markdown",
   "metadata": {},
   "source": [
    "Explore what each tui contains:"
   ]
  },
  {
   "cell_type": "code",
   "execution_count": 21,
   "metadata": {},
   "outputs": [
    {
     "data": {
      "text/plain": "             id_x effectiveTime_x active_x          moduleId_x  \\\n318076  734048000        20170731        1  900000000000207008   \n\n        definitionStatusId        id_y effectiveTime_y active_y  \\\n318076  900000000000074008  3482145016        20170731        1   \n\n                moduleId_y  conceptId languageCode              typeId  \\\n318076  900000000000207008  734048000           en  900000000000003001   \n\n                  term  caseSignificanceId     tui  \n318076  0.088 (number)  900000000000448009  number  ",
      "text/html": "<div>\n<style scoped>\n    .dataframe tbody tr th:only-of-type {\n        vertical-align: middle;\n    }\n\n    .dataframe tbody tr th {\n        vertical-align: top;\n    }\n\n    .dataframe thead th {\n        text-align: right;\n    }\n</style>\n<table border=\"1\" class=\"dataframe\">\n  <thead>\n    <tr style=\"text-align: right;\">\n      <th></th>\n      <th>id_x</th>\n      <th>effectiveTime_x</th>\n      <th>active_x</th>\n      <th>moduleId_x</th>\n      <th>definitionStatusId</th>\n      <th>id_y</th>\n      <th>effectiveTime_y</th>\n      <th>active_y</th>\n      <th>moduleId_y</th>\n      <th>conceptId</th>\n      <th>languageCode</th>\n      <th>typeId</th>\n      <th>term</th>\n      <th>caseSignificanceId</th>\n      <th>tui</th>\n    </tr>\n  </thead>\n  <tbody>\n    <tr>\n      <th>318076</th>\n      <td>734048000</td>\n      <td>20170731</td>\n      <td>1</td>\n      <td>900000000000207008</td>\n      <td>900000000000074008</td>\n      <td>3482145016</td>\n      <td>20170731</td>\n      <td>1</td>\n      <td>900000000000207008</td>\n      <td>734048000</td>\n      <td>en</td>\n      <td>900000000000003001</td>\n      <td>0.088 (number)</td>\n      <td>900000000000448009</td>\n      <td>number</td>\n    </tr>\n  </tbody>\n</table>\n</div>"
     },
     "execution_count": 21,
     "metadata": {},
     "output_type": "execute_result"
    }
   ],
   "source": [
    "active_with_desc[active_with_desc['tui'] == 'number']"
   ]
  },
  {
   "cell_type": "markdown",
   "metadata": {},
   "source": [
    "### Create the input required for a MedCAT concept database"
   ]
  },
  {
   "cell_type": "code",
   "execution_count": 22,
   "metadata": {},
   "outputs": [
    {
     "name": "stderr",
     "output_type": "stream",
     "text": [
      "c:\\program files\\python36\\lib\\site-packages\\pandas\\core\\indexing.py:1472: FutureWarning: \n",
      "Passing list-likes to .loc or [] with any missing label will raise\n",
      "KeyError in the future, you can use .reindex() as an alternative.\n",
      "\n",
      "See the documentation here:\n",
      "https://pandas.pydata.org/pandas-docs/stable/indexing.html#deprecate-loc-reindex-listlike\n",
      "  return self._getitem_tuple(key)\n"
     ]
    }
   ],
   "source": [
    "snomed_cdb_active_only = active_with_desc.loc[:, ['id_x', 'term', 'tty', 'tui_code', 'tui']]\n",
    "snomed_cdb_active_only.columns = ['cui', 'str', 'tty', 'tui', 'sty']\n",
    "snomed_cdb_active_only['cui'] = snomed_cdb_active_only.cui.apply(lambda code: f'S-{code}')\n",
    "snomed_cdb_active_only['onto'] = 'SNOMED-CT'"
   ]
  },
  {
   "cell_type": "code",
   "execution_count": 23,
   "metadata": {},
   "outputs": [
    {
     "data": {
      "text/plain": "                      cui                                                str  \\\n0                S-101009                      Quilonia ethiopica (organism)   \n1                S-102002                    Hemoglobin Okaloosa (substance)   \n2                S-103007                  Squirrel fibroma virus (organism)   \n3                S-104001          Excision of lesion of patella (procedure)   \n4                S-106004  Structure of posterior carpal region (body str...   \n5                S-107008  Structure of fetal part of placenta (body stru...   \n6                S-108003     Entire condylar emissary vein (body structure)   \n7                S-109006  Anxiety disorder of childhood OR adolescence (...   \n8                S-110001  Structure of visceral layer of Bowman's capsul...   \n9                S-111002             Parathyroid structure (body structure)   \n10               S-112009                   Bembrops anatirostris (organism)   \n11               S-113004         Type-casting-machine operator (occupation)   \n12               S-114005                      Feline calicivirus (organism)   \n13               S-115006            Removable appliance therapy (procedure)   \n14               S-116007  Subcutaneous tissue structure of medial surfac...   \n15               S-117003                Rhipicephalus sanguineus (organism)   \n16               S-118008                    Black buffalo weaver (organism)   \n17               S-119000  Thoracoscopic partial lobectomy of lung (proce...   \n18               S-120006                     Ornithine racemase (substance)   \n19               S-121005  Retrobulbar injection of therapeutic agent (pr...   \n20               S-122003                    Choroidal hemorrhage (disorder)   \n21               S-124002  Structure of coronoid process of mandible (bod...   \n22               S-125001                Ferrous (59-Fe) sulfate (substance)   \n23               S-126000  Galactosyl-N-acetylglucosaminylgalactosylgluco...   \n24               S-127009   Miscarriage with laceration of cervix (disorder)   \n25               S-128004    Hand microscope examination of skin (procedure)   \n26               S-129007                            Homoiothermia (finding)   \n27               S-130002                  Hemoglobin Hopkins-II (substance)   \n28               S-131003  Dolichyl-phosphate mannosyltransferase (substa...   \n29               S-132005                    Serraniculus pumilio (organism)   \n...                   ...                                                ...   \n380135  S-999701000000104  Serum conjugated:total bilirubin ratio (observ...   \n380136  S-999711000000102  Aspergillus nucleic acid detection assay (obse...   \n380137  S-999721000000108  Serum disopyramide concentration (observable e...   \n380138  S-999731000000105  Hepatitis D nucleic acid detection assay (obse...   \n380139  S-999741000000101              Anchovy RAST test (observable entity)   \n380140  S-999751000000103  Ribonucleoprotein 70 antibody level (observabl...   \n380141  S-999761000000100              Scallop RAST test (observable entity)   \n380142  S-999771000000107  Diphtheria toxin neutralisation test (observab...   \n380143  S-999781000000109  Hypertonic cryohaemolysis test (observable ent...   \n380144  S-999791000000106  Haemoglobin A1c level - International Federati...   \n380145  S-999801000000105  5-hydroxyindole acetic acid level (observable ...   \n380146  S-999811000000107             Anisakis RAST test (observable entity)   \n380147  S-999821000000101   Phenylalanine/tyrosine ratio (observable entity)   \n380148  S-999831000000104  Recombinant Cor a 1 hazelnut specific IgE anti...   \n380149  S-999841000000108  Recombinant Cor a 8 hazelnut specific IgE anti...   \n380150  S-999851000000106          Tropomyosin RAST test (observable entity)   \n380151  S-999861000000109          Plasma renin activity (observable entity)   \n380152  S-999871000000102  Urine amylase:creatinine ratio (observable ent...   \n380153  S-999881000000100  Urine phosphate:creatinine ratio (observable e...   \n380154  S-999891000000103  Serum retinol binding protein level (observabl...   \n380155  S-999901000000102  Urine dopamine:creatinine ratio (observable en...   \n380156  S-999911000000100  Urine 5-hydroxyindoleacetic acid:creatinine ra...   \n380157  S-999921000000106  Urine adrenaline:creatinine ratio (observable ...   \n380158  S-999931000000108  Urine catecholamine:creatinine ratio (observab...   \n380159  S-999941000000104  Urine leucine:creatinine ratio (observable ent...   \n380160  S-999951000000101  Urine homocysteine:creatinine ratio (observabl...   \n380161  S-999961000000103  Urine aspartate:creatinine ratio (observable e...   \n380162  S-999971000000105  Urine alanine:creatinine ratio (observable ent...   \n380163  S-999981000000107  Urine valine:creatinine ratio (observable entity)   \n380164  S-999991000000109  Urine tyrosine:creatinine ratio (observable en...   \n\n        tty  tui                sty       onto  \n0       NaN  NaN           organism  SNOMED-CT  \n1       NaN  NaN          substance  SNOMED-CT  \n2       NaN  NaN           organism  SNOMED-CT  \n3       NaN  NaN          procedure  SNOMED-CT  \n4       NaN  NaN     body structure  SNOMED-CT  \n5       NaN  NaN     body structure  SNOMED-CT  \n6       NaN  NaN     body structure  SNOMED-CT  \n7       NaN  NaN           disorder  SNOMED-CT  \n8       NaN  NaN     body structure  SNOMED-CT  \n9       NaN  NaN     body structure  SNOMED-CT  \n10      NaN  NaN           organism  SNOMED-CT  \n11      NaN  NaN         occupation  SNOMED-CT  \n12      NaN  NaN           organism  SNOMED-CT  \n13      NaN  NaN          procedure  SNOMED-CT  \n14      NaN  NaN     body structure  SNOMED-CT  \n15      NaN  NaN           organism  SNOMED-CT  \n16      NaN  NaN           organism  SNOMED-CT  \n17      NaN  NaN          procedure  SNOMED-CT  \n18      NaN  NaN          substance  SNOMED-CT  \n19      NaN  NaN          procedure  SNOMED-CT  \n20      NaN  NaN           disorder  SNOMED-CT  \n21      NaN  NaN     body structure  SNOMED-CT  \n22      NaN  NaN          substance  SNOMED-CT  \n23      NaN  NaN          substance  SNOMED-CT  \n24      NaN  NaN           disorder  SNOMED-CT  \n25      NaN  NaN          procedure  SNOMED-CT  \n26      NaN  NaN            finding  SNOMED-CT  \n27      NaN  NaN          substance  SNOMED-CT  \n28      NaN  NaN          substance  SNOMED-CT  \n29      NaN  NaN           organism  SNOMED-CT  \n...     ...  ...                ...        ...  \n380135  NaN  NaN  observable entity  SNOMED-CT  \n380136  NaN  NaN  observable entity  SNOMED-CT  \n380137  NaN  NaN  observable entity  SNOMED-CT  \n380138  NaN  NaN  observable entity  SNOMED-CT  \n380139  NaN  NaN  observable entity  SNOMED-CT  \n380140  NaN  NaN  observable entity  SNOMED-CT  \n380141  NaN  NaN  observable entity  SNOMED-CT  \n380142  NaN  NaN  observable entity  SNOMED-CT  \n380143  NaN  NaN  observable entity  SNOMED-CT  \n380144  NaN  NaN  observable entity  SNOMED-CT  \n380145  NaN  NaN  observable entity  SNOMED-CT  \n380146  NaN  NaN  observable entity  SNOMED-CT  \n380147  NaN  NaN  observable entity  SNOMED-CT  \n380148  NaN  NaN  observable entity  SNOMED-CT  \n380149  NaN  NaN  observable entity  SNOMED-CT  \n380150  NaN  NaN  observable entity  SNOMED-CT  \n380151  NaN  NaN  observable entity  SNOMED-CT  \n380152  NaN  NaN  observable entity  SNOMED-CT  \n380153  NaN  NaN  observable entity  SNOMED-CT  \n380154  NaN  NaN  observable entity  SNOMED-CT  \n380155  NaN  NaN  observable entity  SNOMED-CT  \n380156  NaN  NaN  observable entity  SNOMED-CT  \n380157  NaN  NaN  observable entity  SNOMED-CT  \n380158  NaN  NaN  observable entity  SNOMED-CT  \n380159  NaN  NaN  observable entity  SNOMED-CT  \n380160  NaN  NaN  observable entity  SNOMED-CT  \n380161  NaN  NaN  observable entity  SNOMED-CT  \n380162  NaN  NaN  observable entity  SNOMED-CT  \n380163  NaN  NaN  observable entity  SNOMED-CT  \n380164  NaN  NaN  observable entity  SNOMED-CT  \n\n[380165 rows x 6 columns]",
      "text/html": "<div>\n<style scoped>\n    .dataframe tbody tr th:only-of-type {\n        vertical-align: middle;\n    }\n\n    .dataframe tbody tr th {\n        vertical-align: top;\n    }\n\n    .dataframe thead th {\n        text-align: right;\n    }\n</style>\n<table border=\"1\" class=\"dataframe\">\n  <thead>\n    <tr style=\"text-align: right;\">\n      <th></th>\n      <th>cui</th>\n      <th>str</th>\n      <th>tty</th>\n      <th>tui</th>\n      <th>sty</th>\n      <th>onto</th>\n    </tr>\n  </thead>\n  <tbody>\n    <tr>\n      <th>0</th>\n      <td>S-101009</td>\n      <td>Quilonia ethiopica (organism)</td>\n      <td>NaN</td>\n      <td>NaN</td>\n      <td>organism</td>\n      <td>SNOMED-CT</td>\n    </tr>\n    <tr>\n      <th>1</th>\n      <td>S-102002</td>\n      <td>Hemoglobin Okaloosa (substance)</td>\n      <td>NaN</td>\n      <td>NaN</td>\n      <td>substance</td>\n      <td>SNOMED-CT</td>\n    </tr>\n    <tr>\n      <th>2</th>\n      <td>S-103007</td>\n      <td>Squirrel fibroma virus (organism)</td>\n      <td>NaN</td>\n      <td>NaN</td>\n      <td>organism</td>\n      <td>SNOMED-CT</td>\n    </tr>\n    <tr>\n      <th>3</th>\n      <td>S-104001</td>\n      <td>Excision of lesion of patella (procedure)</td>\n      <td>NaN</td>\n      <td>NaN</td>\n      <td>procedure</td>\n      <td>SNOMED-CT</td>\n    </tr>\n    <tr>\n      <th>4</th>\n      <td>S-106004</td>\n      <td>Structure of posterior carpal region (body str...</td>\n      <td>NaN</td>\n      <td>NaN</td>\n      <td>body structure</td>\n      <td>SNOMED-CT</td>\n    </tr>\n    <tr>\n      <th>5</th>\n      <td>S-107008</td>\n      <td>Structure of fetal part of placenta (body stru...</td>\n      <td>NaN</td>\n      <td>NaN</td>\n      <td>body structure</td>\n      <td>SNOMED-CT</td>\n    </tr>\n    <tr>\n      <th>6</th>\n      <td>S-108003</td>\n      <td>Entire condylar emissary vein (body structure)</td>\n      <td>NaN</td>\n      <td>NaN</td>\n      <td>body structure</td>\n      <td>SNOMED-CT</td>\n    </tr>\n    <tr>\n      <th>7</th>\n      <td>S-109006</td>\n      <td>Anxiety disorder of childhood OR adolescence (...</td>\n      <td>NaN</td>\n      <td>NaN</td>\n      <td>disorder</td>\n      <td>SNOMED-CT</td>\n    </tr>\n    <tr>\n      <th>8</th>\n      <td>S-110001</td>\n      <td>Structure of visceral layer of Bowman's capsul...</td>\n      <td>NaN</td>\n      <td>NaN</td>\n      <td>body structure</td>\n      <td>SNOMED-CT</td>\n    </tr>\n    <tr>\n      <th>9</th>\n      <td>S-111002</td>\n      <td>Parathyroid structure (body structure)</td>\n      <td>NaN</td>\n      <td>NaN</td>\n      <td>body structure</td>\n      <td>SNOMED-CT</td>\n    </tr>\n    <tr>\n      <th>10</th>\n      <td>S-112009</td>\n      <td>Bembrops anatirostris (organism)</td>\n      <td>NaN</td>\n      <td>NaN</td>\n      <td>organism</td>\n      <td>SNOMED-CT</td>\n    </tr>\n    <tr>\n      <th>11</th>\n      <td>S-113004</td>\n      <td>Type-casting-machine operator (occupation)</td>\n      <td>NaN</td>\n      <td>NaN</td>\n      <td>occupation</td>\n      <td>SNOMED-CT</td>\n    </tr>\n    <tr>\n      <th>12</th>\n      <td>S-114005</td>\n      <td>Feline calicivirus (organism)</td>\n      <td>NaN</td>\n      <td>NaN</td>\n      <td>organism</td>\n      <td>SNOMED-CT</td>\n    </tr>\n    <tr>\n      <th>13</th>\n      <td>S-115006</td>\n      <td>Removable appliance therapy (procedure)</td>\n      <td>NaN</td>\n      <td>NaN</td>\n      <td>procedure</td>\n      <td>SNOMED-CT</td>\n    </tr>\n    <tr>\n      <th>14</th>\n      <td>S-116007</td>\n      <td>Subcutaneous tissue structure of medial surfac...</td>\n      <td>NaN</td>\n      <td>NaN</td>\n      <td>body structure</td>\n      <td>SNOMED-CT</td>\n    </tr>\n    <tr>\n      <th>15</th>\n      <td>S-117003</td>\n      <td>Rhipicephalus sanguineus (organism)</td>\n      <td>NaN</td>\n      <td>NaN</td>\n      <td>organism</td>\n      <td>SNOMED-CT</td>\n    </tr>\n    <tr>\n      <th>16</th>\n      <td>S-118008</td>\n      <td>Black buffalo weaver (organism)</td>\n      <td>NaN</td>\n      <td>NaN</td>\n      <td>organism</td>\n      <td>SNOMED-CT</td>\n    </tr>\n    <tr>\n      <th>17</th>\n      <td>S-119000</td>\n      <td>Thoracoscopic partial lobectomy of lung (proce...</td>\n      <td>NaN</td>\n      <td>NaN</td>\n      <td>procedure</td>\n      <td>SNOMED-CT</td>\n    </tr>\n    <tr>\n      <th>18</th>\n      <td>S-120006</td>\n      <td>Ornithine racemase (substance)</td>\n      <td>NaN</td>\n      <td>NaN</td>\n      <td>substance</td>\n      <td>SNOMED-CT</td>\n    </tr>\n    <tr>\n      <th>19</th>\n      <td>S-121005</td>\n      <td>Retrobulbar injection of therapeutic agent (pr...</td>\n      <td>NaN</td>\n      <td>NaN</td>\n      <td>procedure</td>\n      <td>SNOMED-CT</td>\n    </tr>\n    <tr>\n      <th>20</th>\n      <td>S-122003</td>\n      <td>Choroidal hemorrhage (disorder)</td>\n      <td>NaN</td>\n      <td>NaN</td>\n      <td>disorder</td>\n      <td>SNOMED-CT</td>\n    </tr>\n    <tr>\n      <th>21</th>\n      <td>S-124002</td>\n      <td>Structure of coronoid process of mandible (bod...</td>\n      <td>NaN</td>\n      <td>NaN</td>\n      <td>body structure</td>\n      <td>SNOMED-CT</td>\n    </tr>\n    <tr>\n      <th>22</th>\n      <td>S-125001</td>\n      <td>Ferrous (59-Fe) sulfate (substance)</td>\n      <td>NaN</td>\n      <td>NaN</td>\n      <td>substance</td>\n      <td>SNOMED-CT</td>\n    </tr>\n    <tr>\n      <th>23</th>\n      <td>S-126000</td>\n      <td>Galactosyl-N-acetylglucosaminylgalactosylgluco...</td>\n      <td>NaN</td>\n      <td>NaN</td>\n      <td>substance</td>\n      <td>SNOMED-CT</td>\n    </tr>\n    <tr>\n      <th>24</th>\n      <td>S-127009</td>\n      <td>Miscarriage with laceration of cervix (disorder)</td>\n      <td>NaN</td>\n      <td>NaN</td>\n      <td>disorder</td>\n      <td>SNOMED-CT</td>\n    </tr>\n    <tr>\n      <th>25</th>\n      <td>S-128004</td>\n      <td>Hand microscope examination of skin (procedure)</td>\n      <td>NaN</td>\n      <td>NaN</td>\n      <td>procedure</td>\n      <td>SNOMED-CT</td>\n    </tr>\n    <tr>\n      <th>26</th>\n      <td>S-129007</td>\n      <td>Homoiothermia (finding)</td>\n      <td>NaN</td>\n      <td>NaN</td>\n      <td>finding</td>\n      <td>SNOMED-CT</td>\n    </tr>\n    <tr>\n      <th>27</th>\n      <td>S-130002</td>\n      <td>Hemoglobin Hopkins-II (substance)</td>\n      <td>NaN</td>\n      <td>NaN</td>\n      <td>substance</td>\n      <td>SNOMED-CT</td>\n    </tr>\n    <tr>\n      <th>28</th>\n      <td>S-131003</td>\n      <td>Dolichyl-phosphate mannosyltransferase (substa...</td>\n      <td>NaN</td>\n      <td>NaN</td>\n      <td>substance</td>\n      <td>SNOMED-CT</td>\n    </tr>\n    <tr>\n      <th>29</th>\n      <td>S-132005</td>\n      <td>Serraniculus pumilio (organism)</td>\n      <td>NaN</td>\n      <td>NaN</td>\n      <td>organism</td>\n      <td>SNOMED-CT</td>\n    </tr>\n    <tr>\n      <th>...</th>\n      <td>...</td>\n      <td>...</td>\n      <td>...</td>\n      <td>...</td>\n      <td>...</td>\n      <td>...</td>\n    </tr>\n    <tr>\n      <th>380135</th>\n      <td>S-999701000000104</td>\n      <td>Serum conjugated:total bilirubin ratio (observ...</td>\n      <td>NaN</td>\n      <td>NaN</td>\n      <td>observable entity</td>\n      <td>SNOMED-CT</td>\n    </tr>\n    <tr>\n      <th>380136</th>\n      <td>S-999711000000102</td>\n      <td>Aspergillus nucleic acid detection assay (obse...</td>\n      <td>NaN</td>\n      <td>NaN</td>\n      <td>observable entity</td>\n      <td>SNOMED-CT</td>\n    </tr>\n    <tr>\n      <th>380137</th>\n      <td>S-999721000000108</td>\n      <td>Serum disopyramide concentration (observable e...</td>\n      <td>NaN</td>\n      <td>NaN</td>\n      <td>observable entity</td>\n      <td>SNOMED-CT</td>\n    </tr>\n    <tr>\n      <th>380138</th>\n      <td>S-999731000000105</td>\n      <td>Hepatitis D nucleic acid detection assay (obse...</td>\n      <td>NaN</td>\n      <td>NaN</td>\n      <td>observable entity</td>\n      <td>SNOMED-CT</td>\n    </tr>\n    <tr>\n      <th>380139</th>\n      <td>S-999741000000101</td>\n      <td>Anchovy RAST test (observable entity)</td>\n      <td>NaN</td>\n      <td>NaN</td>\n      <td>observable entity</td>\n      <td>SNOMED-CT</td>\n    </tr>\n    <tr>\n      <th>380140</th>\n      <td>S-999751000000103</td>\n      <td>Ribonucleoprotein 70 antibody level (observabl...</td>\n      <td>NaN</td>\n      <td>NaN</td>\n      <td>observable entity</td>\n      <td>SNOMED-CT</td>\n    </tr>\n    <tr>\n      <th>380141</th>\n      <td>S-999761000000100</td>\n      <td>Scallop RAST test (observable entity)</td>\n      <td>NaN</td>\n      <td>NaN</td>\n      <td>observable entity</td>\n      <td>SNOMED-CT</td>\n    </tr>\n    <tr>\n      <th>380142</th>\n      <td>S-999771000000107</td>\n      <td>Diphtheria toxin neutralisation test (observab...</td>\n      <td>NaN</td>\n      <td>NaN</td>\n      <td>observable entity</td>\n      <td>SNOMED-CT</td>\n    </tr>\n    <tr>\n      <th>380143</th>\n      <td>S-999781000000109</td>\n      <td>Hypertonic cryohaemolysis test (observable ent...</td>\n      <td>NaN</td>\n      <td>NaN</td>\n      <td>observable entity</td>\n      <td>SNOMED-CT</td>\n    </tr>\n    <tr>\n      <th>380144</th>\n      <td>S-999791000000106</td>\n      <td>Haemoglobin A1c level - International Federati...</td>\n      <td>NaN</td>\n      <td>NaN</td>\n      <td>observable entity</td>\n      <td>SNOMED-CT</td>\n    </tr>\n    <tr>\n      <th>380145</th>\n      <td>S-999801000000105</td>\n      <td>5-hydroxyindole acetic acid level (observable ...</td>\n      <td>NaN</td>\n      <td>NaN</td>\n      <td>observable entity</td>\n      <td>SNOMED-CT</td>\n    </tr>\n    <tr>\n      <th>380146</th>\n      <td>S-999811000000107</td>\n      <td>Anisakis RAST test (observable entity)</td>\n      <td>NaN</td>\n      <td>NaN</td>\n      <td>observable entity</td>\n      <td>SNOMED-CT</td>\n    </tr>\n    <tr>\n      <th>380147</th>\n      <td>S-999821000000101</td>\n      <td>Phenylalanine/tyrosine ratio (observable entity)</td>\n      <td>NaN</td>\n      <td>NaN</td>\n      <td>observable entity</td>\n      <td>SNOMED-CT</td>\n    </tr>\n    <tr>\n      <th>380148</th>\n      <td>S-999831000000104</td>\n      <td>Recombinant Cor a 1 hazelnut specific IgE anti...</td>\n      <td>NaN</td>\n      <td>NaN</td>\n      <td>observable entity</td>\n      <td>SNOMED-CT</td>\n    </tr>\n    <tr>\n      <th>380149</th>\n      <td>S-999841000000108</td>\n      <td>Recombinant Cor a 8 hazelnut specific IgE anti...</td>\n      <td>NaN</td>\n      <td>NaN</td>\n      <td>observable entity</td>\n      <td>SNOMED-CT</td>\n    </tr>\n    <tr>\n      <th>380150</th>\n      <td>S-999851000000106</td>\n      <td>Tropomyosin RAST test (observable entity)</td>\n      <td>NaN</td>\n      <td>NaN</td>\n      <td>observable entity</td>\n      <td>SNOMED-CT</td>\n    </tr>\n    <tr>\n      <th>380151</th>\n      <td>S-999861000000109</td>\n      <td>Plasma renin activity (observable entity)</td>\n      <td>NaN</td>\n      <td>NaN</td>\n      <td>observable entity</td>\n      <td>SNOMED-CT</td>\n    </tr>\n    <tr>\n      <th>380152</th>\n      <td>S-999871000000102</td>\n      <td>Urine amylase:creatinine ratio (observable ent...</td>\n      <td>NaN</td>\n      <td>NaN</td>\n      <td>observable entity</td>\n      <td>SNOMED-CT</td>\n    </tr>\n    <tr>\n      <th>380153</th>\n      <td>S-999881000000100</td>\n      <td>Urine phosphate:creatinine ratio (observable e...</td>\n      <td>NaN</td>\n      <td>NaN</td>\n      <td>observable entity</td>\n      <td>SNOMED-CT</td>\n    </tr>\n    <tr>\n      <th>380154</th>\n      <td>S-999891000000103</td>\n      <td>Serum retinol binding protein level (observabl...</td>\n      <td>NaN</td>\n      <td>NaN</td>\n      <td>observable entity</td>\n      <td>SNOMED-CT</td>\n    </tr>\n    <tr>\n      <th>380155</th>\n      <td>S-999901000000102</td>\n      <td>Urine dopamine:creatinine ratio (observable en...</td>\n      <td>NaN</td>\n      <td>NaN</td>\n      <td>observable entity</td>\n      <td>SNOMED-CT</td>\n    </tr>\n    <tr>\n      <th>380156</th>\n      <td>S-999911000000100</td>\n      <td>Urine 5-hydroxyindoleacetic acid:creatinine ra...</td>\n      <td>NaN</td>\n      <td>NaN</td>\n      <td>observable entity</td>\n      <td>SNOMED-CT</td>\n    </tr>\n    <tr>\n      <th>380157</th>\n      <td>S-999921000000106</td>\n      <td>Urine adrenaline:creatinine ratio (observable ...</td>\n      <td>NaN</td>\n      <td>NaN</td>\n      <td>observable entity</td>\n      <td>SNOMED-CT</td>\n    </tr>\n    <tr>\n      <th>380158</th>\n      <td>S-999931000000108</td>\n      <td>Urine catecholamine:creatinine ratio (observab...</td>\n      <td>NaN</td>\n      <td>NaN</td>\n      <td>observable entity</td>\n      <td>SNOMED-CT</td>\n    </tr>\n    <tr>\n      <th>380159</th>\n      <td>S-999941000000104</td>\n      <td>Urine leucine:creatinine ratio (observable ent...</td>\n      <td>NaN</td>\n      <td>NaN</td>\n      <td>observable entity</td>\n      <td>SNOMED-CT</td>\n    </tr>\n    <tr>\n      <th>380160</th>\n      <td>S-999951000000101</td>\n      <td>Urine homocysteine:creatinine ratio (observabl...</td>\n      <td>NaN</td>\n      <td>NaN</td>\n      <td>observable entity</td>\n      <td>SNOMED-CT</td>\n    </tr>\n    <tr>\n      <th>380161</th>\n      <td>S-999961000000103</td>\n      <td>Urine aspartate:creatinine ratio (observable e...</td>\n      <td>NaN</td>\n      <td>NaN</td>\n      <td>observable entity</td>\n      <td>SNOMED-CT</td>\n    </tr>\n    <tr>\n      <th>380162</th>\n      <td>S-999971000000105</td>\n      <td>Urine alanine:creatinine ratio (observable ent...</td>\n      <td>NaN</td>\n      <td>NaN</td>\n      <td>observable entity</td>\n      <td>SNOMED-CT</td>\n    </tr>\n    <tr>\n      <th>380163</th>\n      <td>S-999981000000107</td>\n      <td>Urine valine:creatinine ratio (observable entity)</td>\n      <td>NaN</td>\n      <td>NaN</td>\n      <td>observable entity</td>\n      <td>SNOMED-CT</td>\n    </tr>\n    <tr>\n      <th>380164</th>\n      <td>S-999991000000109</td>\n      <td>Urine tyrosine:creatinine ratio (observable en...</td>\n      <td>NaN</td>\n      <td>NaN</td>\n      <td>observable entity</td>\n      <td>SNOMED-CT</td>\n    </tr>\n  </tbody>\n</table>\n<p>380165 rows × 6 columns</p>\n</div>"
     },
     "execution_count": 23,
     "metadata": {},
     "output_type": "execute_result"
    }
   ],
   "source": [
    "snomed_cdb_active_only # just for active concepts"
   ]
  },
  {
   "cell_type": "markdown",
   "metadata": {},
   "source": [
    "#### Create a MedCAT concept database including all synonyms"
   ]
  },
  {
   "cell_type": "code",
   "execution_count": 24,
   "metadata": {},
   "outputs": [],
   "source": [
    "_ = pd.merge(active_terms, active_descs, left_on=['id'], right_on=['conceptId'], how='inner')\n",
    "active_with_primary_desc = _[_['typeId'] == '900000000000003001']\n",
    "active_with_primary_desc = active_with_primary_desc.drop_duplicates(['id_x'], keep='first')\n",
    "active_with_synonym_desc = _[_['typeId'] == '900000000000013009']\n",
    "active_with_all_desc = pd.concat([active_with_primary_desc, active_with_synonym_desc])"
   ]
  },
  {
   "cell_type": "code",
   "execution_count": 25,
   "metadata": {},
   "outputs": [],
   "source": [
    "# Check if there are the same amount of active concepts\n",
    "assert len(active_with_all_desc[active_with_all_desc['typeId'] == '900000000000003001']) == len(active_terms)"
   ]
  },
  {
   "cell_type": "code",
   "execution_count": 26,
   "metadata": {},
   "outputs": [],
   "source": [
    "snomed_cdb_df = pd.merge(active_with_all_desc, active_with_desc, left_on=['id_x'], right_on=['conceptId'], how='inner')"
   ]
  },
  {
   "cell_type": "code",
   "execution_count": 27,
   "metadata": {
    "scrolled": true
   },
   "outputs": [
    {
     "data": {
      "text/plain": "                      cui                                                str  \\\n0                S-101009                      Quilonia ethiopica (organism)   \n1                S-101009                                 Quilonia ethiopica   \n2                S-102002                    Hemoglobin Okaloosa (substance)   \n3                S-102002                                Hemoglobin Okaloosa   \n4                S-102002                                Hb 48(CD7), Leu-arg   \n5                S-102002                               Haemoglobin Okaloosa   \n6                S-103007                  Squirrel fibroma virus (organism)   \n7                S-103007                             Squirrel fibroma virus   \n8                S-104001          Excision of lesion of patella (procedure)   \n9                S-104001                      Excision of lesion of patella   \n10               S-104001      Local excision of lesion or tissue of patella   \n11               S-106004  Structure of posterior carpal region (body str...   \n12               S-106004                            Posterior carpal region   \n13               S-106004               Structure of posterior carpal region   \n14               S-107008  Structure of fetal part of placenta (body stru...   \n15               S-107008                             Fetal part of placenta   \n16               S-107008                Structure of fetal part of placenta   \n17               S-107008               Structure of foetal part of placenta   \n18               S-108003     Entire condylar emissary vein (body structure)   \n19               S-108003                      Entire condylar emissary vein   \n20               S-109006  Anxiety disorder of childhood OR adolescence (...   \n21               S-109006       Anxiety disorder of childhood OR adolescence   \n22               S-110001  Structure of visceral layer of Bowman's capsul...   \n23               S-110001                 Visceral layer of Bowman's capsule   \n24               S-110001    Structure of visceral layer of Bowman's capsule   \n25               S-110001      Structure of visceral layer of Bowman capsule   \n26               S-111002             Parathyroid structure (body structure)   \n27               S-111002                                  Parathyroid gland   \n28               S-111002                                        Parathyroid   \n29               S-111002                              Parathyroid structure   \n...                   ...                                                ...   \n978768  S-999851000000106          Tropomyosin RAST test (observable entity)   \n978769  S-999851000000106                              Tropomyosin RAST test   \n978770  S-999861000000109          Plasma renin activity (observable entity)   \n978771  S-999861000000109                              Plasma renin activity   \n978772  S-999871000000102  Urine amylase:creatinine ratio (observable ent...   \n978773  S-999871000000102                     Urine amylase:creatinine ratio   \n978774  S-999881000000100  Urine phosphate:creatinine ratio (observable e...   \n978775  S-999881000000100                   Urine phosphate:creatinine ratio   \n978776  S-999891000000103  Serum retinol binding protein level (observabl...   \n978777  S-999891000000103                Serum retinol binding protein level   \n978778  S-999901000000102  Urine dopamine:creatinine ratio (observable en...   \n978779  S-999901000000102                    Urine dopamine:creatinine ratio   \n978780  S-999911000000100  Urine 5-hydroxyindoleacetic acid:creatinine ra...   \n978781  S-999911000000100  Urine 5HIAA (5-hydroxyindoleacetic acid):creat...   \n978782  S-999921000000106  Urine adrenaline:creatinine ratio (observable ...   \n978783  S-999921000000106                  Urine adrenaline:creatinine ratio   \n978784  S-999931000000108  Urine catecholamine:creatinine ratio (observab...   \n978785  S-999931000000108               Urine catecholamine:creatinine ratio   \n978786  S-999941000000104  Urine leucine:creatinine ratio (observable ent...   \n978787  S-999941000000104                     Urine leucine:creatinine ratio   \n978788  S-999951000000101  Urine homocysteine:creatinine ratio (observabl...   \n978789  S-999951000000101                Urine homocysteine:creatinine ratio   \n978790  S-999961000000103  Urine aspartate:creatinine ratio (observable e...   \n978791  S-999961000000103                   Urine aspartate:creatinine ratio   \n978792  S-999971000000105  Urine alanine:creatinine ratio (observable ent...   \n978793  S-999971000000105                     Urine alanine:creatinine ratio   \n978794  S-999981000000107  Urine valine:creatinine ratio (observable entity)   \n978795  S-999981000000107                      Urine valine:creatinine ratio   \n978796  S-999991000000109  Urine tyrosine:creatinine ratio (observable en...   \n978797  S-999991000000109                    Urine tyrosine:creatinine ratio   \n\n        tty                sty       onto  \n0         1           organism  SNOMED-CT  \n1         0           organism  SNOMED-CT  \n2         1          substance  SNOMED-CT  \n3         0          substance  SNOMED-CT  \n4         0          substance  SNOMED-CT  \n5         0          substance  SNOMED-CT  \n6         1           organism  SNOMED-CT  \n7         0           organism  SNOMED-CT  \n8         1          procedure  SNOMED-CT  \n9         0          procedure  SNOMED-CT  \n10        0          procedure  SNOMED-CT  \n11        1     body structure  SNOMED-CT  \n12        0     body structure  SNOMED-CT  \n13        0     body structure  SNOMED-CT  \n14        1     body structure  SNOMED-CT  \n15        0     body structure  SNOMED-CT  \n16        0     body structure  SNOMED-CT  \n17        0     body structure  SNOMED-CT  \n18        1     body structure  SNOMED-CT  \n19        0     body structure  SNOMED-CT  \n20        1           disorder  SNOMED-CT  \n21        0           disorder  SNOMED-CT  \n22        1     body structure  SNOMED-CT  \n23        0     body structure  SNOMED-CT  \n24        0     body structure  SNOMED-CT  \n25        0     body structure  SNOMED-CT  \n26        1     body structure  SNOMED-CT  \n27        0     body structure  SNOMED-CT  \n28        0     body structure  SNOMED-CT  \n29        0     body structure  SNOMED-CT  \n...     ...                ...        ...  \n978768    1  observable entity  SNOMED-CT  \n978769    0  observable entity  SNOMED-CT  \n978770    1  observable entity  SNOMED-CT  \n978771    0  observable entity  SNOMED-CT  \n978772    1  observable entity  SNOMED-CT  \n978773    0  observable entity  SNOMED-CT  \n978774    1  observable entity  SNOMED-CT  \n978775    0  observable entity  SNOMED-CT  \n978776    1  observable entity  SNOMED-CT  \n978777    0  observable entity  SNOMED-CT  \n978778    1  observable entity  SNOMED-CT  \n978779    0  observable entity  SNOMED-CT  \n978780    1  observable entity  SNOMED-CT  \n978781    0  observable entity  SNOMED-CT  \n978782    1  observable entity  SNOMED-CT  \n978783    0  observable entity  SNOMED-CT  \n978784    1  observable entity  SNOMED-CT  \n978785    0  observable entity  SNOMED-CT  \n978786    1  observable entity  SNOMED-CT  \n978787    0  observable entity  SNOMED-CT  \n978788    1  observable entity  SNOMED-CT  \n978789    0  observable entity  SNOMED-CT  \n978790    1  observable entity  SNOMED-CT  \n978791    0  observable entity  SNOMED-CT  \n978792    1  observable entity  SNOMED-CT  \n978793    0  observable entity  SNOMED-CT  \n978794    1  observable entity  SNOMED-CT  \n978795    0  observable entity  SNOMED-CT  \n978796    1  observable entity  SNOMED-CT  \n978797    0  observable entity  SNOMED-CT  \n\n[978798 rows x 5 columns]",
      "text/html": "<div>\n<style scoped>\n    .dataframe tbody tr th:only-of-type {\n        vertical-align: middle;\n    }\n\n    .dataframe tbody tr th {\n        vertical-align: top;\n    }\n\n    .dataframe thead th {\n        text-align: right;\n    }\n</style>\n<table border=\"1\" class=\"dataframe\">\n  <thead>\n    <tr style=\"text-align: right;\">\n      <th></th>\n      <th>cui</th>\n      <th>str</th>\n      <th>tty</th>\n      <th>sty</th>\n      <th>onto</th>\n    </tr>\n  </thead>\n  <tbody>\n    <tr>\n      <th>0</th>\n      <td>S-101009</td>\n      <td>Quilonia ethiopica (organism)</td>\n      <td>1</td>\n      <td>organism</td>\n      <td>SNOMED-CT</td>\n    </tr>\n    <tr>\n      <th>1</th>\n      <td>S-101009</td>\n      <td>Quilonia ethiopica</td>\n      <td>0</td>\n      <td>organism</td>\n      <td>SNOMED-CT</td>\n    </tr>\n    <tr>\n      <th>2</th>\n      <td>S-102002</td>\n      <td>Hemoglobin Okaloosa (substance)</td>\n      <td>1</td>\n      <td>substance</td>\n      <td>SNOMED-CT</td>\n    </tr>\n    <tr>\n      <th>3</th>\n      <td>S-102002</td>\n      <td>Hemoglobin Okaloosa</td>\n      <td>0</td>\n      <td>substance</td>\n      <td>SNOMED-CT</td>\n    </tr>\n    <tr>\n      <th>4</th>\n      <td>S-102002</td>\n      <td>Hb 48(CD7), Leu-arg</td>\n      <td>0</td>\n      <td>substance</td>\n      <td>SNOMED-CT</td>\n    </tr>\n    <tr>\n      <th>5</th>\n      <td>S-102002</td>\n      <td>Haemoglobin Okaloosa</td>\n      <td>0</td>\n      <td>substance</td>\n      <td>SNOMED-CT</td>\n    </tr>\n    <tr>\n      <th>6</th>\n      <td>S-103007</td>\n      <td>Squirrel fibroma virus (organism)</td>\n      <td>1</td>\n      <td>organism</td>\n      <td>SNOMED-CT</td>\n    </tr>\n    <tr>\n      <th>7</th>\n      <td>S-103007</td>\n      <td>Squirrel fibroma virus</td>\n      <td>0</td>\n      <td>organism</td>\n      <td>SNOMED-CT</td>\n    </tr>\n    <tr>\n      <th>8</th>\n      <td>S-104001</td>\n      <td>Excision of lesion of patella (procedure)</td>\n      <td>1</td>\n      <td>procedure</td>\n      <td>SNOMED-CT</td>\n    </tr>\n    <tr>\n      <th>9</th>\n      <td>S-104001</td>\n      <td>Excision of lesion of patella</td>\n      <td>0</td>\n      <td>procedure</td>\n      <td>SNOMED-CT</td>\n    </tr>\n    <tr>\n      <th>10</th>\n      <td>S-104001</td>\n      <td>Local excision of lesion or tissue of patella</td>\n      <td>0</td>\n      <td>procedure</td>\n      <td>SNOMED-CT</td>\n    </tr>\n    <tr>\n      <th>11</th>\n      <td>S-106004</td>\n      <td>Structure of posterior carpal region (body str...</td>\n      <td>1</td>\n      <td>body structure</td>\n      <td>SNOMED-CT</td>\n    </tr>\n    <tr>\n      <th>12</th>\n      <td>S-106004</td>\n      <td>Posterior carpal region</td>\n      <td>0</td>\n      <td>body structure</td>\n      <td>SNOMED-CT</td>\n    </tr>\n    <tr>\n      <th>13</th>\n      <td>S-106004</td>\n      <td>Structure of posterior carpal region</td>\n      <td>0</td>\n      <td>body structure</td>\n      <td>SNOMED-CT</td>\n    </tr>\n    <tr>\n      <th>14</th>\n      <td>S-107008</td>\n      <td>Structure of fetal part of placenta (body stru...</td>\n      <td>1</td>\n      <td>body structure</td>\n      <td>SNOMED-CT</td>\n    </tr>\n    <tr>\n      <th>15</th>\n      <td>S-107008</td>\n      <td>Fetal part of placenta</td>\n      <td>0</td>\n      <td>body structure</td>\n      <td>SNOMED-CT</td>\n    </tr>\n    <tr>\n      <th>16</th>\n      <td>S-107008</td>\n      <td>Structure of fetal part of placenta</td>\n      <td>0</td>\n      <td>body structure</td>\n      <td>SNOMED-CT</td>\n    </tr>\n    <tr>\n      <th>17</th>\n      <td>S-107008</td>\n      <td>Structure of foetal part of placenta</td>\n      <td>0</td>\n      <td>body structure</td>\n      <td>SNOMED-CT</td>\n    </tr>\n    <tr>\n      <th>18</th>\n      <td>S-108003</td>\n      <td>Entire condylar emissary vein (body structure)</td>\n      <td>1</td>\n      <td>body structure</td>\n      <td>SNOMED-CT</td>\n    </tr>\n    <tr>\n      <th>19</th>\n      <td>S-108003</td>\n      <td>Entire condylar emissary vein</td>\n      <td>0</td>\n      <td>body structure</td>\n      <td>SNOMED-CT</td>\n    </tr>\n    <tr>\n      <th>20</th>\n      <td>S-109006</td>\n      <td>Anxiety disorder of childhood OR adolescence (...</td>\n      <td>1</td>\n      <td>disorder</td>\n      <td>SNOMED-CT</td>\n    </tr>\n    <tr>\n      <th>21</th>\n      <td>S-109006</td>\n      <td>Anxiety disorder of childhood OR adolescence</td>\n      <td>0</td>\n      <td>disorder</td>\n      <td>SNOMED-CT</td>\n    </tr>\n    <tr>\n      <th>22</th>\n      <td>S-110001</td>\n      <td>Structure of visceral layer of Bowman's capsul...</td>\n      <td>1</td>\n      <td>body structure</td>\n      <td>SNOMED-CT</td>\n    </tr>\n    <tr>\n      <th>23</th>\n      <td>S-110001</td>\n      <td>Visceral layer of Bowman's capsule</td>\n      <td>0</td>\n      <td>body structure</td>\n      <td>SNOMED-CT</td>\n    </tr>\n    <tr>\n      <th>24</th>\n      <td>S-110001</td>\n      <td>Structure of visceral layer of Bowman's capsule</td>\n      <td>0</td>\n      <td>body structure</td>\n      <td>SNOMED-CT</td>\n    </tr>\n    <tr>\n      <th>25</th>\n      <td>S-110001</td>\n      <td>Structure of visceral layer of Bowman capsule</td>\n      <td>0</td>\n      <td>body structure</td>\n      <td>SNOMED-CT</td>\n    </tr>\n    <tr>\n      <th>26</th>\n      <td>S-111002</td>\n      <td>Parathyroid structure (body structure)</td>\n      <td>1</td>\n      <td>body structure</td>\n      <td>SNOMED-CT</td>\n    </tr>\n    <tr>\n      <th>27</th>\n      <td>S-111002</td>\n      <td>Parathyroid gland</td>\n      <td>0</td>\n      <td>body structure</td>\n      <td>SNOMED-CT</td>\n    </tr>\n    <tr>\n      <th>28</th>\n      <td>S-111002</td>\n      <td>Parathyroid</td>\n      <td>0</td>\n      <td>body structure</td>\n      <td>SNOMED-CT</td>\n    </tr>\n    <tr>\n      <th>29</th>\n      <td>S-111002</td>\n      <td>Parathyroid structure</td>\n      <td>0</td>\n      <td>body structure</td>\n      <td>SNOMED-CT</td>\n    </tr>\n    <tr>\n      <th>...</th>\n      <td>...</td>\n      <td>...</td>\n      <td>...</td>\n      <td>...</td>\n      <td>...</td>\n    </tr>\n    <tr>\n      <th>978768</th>\n      <td>S-999851000000106</td>\n      <td>Tropomyosin RAST test (observable entity)</td>\n      <td>1</td>\n      <td>observable entity</td>\n      <td>SNOMED-CT</td>\n    </tr>\n    <tr>\n      <th>978769</th>\n      <td>S-999851000000106</td>\n      <td>Tropomyosin RAST test</td>\n      <td>0</td>\n      <td>observable entity</td>\n      <td>SNOMED-CT</td>\n    </tr>\n    <tr>\n      <th>978770</th>\n      <td>S-999861000000109</td>\n      <td>Plasma renin activity (observable entity)</td>\n      <td>1</td>\n      <td>observable entity</td>\n      <td>SNOMED-CT</td>\n    </tr>\n    <tr>\n      <th>978771</th>\n      <td>S-999861000000109</td>\n      <td>Plasma renin activity</td>\n      <td>0</td>\n      <td>observable entity</td>\n      <td>SNOMED-CT</td>\n    </tr>\n    <tr>\n      <th>978772</th>\n      <td>S-999871000000102</td>\n      <td>Urine amylase:creatinine ratio (observable ent...</td>\n      <td>1</td>\n      <td>observable entity</td>\n      <td>SNOMED-CT</td>\n    </tr>\n    <tr>\n      <th>978773</th>\n      <td>S-999871000000102</td>\n      <td>Urine amylase:creatinine ratio</td>\n      <td>0</td>\n      <td>observable entity</td>\n      <td>SNOMED-CT</td>\n    </tr>\n    <tr>\n      <th>978774</th>\n      <td>S-999881000000100</td>\n      <td>Urine phosphate:creatinine ratio (observable e...</td>\n      <td>1</td>\n      <td>observable entity</td>\n      <td>SNOMED-CT</td>\n    </tr>\n    <tr>\n      <th>978775</th>\n      <td>S-999881000000100</td>\n      <td>Urine phosphate:creatinine ratio</td>\n      <td>0</td>\n      <td>observable entity</td>\n      <td>SNOMED-CT</td>\n    </tr>\n    <tr>\n      <th>978776</th>\n      <td>S-999891000000103</td>\n      <td>Serum retinol binding protein level (observabl...</td>\n      <td>1</td>\n      <td>observable entity</td>\n      <td>SNOMED-CT</td>\n    </tr>\n    <tr>\n      <th>978777</th>\n      <td>S-999891000000103</td>\n      <td>Serum retinol binding protein level</td>\n      <td>0</td>\n      <td>observable entity</td>\n      <td>SNOMED-CT</td>\n    </tr>\n    <tr>\n      <th>978778</th>\n      <td>S-999901000000102</td>\n      <td>Urine dopamine:creatinine ratio (observable en...</td>\n      <td>1</td>\n      <td>observable entity</td>\n      <td>SNOMED-CT</td>\n    </tr>\n    <tr>\n      <th>978779</th>\n      <td>S-999901000000102</td>\n      <td>Urine dopamine:creatinine ratio</td>\n      <td>0</td>\n      <td>observable entity</td>\n      <td>SNOMED-CT</td>\n    </tr>\n    <tr>\n      <th>978780</th>\n      <td>S-999911000000100</td>\n      <td>Urine 5-hydroxyindoleacetic acid:creatinine ra...</td>\n      <td>1</td>\n      <td>observable entity</td>\n      <td>SNOMED-CT</td>\n    </tr>\n    <tr>\n      <th>978781</th>\n      <td>S-999911000000100</td>\n      <td>Urine 5HIAA (5-hydroxyindoleacetic acid):creat...</td>\n      <td>0</td>\n      <td>observable entity</td>\n      <td>SNOMED-CT</td>\n    </tr>\n    <tr>\n      <th>978782</th>\n      <td>S-999921000000106</td>\n      <td>Urine adrenaline:creatinine ratio (observable ...</td>\n      <td>1</td>\n      <td>observable entity</td>\n      <td>SNOMED-CT</td>\n    </tr>\n    <tr>\n      <th>978783</th>\n      <td>S-999921000000106</td>\n      <td>Urine adrenaline:creatinine ratio</td>\n      <td>0</td>\n      <td>observable entity</td>\n      <td>SNOMED-CT</td>\n    </tr>\n    <tr>\n      <th>978784</th>\n      <td>S-999931000000108</td>\n      <td>Urine catecholamine:creatinine ratio (observab...</td>\n      <td>1</td>\n      <td>observable entity</td>\n      <td>SNOMED-CT</td>\n    </tr>\n    <tr>\n      <th>978785</th>\n      <td>S-999931000000108</td>\n      <td>Urine catecholamine:creatinine ratio</td>\n      <td>0</td>\n      <td>observable entity</td>\n      <td>SNOMED-CT</td>\n    </tr>\n    <tr>\n      <th>978786</th>\n      <td>S-999941000000104</td>\n      <td>Urine leucine:creatinine ratio (observable ent...</td>\n      <td>1</td>\n      <td>observable entity</td>\n      <td>SNOMED-CT</td>\n    </tr>\n    <tr>\n      <th>978787</th>\n      <td>S-999941000000104</td>\n      <td>Urine leucine:creatinine ratio</td>\n      <td>0</td>\n      <td>observable entity</td>\n      <td>SNOMED-CT</td>\n    </tr>\n    <tr>\n      <th>978788</th>\n      <td>S-999951000000101</td>\n      <td>Urine homocysteine:creatinine ratio (observabl...</td>\n      <td>1</td>\n      <td>observable entity</td>\n      <td>SNOMED-CT</td>\n    </tr>\n    <tr>\n      <th>978789</th>\n      <td>S-999951000000101</td>\n      <td>Urine homocysteine:creatinine ratio</td>\n      <td>0</td>\n      <td>observable entity</td>\n      <td>SNOMED-CT</td>\n    </tr>\n    <tr>\n      <th>978790</th>\n      <td>S-999961000000103</td>\n      <td>Urine aspartate:creatinine ratio (observable e...</td>\n      <td>1</td>\n      <td>observable entity</td>\n      <td>SNOMED-CT</td>\n    </tr>\n    <tr>\n      <th>978791</th>\n      <td>S-999961000000103</td>\n      <td>Urine aspartate:creatinine ratio</td>\n      <td>0</td>\n      <td>observable entity</td>\n      <td>SNOMED-CT</td>\n    </tr>\n    <tr>\n      <th>978792</th>\n      <td>S-999971000000105</td>\n      <td>Urine alanine:creatinine ratio (observable ent...</td>\n      <td>1</td>\n      <td>observable entity</td>\n      <td>SNOMED-CT</td>\n    </tr>\n    <tr>\n      <th>978793</th>\n      <td>S-999971000000105</td>\n      <td>Urine alanine:creatinine ratio</td>\n      <td>0</td>\n      <td>observable entity</td>\n      <td>SNOMED-CT</td>\n    </tr>\n    <tr>\n      <th>978794</th>\n      <td>S-999981000000107</td>\n      <td>Urine valine:creatinine ratio (observable entity)</td>\n      <td>1</td>\n      <td>observable entity</td>\n      <td>SNOMED-CT</td>\n    </tr>\n    <tr>\n      <th>978795</th>\n      <td>S-999981000000107</td>\n      <td>Urine valine:creatinine ratio</td>\n      <td>0</td>\n      <td>observable entity</td>\n      <td>SNOMED-CT</td>\n    </tr>\n    <tr>\n      <th>978796</th>\n      <td>S-999991000000109</td>\n      <td>Urine tyrosine:creatinine ratio (observable en...</td>\n      <td>1</td>\n      <td>observable entity</td>\n      <td>SNOMED-CT</td>\n    </tr>\n    <tr>\n      <th>978797</th>\n      <td>S-999991000000109</td>\n      <td>Urine tyrosine:creatinine ratio</td>\n      <td>0</td>\n      <td>observable entity</td>\n      <td>SNOMED-CT</td>\n    </tr>\n  </tbody>\n</table>\n<p>978798 rows × 5 columns</p>\n</div>"
     },
     "execution_count": 27,
     "metadata": {},
     "output_type": "execute_result"
    }
   ],
   "source": [
    "# clean up the merge and rename the columns to fit the medcat Concept database criteria\n",
    "snomed_cdb_df = snomed_cdb_df.loc[:, ['id_x_x','term_x','typeId_x','tui']]\n",
    "snomed_cdb_df.columns = ['cui', 'str', 'tty', 'sty']\n",
    "snomed_cdb_df['onto'] = 'SNOMED-CT'\n",
    "snomed_cdb_df['tty'] = snomed_cdb_df['tty'].replace(['900000000000003001', '900000000000013009'], [1,0])\n",
    "snomed_cdb_df['cui'] = 'S-' + snomed_cdb_df['cui'].astype(str)\n",
    "snomed_cdb_df"
   ]
  },
  {
   "cell_type": "markdown",
   "metadata": {},
   "source": [
    "There are 58 Semantic Tag categories total in the SNOMED taxonomy\n",
    "- There is one root concept.\n",
    "- There are 19 top level terms in bold.\n",
    "- There are 39 sub terms.\n",
    "\n",
    "Each semantic Tag is provided with a __term unique identifier (TUI)__ which are structured are follows:\n",
    "T- {##}{1#}{2#}{3#}\n",
    "- {T- }  -> Common to all codes\n",
    "- {##}  -> Top level terms in alphabetical order\n",
    "- {#1}  -> First level term group\n",
    "- {#2}  -> Second level term group\n",
    "- {#3}  -> Third level term group\n",
    "\n",
    "\n",
    "### Specifying top levels terms and Semantic Tags\n",
    "\n",
    "|Top level code|Term (TUI) |Semantic Tag|\n",
    "|:---:|:---:|:---|\n",
    "|__Root code__|__T-00000__|__SNOMED RT+CTV3__|\n",
    "||||\n",
    "|__Y__|__T-01000__|__Body structure (body structure)__|\n",
    "|N|T-01100|morphologic abnormality|\n",
    "|N|T-01200|cell structure|\n",
    "|N|T-01210|cell|\n",
    "||||\n",
    "|__Y__|__T-02000__|__Clinical finding (finding)__|\n",
    "|N|T-02100|disorder|\n",
    "||||\n",
    "|__Y__|__T-03000__|__Environment or geographical location (environment / location)__|\n",
    "|N|T-03100|environment|\n",
    "|N|T-03200|geographic location|\n",
    "||||\n",
    "|__Y__|__T-04000__|__Event (event)__|\n",
    "||||\n",
    "|__Y__|__T-05000__|__Observable entity (observable entity)__|\n",
    "||||\n",
    "|__Y__|__T-06000__|__Organism (organism)__|\n",
    "||||\n",
    "|__Y__|__T-07000__|__Pharmaceutical / biologic product (product)__|\n",
    "|N|T-07100|medicinal product|\n",
    "|N|T-07110|medicinal product form|\n",
    "|N|T-07111|clinical drug|\n",
    "|__Y__|__T-08000__|__Physical force (physical force)__|\n",
    "||||\n",
    "|__Y__|__T-09000__|__Physical object (physical object)__|\n",
    "||||\n",
    "|__Y__|__T-10000__|__Procedure (procedure)__|\n",
    "|N|T-10100|regime/therapy|\n",
    "||||\n",
    "|__Y__|__T-11000__|__Qualifier value (qualifier value)__|\n",
    "|N|T-11100|administration method|\n",
    "|N|T-11200|disposition|\n",
    "|N|T-11300|intended site|\n",
    "|N|T-11010|number|\n",
    "|N|T-11400|release characteristic|\n",
    "|N|T-11500|transformation|\n",
    "|N|T-11020|basic dose form|\n",
    "|N|T-11030|dose form|\n",
    "|N|T-11600|role|\n",
    "|N|T-11700|state of matter|\n",
    "|N|T-11040|unit of presentation|\n",
    "||||\n",
    "|__Y__|__T-12000__|__Record artifact (record artifact)__|\n",
    "||||\n",
    "|__Y__|__T-13000__|__Situation with explicit context (situation)__|\n",
    "||||\n",
    "|__Y__|__T-14000__|__SNOMED CT Model Component (metadata)__|\n",
    "|N|T-14100|core metadata concept|\n",
    "|N|T-14200|foundation metadata concept|\n",
    "|N|T-14300|linkage concept|\n",
    "|N|T-14310|attribute|\n",
    "|N|T-14320|link assertion|\n",
    "|N|T-14400|namespace concept|\n",
    "|N|T-14500|OWL metadata concept|\n",
    "||||\n",
    "|__Y__|__T-15000__|__Social context (social concept)__|\n",
    "|N|T-15100|life style|\n",
    "|N|T-15010|racial group|\n",
    "|N|T-15020|ethnic group|\n",
    "|N|T-15200|occupation|\n",
    "|N|T-15300|person|\n",
    "|N|T-15400|religion/philosophy|\n",
    "||||\n",
    "|__Y__|__T-16000__|__Special concept (special concept)__|\n",
    "|N|T-16100|inactive concept|\n",
    "|N|T-16200|navigational concept|\n",
    "||||\n",
    "|__Y__|__T-17000__|__Specimen (specimen)__|\n",
    "||||\n",
    "|__Y__|__T-18000__|__Staging and scales (staging scale)__|\n",
    "|N|T-18100|assessment scale|\n",
    "|N|T-18200|tumor staging|\n",
    "||||\n",
    "|__Y__|__T-19000__|__Substance (substance)__|\n",
    "||||\n"
   ]
  },
  {
   "cell_type": "code",
   "execution_count": 28,
   "metadata": {
    "scrolled": true
   },
   "outputs": [
    {
     "name": "stdout",
     "output_type": "stream",
     "text": [
      "['OWL metadata concept', 'SNOMED RT+CTV3', 'administration method', 'assessment scale', 'attribute', 'basic dose form', 'body structure', 'cell', 'cell structure', 'clinical drug', 'core metadata concept', 'disorder', 'disposition', 'dose form', 'environment', 'environment / location', 'ethnic group', 'event', 'finding', 'foundation metadata concept', 'geographic location', 'inactive concept', 'intended site', 'life style', 'link assertion', 'linkage concept', 'medicinal product', 'medicinal product form', 'metadata', 'morphologic abnormality', 'namespace concept', 'navigational concept', 'number', 'observable entity', 'occupation', 'organism', 'person', 'physical force', 'physical object', 'procedure', 'product', 'product name', 'qualifier value', 'racial group', 'record artifact', 'regime/therapy', 'release characteristic', 'religion/philosophy', 'role', 'situation', 'social concept', 'special concept', 'specimen', 'staging scale', 'state of matter', 'substance', 'supplier', 'transformation', 'tumor staging', 'unit of presentation']\n"
     ]
    }
   ],
   "source": [
    "# List of all Semantic Tags\n",
    "terms_list = snomed_cdb_df['sty'].unique().tolist()\n",
    "terms_list.sort()\n",
    "print(terms_list)"
   ]
  },
  {
   "cell_type": "code",
   "execution_count": 36,
   "metadata": {},
   "outputs": [],
   "source": [
    "terms_dict = {\n",
    "    \"T-00000\":\"SNOMED RT+CTV3\",\n",
    "    \"T-01000\":\"body structure\",\n",
    "    \"T-01100\":\"morphologic abnormality\",\n",
    "    \"T-01200\":\"cell structure\",\n",
    "    \"T-01210\":\"cell\",\n",
    "    \"T-02000\":\"finding\",\n",
    "    \"T-02100\":\"disorder\",\n",
    "    \"T-03000\":\"environment / location\",\n",
    "    \"T-03100\":\"environment\",\n",
    "    \"T-03200\":\"geographic location\",\n",
    "    \"T-04000\":\"event\",\n",
    "    \"T-05000\":\"observable entity\",\n",
    "    \"T-06000\":\"organism\",\n",
    "    \"T-07000\":\"product\",\n",
    "    \"T-07100\":\"medicinal product\",\n",
    "    \"T-07110\":\"medicinal product form\",\n",
    "    \"T-07111\":\"clinical drug\",\n",
    "    \"T-08000\":\"physical force\",\n",
    "    \"T-09000\":\"physical object\",\n",
    "    \"T-10000\":\"procedure\",\n",
    "    \"T-10100\":\"regime/therapy\",\n",
    "    \"T-11000\":\"qualifier value\",\n",
    "    \"T-11100\":\"administration method\",\n",
    "    \"T-11200\":\"disposition\",\n",
    "    \"T-11300\":\"intended site\",\n",
    "    \"T-11800\":\"supplier\",\n",
    "    \"T-11900\":\"product name\",\n",
    "    \"T-11010\":\"number\",\n",
    "    \"T-11400\":\"release characteristic\",\n",
    "    \"T-11500\":\"transformation\",\n",
    "    \"T-11020\":\"basic dose form\",\n",
    "    \"T-11030\":\"dose form\",\n",
    "    \"T-11600\":\"role\",\n",
    "    \"T-11700\":\"state of matter\",\n",
    "    \"T-11040\":\"unit of presentation\",\n",
    "    \"T-12000\":\"record artifact\",\n",
    "    \"T-13000\":\"situation\",\n",
    "    \"T-14000\":\"metadata\",\n",
    "    \"T-14100\":\"core metadata concept\",\n",
    "    \"T-14200\":\"foundation metadata concept\",\n",
    "    \"T-14300\":\"linkage concept\",\n",
    "    \"T-14310\":\"attribute\",\n",
    "    \"T-14320\":\"link assertion\",\n",
    "    \"T-14400\":\"namespace concept\",\n",
    "    \"T-14500\":\"OWL metadata concept\",\n",
    "    \"T-15000\":\"social concept\",\n",
    "    \"T-15100\":\"life style\",\n",
    "    \"T-15010\":\"racial group\",\n",
    "    \"T-15020\":\"ethnic group\",\n",
    "    \"T-15200\":\"occupation\",\n",
    "    \"T-15300\":\"person\",\n",
    "    \"T-15400\":\"religion/philosophy\",\n",
    "    \"T-16000\":\"special concept\",\n",
    "    \"T-16100\":\"inactive concept\",\n",
    "    \"T-16200\":\"navigational concept\",\n",
    "    \"T-17000\":\"specimen\",\n",
    "    \"T-18000\":\"staging scale\",\n",
    "    \"T-18100\":\"assessment scale\",\n",
    "    \"T-18200\":\"tumor staging\",\n",
    "    \"T-19000\":\"substance\",\n",
    "}"
   ]
  },
  {
   "cell_type": "code",
   "execution_count": 37,
   "outputs": [],
   "source": [
    "# Check if all Semantic Tags are assigned a term unique identifier (TUI)\n",
    "for term in terms_list:\n",
    "    if term not in list(terms_dict.values()):\n",
    "        print(term)"
   ],
   "metadata": {
    "collapsed": false,
    "pycharm": {
     "name": "#%%\n"
    }
   }
  },
  {
   "cell_type": "code",
   "execution_count": 38,
   "metadata": {},
   "outputs": [],
   "source": [
    "# Test if the TUIs are correct for the version of snomed\n",
    "assert len(terms_list) == len(terms_dict) # check if there is the same number of groups\n",
    "for i in terms_list:\n",
    "    assert i in terms_dict.values() # check if the terms are identical"
   ]
  },
  {
   "cell_type": "code",
   "execution_count": 39,
   "metadata": {},
   "outputs": [
    {
     "data": {
      "text/plain": "                      cui                                                str  \\\n0                S-101009                      Quilonia ethiopica (organism)   \n1                S-101009                                 Quilonia ethiopica   \n2                S-102002                    Hemoglobin Okaloosa (substance)   \n3                S-102002                                Hemoglobin Okaloosa   \n4                S-102002                                Hb 48(CD7), Leu-arg   \n5                S-102002                               Haemoglobin Okaloosa   \n6                S-103007                  Squirrel fibroma virus (organism)   \n7                S-103007                             Squirrel fibroma virus   \n8                S-104001          Excision of lesion of patella (procedure)   \n9                S-104001                      Excision of lesion of patella   \n10               S-104001      Local excision of lesion or tissue of patella   \n11               S-106004  Structure of posterior carpal region (body str...   \n12               S-106004                            Posterior carpal region   \n13               S-106004               Structure of posterior carpal region   \n14               S-107008  Structure of fetal part of placenta (body stru...   \n15               S-107008                             Fetal part of placenta   \n16               S-107008                Structure of fetal part of placenta   \n17               S-107008               Structure of foetal part of placenta   \n18               S-108003     Entire condylar emissary vein (body structure)   \n19               S-108003                      Entire condylar emissary vein   \n20               S-109006  Anxiety disorder of childhood OR adolescence (...   \n21               S-109006       Anxiety disorder of childhood OR adolescence   \n22               S-110001  Structure of visceral layer of Bowman's capsul...   \n23               S-110001                 Visceral layer of Bowman's capsule   \n24               S-110001    Structure of visceral layer of Bowman's capsule   \n25               S-110001      Structure of visceral layer of Bowman capsule   \n26               S-111002             Parathyroid structure (body structure)   \n27               S-111002                                  Parathyroid gland   \n28               S-111002                                        Parathyroid   \n29               S-111002                              Parathyroid structure   \n...                   ...                                                ...   \n978768  S-999851000000106          Tropomyosin RAST test (observable entity)   \n978769  S-999851000000106                              Tropomyosin RAST test   \n978770  S-999861000000109          Plasma renin activity (observable entity)   \n978771  S-999861000000109                              Plasma renin activity   \n978772  S-999871000000102  Urine amylase:creatinine ratio (observable ent...   \n978773  S-999871000000102                     Urine amylase:creatinine ratio   \n978774  S-999881000000100  Urine phosphate:creatinine ratio (observable e...   \n978775  S-999881000000100                   Urine phosphate:creatinine ratio   \n978776  S-999891000000103  Serum retinol binding protein level (observabl...   \n978777  S-999891000000103                Serum retinol binding protein level   \n978778  S-999901000000102  Urine dopamine:creatinine ratio (observable en...   \n978779  S-999901000000102                    Urine dopamine:creatinine ratio   \n978780  S-999911000000100  Urine 5-hydroxyindoleacetic acid:creatinine ra...   \n978781  S-999911000000100  Urine 5HIAA (5-hydroxyindoleacetic acid):creat...   \n978782  S-999921000000106  Urine adrenaline:creatinine ratio (observable ...   \n978783  S-999921000000106                  Urine adrenaline:creatinine ratio   \n978784  S-999931000000108  Urine catecholamine:creatinine ratio (observab...   \n978785  S-999931000000108               Urine catecholamine:creatinine ratio   \n978786  S-999941000000104  Urine leucine:creatinine ratio (observable ent...   \n978787  S-999941000000104                     Urine leucine:creatinine ratio   \n978788  S-999951000000101  Urine homocysteine:creatinine ratio (observabl...   \n978789  S-999951000000101                Urine homocysteine:creatinine ratio   \n978790  S-999961000000103  Urine aspartate:creatinine ratio (observable e...   \n978791  S-999961000000103                   Urine aspartate:creatinine ratio   \n978792  S-999971000000105  Urine alanine:creatinine ratio (observable ent...   \n978793  S-999971000000105                     Urine alanine:creatinine ratio   \n978794  S-999981000000107  Urine valine:creatinine ratio (observable entity)   \n978795  S-999981000000107                      Urine valine:creatinine ratio   \n978796  S-999991000000109  Urine tyrosine:creatinine ratio (observable en...   \n978797  S-999991000000109                    Urine tyrosine:creatinine ratio   \n\n             onto  tty      tui                sty  \n0       SNOMED-CT    1  T-06000           organism  \n1       SNOMED-CT    0  T-06000           organism  \n2       SNOMED-CT    1  T-19000          substance  \n3       SNOMED-CT    0  T-19000          substance  \n4       SNOMED-CT    0  T-19000          substance  \n5       SNOMED-CT    0  T-19000          substance  \n6       SNOMED-CT    1  T-06000           organism  \n7       SNOMED-CT    0  T-06000           organism  \n8       SNOMED-CT    1  T-10000          procedure  \n9       SNOMED-CT    0  T-10000          procedure  \n10      SNOMED-CT    0  T-10000          procedure  \n11      SNOMED-CT    1  T-01000     body structure  \n12      SNOMED-CT    0  T-01000     body structure  \n13      SNOMED-CT    0  T-01000     body structure  \n14      SNOMED-CT    1  T-01000     body structure  \n15      SNOMED-CT    0  T-01000     body structure  \n16      SNOMED-CT    0  T-01000     body structure  \n17      SNOMED-CT    0  T-01000     body structure  \n18      SNOMED-CT    1  T-01000     body structure  \n19      SNOMED-CT    0  T-01000     body structure  \n20      SNOMED-CT    1  T-02100           disorder  \n21      SNOMED-CT    0  T-02100           disorder  \n22      SNOMED-CT    1  T-01000     body structure  \n23      SNOMED-CT    0  T-01000     body structure  \n24      SNOMED-CT    0  T-01000     body structure  \n25      SNOMED-CT    0  T-01000     body structure  \n26      SNOMED-CT    1  T-01000     body structure  \n27      SNOMED-CT    0  T-01000     body structure  \n28      SNOMED-CT    0  T-01000     body structure  \n29      SNOMED-CT    0  T-01000     body structure  \n...           ...  ...      ...                ...  \n978768  SNOMED-CT    1  T-05000  observable entity  \n978769  SNOMED-CT    0  T-05000  observable entity  \n978770  SNOMED-CT    1  T-05000  observable entity  \n978771  SNOMED-CT    0  T-05000  observable entity  \n978772  SNOMED-CT    1  T-05000  observable entity  \n978773  SNOMED-CT    0  T-05000  observable entity  \n978774  SNOMED-CT    1  T-05000  observable entity  \n978775  SNOMED-CT    0  T-05000  observable entity  \n978776  SNOMED-CT    1  T-05000  observable entity  \n978777  SNOMED-CT    0  T-05000  observable entity  \n978778  SNOMED-CT    1  T-05000  observable entity  \n978779  SNOMED-CT    0  T-05000  observable entity  \n978780  SNOMED-CT    1  T-05000  observable entity  \n978781  SNOMED-CT    0  T-05000  observable entity  \n978782  SNOMED-CT    1  T-05000  observable entity  \n978783  SNOMED-CT    0  T-05000  observable entity  \n978784  SNOMED-CT    1  T-05000  observable entity  \n978785  SNOMED-CT    0  T-05000  observable entity  \n978786  SNOMED-CT    1  T-05000  observable entity  \n978787  SNOMED-CT    0  T-05000  observable entity  \n978788  SNOMED-CT    1  T-05000  observable entity  \n978789  SNOMED-CT    0  T-05000  observable entity  \n978790  SNOMED-CT    1  T-05000  observable entity  \n978791  SNOMED-CT    0  T-05000  observable entity  \n978792  SNOMED-CT    1  T-05000  observable entity  \n978793  SNOMED-CT    0  T-05000  observable entity  \n978794  SNOMED-CT    1  T-05000  observable entity  \n978795  SNOMED-CT    0  T-05000  observable entity  \n978796  SNOMED-CT    1  T-05000  observable entity  \n978797  SNOMED-CT    0  T-05000  observable entity  \n\n[978798 rows x 6 columns]",
      "text/html": "<div>\n<style scoped>\n    .dataframe tbody tr th:only-of-type {\n        vertical-align: middle;\n    }\n\n    .dataframe tbody tr th {\n        vertical-align: top;\n    }\n\n    .dataframe thead th {\n        text-align: right;\n    }\n</style>\n<table border=\"1\" class=\"dataframe\">\n  <thead>\n    <tr style=\"text-align: right;\">\n      <th></th>\n      <th>cui</th>\n      <th>str</th>\n      <th>onto</th>\n      <th>tty</th>\n      <th>tui</th>\n      <th>sty</th>\n    </tr>\n  </thead>\n  <tbody>\n    <tr>\n      <th>0</th>\n      <td>S-101009</td>\n      <td>Quilonia ethiopica (organism)</td>\n      <td>SNOMED-CT</td>\n      <td>1</td>\n      <td>T-06000</td>\n      <td>organism</td>\n    </tr>\n    <tr>\n      <th>1</th>\n      <td>S-101009</td>\n      <td>Quilonia ethiopica</td>\n      <td>SNOMED-CT</td>\n      <td>0</td>\n      <td>T-06000</td>\n      <td>organism</td>\n    </tr>\n    <tr>\n      <th>2</th>\n      <td>S-102002</td>\n      <td>Hemoglobin Okaloosa (substance)</td>\n      <td>SNOMED-CT</td>\n      <td>1</td>\n      <td>T-19000</td>\n      <td>substance</td>\n    </tr>\n    <tr>\n      <th>3</th>\n      <td>S-102002</td>\n      <td>Hemoglobin Okaloosa</td>\n      <td>SNOMED-CT</td>\n      <td>0</td>\n      <td>T-19000</td>\n      <td>substance</td>\n    </tr>\n    <tr>\n      <th>4</th>\n      <td>S-102002</td>\n      <td>Hb 48(CD7), Leu-arg</td>\n      <td>SNOMED-CT</td>\n      <td>0</td>\n      <td>T-19000</td>\n      <td>substance</td>\n    </tr>\n    <tr>\n      <th>5</th>\n      <td>S-102002</td>\n      <td>Haemoglobin Okaloosa</td>\n      <td>SNOMED-CT</td>\n      <td>0</td>\n      <td>T-19000</td>\n      <td>substance</td>\n    </tr>\n    <tr>\n      <th>6</th>\n      <td>S-103007</td>\n      <td>Squirrel fibroma virus (organism)</td>\n      <td>SNOMED-CT</td>\n      <td>1</td>\n      <td>T-06000</td>\n      <td>organism</td>\n    </tr>\n    <tr>\n      <th>7</th>\n      <td>S-103007</td>\n      <td>Squirrel fibroma virus</td>\n      <td>SNOMED-CT</td>\n      <td>0</td>\n      <td>T-06000</td>\n      <td>organism</td>\n    </tr>\n    <tr>\n      <th>8</th>\n      <td>S-104001</td>\n      <td>Excision of lesion of patella (procedure)</td>\n      <td>SNOMED-CT</td>\n      <td>1</td>\n      <td>T-10000</td>\n      <td>procedure</td>\n    </tr>\n    <tr>\n      <th>9</th>\n      <td>S-104001</td>\n      <td>Excision of lesion of patella</td>\n      <td>SNOMED-CT</td>\n      <td>0</td>\n      <td>T-10000</td>\n      <td>procedure</td>\n    </tr>\n    <tr>\n      <th>10</th>\n      <td>S-104001</td>\n      <td>Local excision of lesion or tissue of patella</td>\n      <td>SNOMED-CT</td>\n      <td>0</td>\n      <td>T-10000</td>\n      <td>procedure</td>\n    </tr>\n    <tr>\n      <th>11</th>\n      <td>S-106004</td>\n      <td>Structure of posterior carpal region (body str...</td>\n      <td>SNOMED-CT</td>\n      <td>1</td>\n      <td>T-01000</td>\n      <td>body structure</td>\n    </tr>\n    <tr>\n      <th>12</th>\n      <td>S-106004</td>\n      <td>Posterior carpal region</td>\n      <td>SNOMED-CT</td>\n      <td>0</td>\n      <td>T-01000</td>\n      <td>body structure</td>\n    </tr>\n    <tr>\n      <th>13</th>\n      <td>S-106004</td>\n      <td>Structure of posterior carpal region</td>\n      <td>SNOMED-CT</td>\n      <td>0</td>\n      <td>T-01000</td>\n      <td>body structure</td>\n    </tr>\n    <tr>\n      <th>14</th>\n      <td>S-107008</td>\n      <td>Structure of fetal part of placenta (body stru...</td>\n      <td>SNOMED-CT</td>\n      <td>1</td>\n      <td>T-01000</td>\n      <td>body structure</td>\n    </tr>\n    <tr>\n      <th>15</th>\n      <td>S-107008</td>\n      <td>Fetal part of placenta</td>\n      <td>SNOMED-CT</td>\n      <td>0</td>\n      <td>T-01000</td>\n      <td>body structure</td>\n    </tr>\n    <tr>\n      <th>16</th>\n      <td>S-107008</td>\n      <td>Structure of fetal part of placenta</td>\n      <td>SNOMED-CT</td>\n      <td>0</td>\n      <td>T-01000</td>\n      <td>body structure</td>\n    </tr>\n    <tr>\n      <th>17</th>\n      <td>S-107008</td>\n      <td>Structure of foetal part of placenta</td>\n      <td>SNOMED-CT</td>\n      <td>0</td>\n      <td>T-01000</td>\n      <td>body structure</td>\n    </tr>\n    <tr>\n      <th>18</th>\n      <td>S-108003</td>\n      <td>Entire condylar emissary vein (body structure)</td>\n      <td>SNOMED-CT</td>\n      <td>1</td>\n      <td>T-01000</td>\n      <td>body structure</td>\n    </tr>\n    <tr>\n      <th>19</th>\n      <td>S-108003</td>\n      <td>Entire condylar emissary vein</td>\n      <td>SNOMED-CT</td>\n      <td>0</td>\n      <td>T-01000</td>\n      <td>body structure</td>\n    </tr>\n    <tr>\n      <th>20</th>\n      <td>S-109006</td>\n      <td>Anxiety disorder of childhood OR adolescence (...</td>\n      <td>SNOMED-CT</td>\n      <td>1</td>\n      <td>T-02100</td>\n      <td>disorder</td>\n    </tr>\n    <tr>\n      <th>21</th>\n      <td>S-109006</td>\n      <td>Anxiety disorder of childhood OR adolescence</td>\n      <td>SNOMED-CT</td>\n      <td>0</td>\n      <td>T-02100</td>\n      <td>disorder</td>\n    </tr>\n    <tr>\n      <th>22</th>\n      <td>S-110001</td>\n      <td>Structure of visceral layer of Bowman's capsul...</td>\n      <td>SNOMED-CT</td>\n      <td>1</td>\n      <td>T-01000</td>\n      <td>body structure</td>\n    </tr>\n    <tr>\n      <th>23</th>\n      <td>S-110001</td>\n      <td>Visceral layer of Bowman's capsule</td>\n      <td>SNOMED-CT</td>\n      <td>0</td>\n      <td>T-01000</td>\n      <td>body structure</td>\n    </tr>\n    <tr>\n      <th>24</th>\n      <td>S-110001</td>\n      <td>Structure of visceral layer of Bowman's capsule</td>\n      <td>SNOMED-CT</td>\n      <td>0</td>\n      <td>T-01000</td>\n      <td>body structure</td>\n    </tr>\n    <tr>\n      <th>25</th>\n      <td>S-110001</td>\n      <td>Structure of visceral layer of Bowman capsule</td>\n      <td>SNOMED-CT</td>\n      <td>0</td>\n      <td>T-01000</td>\n      <td>body structure</td>\n    </tr>\n    <tr>\n      <th>26</th>\n      <td>S-111002</td>\n      <td>Parathyroid structure (body structure)</td>\n      <td>SNOMED-CT</td>\n      <td>1</td>\n      <td>T-01000</td>\n      <td>body structure</td>\n    </tr>\n    <tr>\n      <th>27</th>\n      <td>S-111002</td>\n      <td>Parathyroid gland</td>\n      <td>SNOMED-CT</td>\n      <td>0</td>\n      <td>T-01000</td>\n      <td>body structure</td>\n    </tr>\n    <tr>\n      <th>28</th>\n      <td>S-111002</td>\n      <td>Parathyroid</td>\n      <td>SNOMED-CT</td>\n      <td>0</td>\n      <td>T-01000</td>\n      <td>body structure</td>\n    </tr>\n    <tr>\n      <th>29</th>\n      <td>S-111002</td>\n      <td>Parathyroid structure</td>\n      <td>SNOMED-CT</td>\n      <td>0</td>\n      <td>T-01000</td>\n      <td>body structure</td>\n    </tr>\n    <tr>\n      <th>...</th>\n      <td>...</td>\n      <td>...</td>\n      <td>...</td>\n      <td>...</td>\n      <td>...</td>\n      <td>...</td>\n    </tr>\n    <tr>\n      <th>978768</th>\n      <td>S-999851000000106</td>\n      <td>Tropomyosin RAST test (observable entity)</td>\n      <td>SNOMED-CT</td>\n      <td>1</td>\n      <td>T-05000</td>\n      <td>observable entity</td>\n    </tr>\n    <tr>\n      <th>978769</th>\n      <td>S-999851000000106</td>\n      <td>Tropomyosin RAST test</td>\n      <td>SNOMED-CT</td>\n      <td>0</td>\n      <td>T-05000</td>\n      <td>observable entity</td>\n    </tr>\n    <tr>\n      <th>978770</th>\n      <td>S-999861000000109</td>\n      <td>Plasma renin activity (observable entity)</td>\n      <td>SNOMED-CT</td>\n      <td>1</td>\n      <td>T-05000</td>\n      <td>observable entity</td>\n    </tr>\n    <tr>\n      <th>978771</th>\n      <td>S-999861000000109</td>\n      <td>Plasma renin activity</td>\n      <td>SNOMED-CT</td>\n      <td>0</td>\n      <td>T-05000</td>\n      <td>observable entity</td>\n    </tr>\n    <tr>\n      <th>978772</th>\n      <td>S-999871000000102</td>\n      <td>Urine amylase:creatinine ratio (observable ent...</td>\n      <td>SNOMED-CT</td>\n      <td>1</td>\n      <td>T-05000</td>\n      <td>observable entity</td>\n    </tr>\n    <tr>\n      <th>978773</th>\n      <td>S-999871000000102</td>\n      <td>Urine amylase:creatinine ratio</td>\n      <td>SNOMED-CT</td>\n      <td>0</td>\n      <td>T-05000</td>\n      <td>observable entity</td>\n    </tr>\n    <tr>\n      <th>978774</th>\n      <td>S-999881000000100</td>\n      <td>Urine phosphate:creatinine ratio (observable e...</td>\n      <td>SNOMED-CT</td>\n      <td>1</td>\n      <td>T-05000</td>\n      <td>observable entity</td>\n    </tr>\n    <tr>\n      <th>978775</th>\n      <td>S-999881000000100</td>\n      <td>Urine phosphate:creatinine ratio</td>\n      <td>SNOMED-CT</td>\n      <td>0</td>\n      <td>T-05000</td>\n      <td>observable entity</td>\n    </tr>\n    <tr>\n      <th>978776</th>\n      <td>S-999891000000103</td>\n      <td>Serum retinol binding protein level (observabl...</td>\n      <td>SNOMED-CT</td>\n      <td>1</td>\n      <td>T-05000</td>\n      <td>observable entity</td>\n    </tr>\n    <tr>\n      <th>978777</th>\n      <td>S-999891000000103</td>\n      <td>Serum retinol binding protein level</td>\n      <td>SNOMED-CT</td>\n      <td>0</td>\n      <td>T-05000</td>\n      <td>observable entity</td>\n    </tr>\n    <tr>\n      <th>978778</th>\n      <td>S-999901000000102</td>\n      <td>Urine dopamine:creatinine ratio (observable en...</td>\n      <td>SNOMED-CT</td>\n      <td>1</td>\n      <td>T-05000</td>\n      <td>observable entity</td>\n    </tr>\n    <tr>\n      <th>978779</th>\n      <td>S-999901000000102</td>\n      <td>Urine dopamine:creatinine ratio</td>\n      <td>SNOMED-CT</td>\n      <td>0</td>\n      <td>T-05000</td>\n      <td>observable entity</td>\n    </tr>\n    <tr>\n      <th>978780</th>\n      <td>S-999911000000100</td>\n      <td>Urine 5-hydroxyindoleacetic acid:creatinine ra...</td>\n      <td>SNOMED-CT</td>\n      <td>1</td>\n      <td>T-05000</td>\n      <td>observable entity</td>\n    </tr>\n    <tr>\n      <th>978781</th>\n      <td>S-999911000000100</td>\n      <td>Urine 5HIAA (5-hydroxyindoleacetic acid):creat...</td>\n      <td>SNOMED-CT</td>\n      <td>0</td>\n      <td>T-05000</td>\n      <td>observable entity</td>\n    </tr>\n    <tr>\n      <th>978782</th>\n      <td>S-999921000000106</td>\n      <td>Urine adrenaline:creatinine ratio (observable ...</td>\n      <td>SNOMED-CT</td>\n      <td>1</td>\n      <td>T-05000</td>\n      <td>observable entity</td>\n    </tr>\n    <tr>\n      <th>978783</th>\n      <td>S-999921000000106</td>\n      <td>Urine adrenaline:creatinine ratio</td>\n      <td>SNOMED-CT</td>\n      <td>0</td>\n      <td>T-05000</td>\n      <td>observable entity</td>\n    </tr>\n    <tr>\n      <th>978784</th>\n      <td>S-999931000000108</td>\n      <td>Urine catecholamine:creatinine ratio (observab...</td>\n      <td>SNOMED-CT</td>\n      <td>1</td>\n      <td>T-05000</td>\n      <td>observable entity</td>\n    </tr>\n    <tr>\n      <th>978785</th>\n      <td>S-999931000000108</td>\n      <td>Urine catecholamine:creatinine ratio</td>\n      <td>SNOMED-CT</td>\n      <td>0</td>\n      <td>T-05000</td>\n      <td>observable entity</td>\n    </tr>\n    <tr>\n      <th>978786</th>\n      <td>S-999941000000104</td>\n      <td>Urine leucine:creatinine ratio (observable ent...</td>\n      <td>SNOMED-CT</td>\n      <td>1</td>\n      <td>T-05000</td>\n      <td>observable entity</td>\n    </tr>\n    <tr>\n      <th>978787</th>\n      <td>S-999941000000104</td>\n      <td>Urine leucine:creatinine ratio</td>\n      <td>SNOMED-CT</td>\n      <td>0</td>\n      <td>T-05000</td>\n      <td>observable entity</td>\n    </tr>\n    <tr>\n      <th>978788</th>\n      <td>S-999951000000101</td>\n      <td>Urine homocysteine:creatinine ratio (observabl...</td>\n      <td>SNOMED-CT</td>\n      <td>1</td>\n      <td>T-05000</td>\n      <td>observable entity</td>\n    </tr>\n    <tr>\n      <th>978789</th>\n      <td>S-999951000000101</td>\n      <td>Urine homocysteine:creatinine ratio</td>\n      <td>SNOMED-CT</td>\n      <td>0</td>\n      <td>T-05000</td>\n      <td>observable entity</td>\n    </tr>\n    <tr>\n      <th>978790</th>\n      <td>S-999961000000103</td>\n      <td>Urine aspartate:creatinine ratio (observable e...</td>\n      <td>SNOMED-CT</td>\n      <td>1</td>\n      <td>T-05000</td>\n      <td>observable entity</td>\n    </tr>\n    <tr>\n      <th>978791</th>\n      <td>S-999961000000103</td>\n      <td>Urine aspartate:creatinine ratio</td>\n      <td>SNOMED-CT</td>\n      <td>0</td>\n      <td>T-05000</td>\n      <td>observable entity</td>\n    </tr>\n    <tr>\n      <th>978792</th>\n      <td>S-999971000000105</td>\n      <td>Urine alanine:creatinine ratio (observable ent...</td>\n      <td>SNOMED-CT</td>\n      <td>1</td>\n      <td>T-05000</td>\n      <td>observable entity</td>\n    </tr>\n    <tr>\n      <th>978793</th>\n      <td>S-999971000000105</td>\n      <td>Urine alanine:creatinine ratio</td>\n      <td>SNOMED-CT</td>\n      <td>0</td>\n      <td>T-05000</td>\n      <td>observable entity</td>\n    </tr>\n    <tr>\n      <th>978794</th>\n      <td>S-999981000000107</td>\n      <td>Urine valine:creatinine ratio (observable entity)</td>\n      <td>SNOMED-CT</td>\n      <td>1</td>\n      <td>T-05000</td>\n      <td>observable entity</td>\n    </tr>\n    <tr>\n      <th>978795</th>\n      <td>S-999981000000107</td>\n      <td>Urine valine:creatinine ratio</td>\n      <td>SNOMED-CT</td>\n      <td>0</td>\n      <td>T-05000</td>\n      <td>observable entity</td>\n    </tr>\n    <tr>\n      <th>978796</th>\n      <td>S-999991000000109</td>\n      <td>Urine tyrosine:creatinine ratio (observable en...</td>\n      <td>SNOMED-CT</td>\n      <td>1</td>\n      <td>T-05000</td>\n      <td>observable entity</td>\n    </tr>\n    <tr>\n      <th>978797</th>\n      <td>S-999991000000109</td>\n      <td>Urine tyrosine:creatinine ratio</td>\n      <td>SNOMED-CT</td>\n      <td>0</td>\n      <td>T-05000</td>\n      <td>observable entity</td>\n    </tr>\n  </tbody>\n</table>\n<p>978798 rows × 6 columns</p>\n</div>"
     },
     "execution_count": 39,
     "metadata": {},
     "output_type": "execute_result"
    }
   ],
   "source": [
    "# Add tui codes\n",
    "dict2 = {v : k for k, v in terms_dict.items()}\n",
    "snomed_cdb_df[\"tui\"] = snomed_cdb_df[\"sty\"].map(dict2)\n",
    "snomed_cdb_df[['cui', 'str','onto','tty','tui','sty']]"
   ]
  },
  {
   "cell_type": "markdown",
   "metadata": {},
   "source": [
    "#### Saving your df to CSV"
   ]
  },
  {
   "cell_type": "code",
   "execution_count": 40,
   "metadata": {},
   "outputs": [],
   "source": [
    "# Write the clinical terms to csv\n",
    "snomed_cdb_df.to_csv('snomed_cdb_csv_SNOMED-CT-UK_Release_20200930.csv')"
   ]
  },
  {
   "cell_type": "code",
   "execution_count": 41,
   "metadata": {},
   "outputs": [
    {
     "data": {
      "text/plain": "                       cui                                                str  \\\n935713  S-1240381000000105                      2019-nCoV (novel coronavirus)   \n935716  S-1240391000000107           Antigen of 2019-nCoV (novel coronavirus)   \n935719  S-1240401000000105          Antibody to 2019-nCoV (novel coronavirus)   \n935722  S-1240411000000107  Ribonucleic acid of 2019-nCoV (novel coronavirus)   \n935725  S-1240421000000101             Serotype 2019-nCoV (novel coronavirus)   \n935728  S-1240431000000104  Exposure to 2019-nCoV (novel coronavirus) infe...   \n935731  S-1240441000000108  Close exposure to 2019-nCoV (novel coronavirus...   \n935734  S-1240451000000106  Telephone consultation for suspected 2019-nCoV...   \n935737  S-1240461000000109  Measurement of 2019-nCoV (novel coronavirus) a...   \n935740  S-1240471000000102  Measurement of 2019-nCoV (novel coronavirus) a...   \n935743  S-1240491000000103          2019-nCoV (novel coronavirus) vaccination   \n935746  S-1240511000000106  Detection of 2019-nCoV (novel coronavirus) usi...   \n935749  S-1240521000000100  Otitis media caused by 2019-nCoV (novel corona...   \n935752  S-1240531000000103  Myocarditis caused by 2019-nCoV (novel coronav...   \n935755  S-1240541000000107  Upper respiratory tract infection caused by 20...   \n935758  S-1240551000000105  Pneumonia caused by 2019-nCoV (novel coronavirus)   \n935761  S-1240561000000108  Encephalopathy caused by 2019-nCoV (novel coro...   \n935764  S-1240571000000101  Gastroenteritis caused by 2019-nCoV (novel cor...   \n935767  S-1240581000000104             2019-nCoV (novel coronavirus) detected   \n935772  S-1240591000000102         2019-nCoV (novel coronavirus) not detected   \n935777  S-1240601000000108  High priority for 2019-nCoV (novel coronavirus...   \n935780  S-1240631000000102  Did not attend 2019-nCoV (novel coronavirus) v...   \n935783  S-1240651000000109  2019-nCoV (novel coronavirus) vaccination decl...   \n935786  S-1240661000000107  2019-nCoV (novel coronavirus) vaccination cont...   \n935789  S-1240671000000100  2019-nCoV (novel coronavirus) vaccination not ...   \n935792  S-1240681000000103  2019-nCoV (novel coronavirus) vaccination not ...   \n935795  S-1240701000000101  2019-nCoV (novel coronavirus) vaccine not avai...   \n935798  S-1240711000000104  Educated about 2019-nCoV (novel coronavirus) i...   \n935801  S-1240721000000105  Advice given about 2019-nCoV (novel coronaviru...   \n935804  S-1240731000000107  Advice given about 2019-nCoV (novel coronaviru...   \n...                    ...                                                ...   \n936129  S-1321621000000100  2019-nCoV (novel coronavirus) immunity status ...   \n936131  S-1321631000000103  2019-nCoV (novel coronavirus) IgM detection re...   \n936135  S-1321641000000107  2019-nCoV (novel coronavirus) IgG detection re...   \n936138  S-1321651000000105  2019-nCoV (novel coronavirus) immunity status ...   \n936141  S-1321661000000108      Has immunity to 2019-nCoV (novel coronavirus)   \n936144  S-1321681000000104  2019-nCoV (novel coronavirus) detection result...   \n936148  S-1321691000000102  2019-nCoV (novel coronavirus) detection result...   \n936156  S-1321711000000100  Point of care 2019-nCoV (novel coronavirus) sp...   \n936159  S-1321721000000106  Central laboratory 2019-nCoV (novel coronaviru...   \n936163  S-1321731000000108  Point of care 2019-nCoV (novel coronavirus) an...   \n936166  S-1321741000000104  Central laboratory 2019-nCoV (novel coronaviru...   \n936169  S-1321761000000103         2019-nCoV (novel coronavirus) IgA detected   \n936172  S-1321771000000105  2019-nCoV (novel coronavirus) IgA detection re...   \n936175  S-1321781000000107  2019-nCoV (novel coronavirus) IgA detection re...   \n936178  S-1321791000000109     2019-nCoV (novel coronavirus) IgA not detected   \n936181  S-1321801000000108  2019-nCoV (novel coronavirus) IgA arbitrary co...   \n936184  S-1321811000000105  2019-nCoV (novel coronavirus) IgA qualitative ...   \n936187  S-1321821000000104  Exposure to confirmed case of 2019-nCoV (novel...   \n936190  S-1321831000000102  Exposure to suspected case of 2019-nCoV (novel...   \n936343  S-1322781000000102  2019-nCoV (novel coronavirus) antigen detectio...   \n936346  S-1322791000000100  2019-nCoV (novel coronavirus) antigen detectio...   \n936349  S-1322801000000101  2019-nCoV (novel coronavirus) antigen detectio...   \n936352  S-1322821000000105  2019-nCoV (novel coronavirus) antigen detectio...   \n936355  S-1322831000000107  2019-nCoV (novel coronavirus) IgG detection re...   \n936358  S-1322841000000103  2019-nCoV (novel coronavirus) IgA detection re...   \n936361  S-1322851000000100  2019-nCoV (novel coronavirus) IgM detection re...   \n936364  S-1322871000000109  2019-nCoV (novel coronavirus) antibody detecti...   \n936367  S-1322891000000108  2019-nCoV (novel coronavirus) antibody detecti...   \n936370  S-1322901000000109  2019-nCoV (novel coronavirus) antibody detecti...   \n936373  S-1322911000000106  2019-nCoV (novel coronavirus) antibody detecti...   \n\n        tty                sty       onto      tui  \n935713    0           organism  SNOMED-CT  T-06000  \n935716    0          substance  SNOMED-CT  T-19000  \n935719    0          substance  SNOMED-CT  T-19000  \n935722    0          substance  SNOMED-CT  T-19000  \n935725    0    qualifier value  SNOMED-CT  T-11000  \n935728    0              event  SNOMED-CT  T-04000  \n935731    0              event  SNOMED-CT  T-04000  \n935734    0          procedure  SNOMED-CT  T-10000  \n935737    0          procedure  SNOMED-CT  T-10000  \n935740    0          procedure  SNOMED-CT  T-10000  \n935743    0          procedure  SNOMED-CT  T-10000  \n935746    0          procedure  SNOMED-CT  T-10000  \n935749    0           disorder  SNOMED-CT  T-02100  \n935752    0           disorder  SNOMED-CT  T-02100  \n935755    0           disorder  SNOMED-CT  T-02100  \n935758    0           disorder  SNOMED-CT  T-02100  \n935761    0           disorder  SNOMED-CT  T-02100  \n935764    0           disorder  SNOMED-CT  T-02100  \n935767    0            finding  SNOMED-CT  T-02000  \n935772    0            finding  SNOMED-CT  T-02000  \n935777    0            finding  SNOMED-CT  T-02000  \n935780    0            finding  SNOMED-CT  T-02000  \n935783    0          situation  SNOMED-CT  T-13000  \n935786    0          situation  SNOMED-CT  T-13000  \n935789    0          situation  SNOMED-CT  T-13000  \n935792    0          situation  SNOMED-CT  T-13000  \n935795    0          situation  SNOMED-CT  T-13000  \n935798    0          situation  SNOMED-CT  T-13000  \n935801    0          situation  SNOMED-CT  T-13000  \n935804    0          situation  SNOMED-CT  T-13000  \n...     ...                ...        ...      ...  \n936129    0            finding  SNOMED-CT  T-02000  \n936131    0            finding  SNOMED-CT  T-02000  \n936135    0            finding  SNOMED-CT  T-02000  \n936138    0            finding  SNOMED-CT  T-02000  \n936141    0            finding  SNOMED-CT  T-02000  \n936144    0            finding  SNOMED-CT  T-02000  \n936148    0            finding  SNOMED-CT  T-02000  \n936156    0          procedure  SNOMED-CT  T-10000  \n936159    0          procedure  SNOMED-CT  T-10000  \n936163    0          procedure  SNOMED-CT  T-10000  \n936166    0          procedure  SNOMED-CT  T-10000  \n936169    0            finding  SNOMED-CT  T-02000  \n936172    0            finding  SNOMED-CT  T-02000  \n936175    0            finding  SNOMED-CT  T-02000  \n936178    0            finding  SNOMED-CT  T-02000  \n936181    0  observable entity  SNOMED-CT  T-05000  \n936184    0  observable entity  SNOMED-CT  T-05000  \n936187    0              event  SNOMED-CT  T-04000  \n936190    0              event  SNOMED-CT  T-04000  \n936343    0            finding  SNOMED-CT  T-02000  \n936346    0            finding  SNOMED-CT  T-02000  \n936349    0            finding  SNOMED-CT  T-02000  \n936352    0            finding  SNOMED-CT  T-02000  \n936355    0            finding  SNOMED-CT  T-02000  \n936358    0            finding  SNOMED-CT  T-02000  \n936361    0            finding  SNOMED-CT  T-02000  \n936364    0            finding  SNOMED-CT  T-02000  \n936367    0            finding  SNOMED-CT  T-02000  \n936370    0            finding  SNOMED-CT  T-02000  \n936373    0            finding  SNOMED-CT  T-02000  \n\n[83 rows x 6 columns]",
      "text/html": "<div>\n<style scoped>\n    .dataframe tbody tr th:only-of-type {\n        vertical-align: middle;\n    }\n\n    .dataframe tbody tr th {\n        vertical-align: top;\n    }\n\n    .dataframe thead th {\n        text-align: right;\n    }\n</style>\n<table border=\"1\" class=\"dataframe\">\n  <thead>\n    <tr style=\"text-align: right;\">\n      <th></th>\n      <th>cui</th>\n      <th>str</th>\n      <th>tty</th>\n      <th>sty</th>\n      <th>onto</th>\n      <th>tui</th>\n    </tr>\n  </thead>\n  <tbody>\n    <tr>\n      <th>935713</th>\n      <td>S-1240381000000105</td>\n      <td>2019-nCoV (novel coronavirus)</td>\n      <td>0</td>\n      <td>organism</td>\n      <td>SNOMED-CT</td>\n      <td>T-06000</td>\n    </tr>\n    <tr>\n      <th>935716</th>\n      <td>S-1240391000000107</td>\n      <td>Antigen of 2019-nCoV (novel coronavirus)</td>\n      <td>0</td>\n      <td>substance</td>\n      <td>SNOMED-CT</td>\n      <td>T-19000</td>\n    </tr>\n    <tr>\n      <th>935719</th>\n      <td>S-1240401000000105</td>\n      <td>Antibody to 2019-nCoV (novel coronavirus)</td>\n      <td>0</td>\n      <td>substance</td>\n      <td>SNOMED-CT</td>\n      <td>T-19000</td>\n    </tr>\n    <tr>\n      <th>935722</th>\n      <td>S-1240411000000107</td>\n      <td>Ribonucleic acid of 2019-nCoV (novel coronavirus)</td>\n      <td>0</td>\n      <td>substance</td>\n      <td>SNOMED-CT</td>\n      <td>T-19000</td>\n    </tr>\n    <tr>\n      <th>935725</th>\n      <td>S-1240421000000101</td>\n      <td>Serotype 2019-nCoV (novel coronavirus)</td>\n      <td>0</td>\n      <td>qualifier value</td>\n      <td>SNOMED-CT</td>\n      <td>T-11000</td>\n    </tr>\n    <tr>\n      <th>935728</th>\n      <td>S-1240431000000104</td>\n      <td>Exposure to 2019-nCoV (novel coronavirus) infe...</td>\n      <td>0</td>\n      <td>event</td>\n      <td>SNOMED-CT</td>\n      <td>T-04000</td>\n    </tr>\n    <tr>\n      <th>935731</th>\n      <td>S-1240441000000108</td>\n      <td>Close exposure to 2019-nCoV (novel coronavirus...</td>\n      <td>0</td>\n      <td>event</td>\n      <td>SNOMED-CT</td>\n      <td>T-04000</td>\n    </tr>\n    <tr>\n      <th>935734</th>\n      <td>S-1240451000000106</td>\n      <td>Telephone consultation for suspected 2019-nCoV...</td>\n      <td>0</td>\n      <td>procedure</td>\n      <td>SNOMED-CT</td>\n      <td>T-10000</td>\n    </tr>\n    <tr>\n      <th>935737</th>\n      <td>S-1240461000000109</td>\n      <td>Measurement of 2019-nCoV (novel coronavirus) a...</td>\n      <td>0</td>\n      <td>procedure</td>\n      <td>SNOMED-CT</td>\n      <td>T-10000</td>\n    </tr>\n    <tr>\n      <th>935740</th>\n      <td>S-1240471000000102</td>\n      <td>Measurement of 2019-nCoV (novel coronavirus) a...</td>\n      <td>0</td>\n      <td>procedure</td>\n      <td>SNOMED-CT</td>\n      <td>T-10000</td>\n    </tr>\n    <tr>\n      <th>935743</th>\n      <td>S-1240491000000103</td>\n      <td>2019-nCoV (novel coronavirus) vaccination</td>\n      <td>0</td>\n      <td>procedure</td>\n      <td>SNOMED-CT</td>\n      <td>T-10000</td>\n    </tr>\n    <tr>\n      <th>935746</th>\n      <td>S-1240511000000106</td>\n      <td>Detection of 2019-nCoV (novel coronavirus) usi...</td>\n      <td>0</td>\n      <td>procedure</td>\n      <td>SNOMED-CT</td>\n      <td>T-10000</td>\n    </tr>\n    <tr>\n      <th>935749</th>\n      <td>S-1240521000000100</td>\n      <td>Otitis media caused by 2019-nCoV (novel corona...</td>\n      <td>0</td>\n      <td>disorder</td>\n      <td>SNOMED-CT</td>\n      <td>T-02100</td>\n    </tr>\n    <tr>\n      <th>935752</th>\n      <td>S-1240531000000103</td>\n      <td>Myocarditis caused by 2019-nCoV (novel coronav...</td>\n      <td>0</td>\n      <td>disorder</td>\n      <td>SNOMED-CT</td>\n      <td>T-02100</td>\n    </tr>\n    <tr>\n      <th>935755</th>\n      <td>S-1240541000000107</td>\n      <td>Upper respiratory tract infection caused by 20...</td>\n      <td>0</td>\n      <td>disorder</td>\n      <td>SNOMED-CT</td>\n      <td>T-02100</td>\n    </tr>\n    <tr>\n      <th>935758</th>\n      <td>S-1240551000000105</td>\n      <td>Pneumonia caused by 2019-nCoV (novel coronavirus)</td>\n      <td>0</td>\n      <td>disorder</td>\n      <td>SNOMED-CT</td>\n      <td>T-02100</td>\n    </tr>\n    <tr>\n      <th>935761</th>\n      <td>S-1240561000000108</td>\n      <td>Encephalopathy caused by 2019-nCoV (novel coro...</td>\n      <td>0</td>\n      <td>disorder</td>\n      <td>SNOMED-CT</td>\n      <td>T-02100</td>\n    </tr>\n    <tr>\n      <th>935764</th>\n      <td>S-1240571000000101</td>\n      <td>Gastroenteritis caused by 2019-nCoV (novel cor...</td>\n      <td>0</td>\n      <td>disorder</td>\n      <td>SNOMED-CT</td>\n      <td>T-02100</td>\n    </tr>\n    <tr>\n      <th>935767</th>\n      <td>S-1240581000000104</td>\n      <td>2019-nCoV (novel coronavirus) detected</td>\n      <td>0</td>\n      <td>finding</td>\n      <td>SNOMED-CT</td>\n      <td>T-02000</td>\n    </tr>\n    <tr>\n      <th>935772</th>\n      <td>S-1240591000000102</td>\n      <td>2019-nCoV (novel coronavirus) not detected</td>\n      <td>0</td>\n      <td>finding</td>\n      <td>SNOMED-CT</td>\n      <td>T-02000</td>\n    </tr>\n    <tr>\n      <th>935777</th>\n      <td>S-1240601000000108</td>\n      <td>High priority for 2019-nCoV (novel coronavirus...</td>\n      <td>0</td>\n      <td>finding</td>\n      <td>SNOMED-CT</td>\n      <td>T-02000</td>\n    </tr>\n    <tr>\n      <th>935780</th>\n      <td>S-1240631000000102</td>\n      <td>Did not attend 2019-nCoV (novel coronavirus) v...</td>\n      <td>0</td>\n      <td>finding</td>\n      <td>SNOMED-CT</td>\n      <td>T-02000</td>\n    </tr>\n    <tr>\n      <th>935783</th>\n      <td>S-1240651000000109</td>\n      <td>2019-nCoV (novel coronavirus) vaccination decl...</td>\n      <td>0</td>\n      <td>situation</td>\n      <td>SNOMED-CT</td>\n      <td>T-13000</td>\n    </tr>\n    <tr>\n      <th>935786</th>\n      <td>S-1240661000000107</td>\n      <td>2019-nCoV (novel coronavirus) vaccination cont...</td>\n      <td>0</td>\n      <td>situation</td>\n      <td>SNOMED-CT</td>\n      <td>T-13000</td>\n    </tr>\n    <tr>\n      <th>935789</th>\n      <td>S-1240671000000100</td>\n      <td>2019-nCoV (novel coronavirus) vaccination not ...</td>\n      <td>0</td>\n      <td>situation</td>\n      <td>SNOMED-CT</td>\n      <td>T-13000</td>\n    </tr>\n    <tr>\n      <th>935792</th>\n      <td>S-1240681000000103</td>\n      <td>2019-nCoV (novel coronavirus) vaccination not ...</td>\n      <td>0</td>\n      <td>situation</td>\n      <td>SNOMED-CT</td>\n      <td>T-13000</td>\n    </tr>\n    <tr>\n      <th>935795</th>\n      <td>S-1240701000000101</td>\n      <td>2019-nCoV (novel coronavirus) vaccine not avai...</td>\n      <td>0</td>\n      <td>situation</td>\n      <td>SNOMED-CT</td>\n      <td>T-13000</td>\n    </tr>\n    <tr>\n      <th>935798</th>\n      <td>S-1240711000000104</td>\n      <td>Educated about 2019-nCoV (novel coronavirus) i...</td>\n      <td>0</td>\n      <td>situation</td>\n      <td>SNOMED-CT</td>\n      <td>T-13000</td>\n    </tr>\n    <tr>\n      <th>935801</th>\n      <td>S-1240721000000105</td>\n      <td>Advice given about 2019-nCoV (novel coronaviru...</td>\n      <td>0</td>\n      <td>situation</td>\n      <td>SNOMED-CT</td>\n      <td>T-13000</td>\n    </tr>\n    <tr>\n      <th>935804</th>\n      <td>S-1240731000000107</td>\n      <td>Advice given about 2019-nCoV (novel coronaviru...</td>\n      <td>0</td>\n      <td>situation</td>\n      <td>SNOMED-CT</td>\n      <td>T-13000</td>\n    </tr>\n    <tr>\n      <th>...</th>\n      <td>...</td>\n      <td>...</td>\n      <td>...</td>\n      <td>...</td>\n      <td>...</td>\n      <td>...</td>\n    </tr>\n    <tr>\n      <th>936129</th>\n      <td>S-1321621000000100</td>\n      <td>2019-nCoV (novel coronavirus) immunity status ...</td>\n      <td>0</td>\n      <td>finding</td>\n      <td>SNOMED-CT</td>\n      <td>T-02000</td>\n    </tr>\n    <tr>\n      <th>936131</th>\n      <td>S-1321631000000103</td>\n      <td>2019-nCoV (novel coronavirus) IgM detection re...</td>\n      <td>0</td>\n      <td>finding</td>\n      <td>SNOMED-CT</td>\n      <td>T-02000</td>\n    </tr>\n    <tr>\n      <th>936135</th>\n      <td>S-1321641000000107</td>\n      <td>2019-nCoV (novel coronavirus) IgG detection re...</td>\n      <td>0</td>\n      <td>finding</td>\n      <td>SNOMED-CT</td>\n      <td>T-02000</td>\n    </tr>\n    <tr>\n      <th>936138</th>\n      <td>S-1321651000000105</td>\n      <td>2019-nCoV (novel coronavirus) immunity status ...</td>\n      <td>0</td>\n      <td>finding</td>\n      <td>SNOMED-CT</td>\n      <td>T-02000</td>\n    </tr>\n    <tr>\n      <th>936141</th>\n      <td>S-1321661000000108</td>\n      <td>Has immunity to 2019-nCoV (novel coronavirus)</td>\n      <td>0</td>\n      <td>finding</td>\n      <td>SNOMED-CT</td>\n      <td>T-02000</td>\n    </tr>\n    <tr>\n      <th>936144</th>\n      <td>S-1321681000000104</td>\n      <td>2019-nCoV (novel coronavirus) detection result...</td>\n      <td>0</td>\n      <td>finding</td>\n      <td>SNOMED-CT</td>\n      <td>T-02000</td>\n    </tr>\n    <tr>\n      <th>936148</th>\n      <td>S-1321691000000102</td>\n      <td>2019-nCoV (novel coronavirus) detection result...</td>\n      <td>0</td>\n      <td>finding</td>\n      <td>SNOMED-CT</td>\n      <td>T-02000</td>\n    </tr>\n    <tr>\n      <th>936156</th>\n      <td>S-1321711000000100</td>\n      <td>Point of care 2019-nCoV (novel coronavirus) sp...</td>\n      <td>0</td>\n      <td>procedure</td>\n      <td>SNOMED-CT</td>\n      <td>T-10000</td>\n    </tr>\n    <tr>\n      <th>936159</th>\n      <td>S-1321721000000106</td>\n      <td>Central laboratory 2019-nCoV (novel coronaviru...</td>\n      <td>0</td>\n      <td>procedure</td>\n      <td>SNOMED-CT</td>\n      <td>T-10000</td>\n    </tr>\n    <tr>\n      <th>936163</th>\n      <td>S-1321731000000108</td>\n      <td>Point of care 2019-nCoV (novel coronavirus) an...</td>\n      <td>0</td>\n      <td>procedure</td>\n      <td>SNOMED-CT</td>\n      <td>T-10000</td>\n    </tr>\n    <tr>\n      <th>936166</th>\n      <td>S-1321741000000104</td>\n      <td>Central laboratory 2019-nCoV (novel coronaviru...</td>\n      <td>0</td>\n      <td>procedure</td>\n      <td>SNOMED-CT</td>\n      <td>T-10000</td>\n    </tr>\n    <tr>\n      <th>936169</th>\n      <td>S-1321761000000103</td>\n      <td>2019-nCoV (novel coronavirus) IgA detected</td>\n      <td>0</td>\n      <td>finding</td>\n      <td>SNOMED-CT</td>\n      <td>T-02000</td>\n    </tr>\n    <tr>\n      <th>936172</th>\n      <td>S-1321771000000105</td>\n      <td>2019-nCoV (novel coronavirus) IgA detection re...</td>\n      <td>0</td>\n      <td>finding</td>\n      <td>SNOMED-CT</td>\n      <td>T-02000</td>\n    </tr>\n    <tr>\n      <th>936175</th>\n      <td>S-1321781000000107</td>\n      <td>2019-nCoV (novel coronavirus) IgA detection re...</td>\n      <td>0</td>\n      <td>finding</td>\n      <td>SNOMED-CT</td>\n      <td>T-02000</td>\n    </tr>\n    <tr>\n      <th>936178</th>\n      <td>S-1321791000000109</td>\n      <td>2019-nCoV (novel coronavirus) IgA not detected</td>\n      <td>0</td>\n      <td>finding</td>\n      <td>SNOMED-CT</td>\n      <td>T-02000</td>\n    </tr>\n    <tr>\n      <th>936181</th>\n      <td>S-1321801000000108</td>\n      <td>2019-nCoV (novel coronavirus) IgA arbitrary co...</td>\n      <td>0</td>\n      <td>observable entity</td>\n      <td>SNOMED-CT</td>\n      <td>T-05000</td>\n    </tr>\n    <tr>\n      <th>936184</th>\n      <td>S-1321811000000105</td>\n      <td>2019-nCoV (novel coronavirus) IgA qualitative ...</td>\n      <td>0</td>\n      <td>observable entity</td>\n      <td>SNOMED-CT</td>\n      <td>T-05000</td>\n    </tr>\n    <tr>\n      <th>936187</th>\n      <td>S-1321821000000104</td>\n      <td>Exposure to confirmed case of 2019-nCoV (novel...</td>\n      <td>0</td>\n      <td>event</td>\n      <td>SNOMED-CT</td>\n      <td>T-04000</td>\n    </tr>\n    <tr>\n      <th>936190</th>\n      <td>S-1321831000000102</td>\n      <td>Exposure to suspected case of 2019-nCoV (novel...</td>\n      <td>0</td>\n      <td>event</td>\n      <td>SNOMED-CT</td>\n      <td>T-04000</td>\n    </tr>\n    <tr>\n      <th>936343</th>\n      <td>S-1322781000000102</td>\n      <td>2019-nCoV (novel coronavirus) antigen detectio...</td>\n      <td>0</td>\n      <td>finding</td>\n      <td>SNOMED-CT</td>\n      <td>T-02000</td>\n    </tr>\n    <tr>\n      <th>936346</th>\n      <td>S-1322791000000100</td>\n      <td>2019-nCoV (novel coronavirus) antigen detectio...</td>\n      <td>0</td>\n      <td>finding</td>\n      <td>SNOMED-CT</td>\n      <td>T-02000</td>\n    </tr>\n    <tr>\n      <th>936349</th>\n      <td>S-1322801000000101</td>\n      <td>2019-nCoV (novel coronavirus) antigen detectio...</td>\n      <td>0</td>\n      <td>finding</td>\n      <td>SNOMED-CT</td>\n      <td>T-02000</td>\n    </tr>\n    <tr>\n      <th>936352</th>\n      <td>S-1322821000000105</td>\n      <td>2019-nCoV (novel coronavirus) antigen detectio...</td>\n      <td>0</td>\n      <td>finding</td>\n      <td>SNOMED-CT</td>\n      <td>T-02000</td>\n    </tr>\n    <tr>\n      <th>936355</th>\n      <td>S-1322831000000107</td>\n      <td>2019-nCoV (novel coronavirus) IgG detection re...</td>\n      <td>0</td>\n      <td>finding</td>\n      <td>SNOMED-CT</td>\n      <td>T-02000</td>\n    </tr>\n    <tr>\n      <th>936358</th>\n      <td>S-1322841000000103</td>\n      <td>2019-nCoV (novel coronavirus) IgA detection re...</td>\n      <td>0</td>\n      <td>finding</td>\n      <td>SNOMED-CT</td>\n      <td>T-02000</td>\n    </tr>\n    <tr>\n      <th>936361</th>\n      <td>S-1322851000000100</td>\n      <td>2019-nCoV (novel coronavirus) IgM detection re...</td>\n      <td>0</td>\n      <td>finding</td>\n      <td>SNOMED-CT</td>\n      <td>T-02000</td>\n    </tr>\n    <tr>\n      <th>936364</th>\n      <td>S-1322871000000109</td>\n      <td>2019-nCoV (novel coronavirus) antibody detecti...</td>\n      <td>0</td>\n      <td>finding</td>\n      <td>SNOMED-CT</td>\n      <td>T-02000</td>\n    </tr>\n    <tr>\n      <th>936367</th>\n      <td>S-1322891000000108</td>\n      <td>2019-nCoV (novel coronavirus) antibody detecti...</td>\n      <td>0</td>\n      <td>finding</td>\n      <td>SNOMED-CT</td>\n      <td>T-02000</td>\n    </tr>\n    <tr>\n      <th>936370</th>\n      <td>S-1322901000000109</td>\n      <td>2019-nCoV (novel coronavirus) antibody detecti...</td>\n      <td>0</td>\n      <td>finding</td>\n      <td>SNOMED-CT</td>\n      <td>T-02000</td>\n    </tr>\n    <tr>\n      <th>936373</th>\n      <td>S-1322911000000106</td>\n      <td>2019-nCoV (novel coronavirus) antibody detecti...</td>\n      <td>0</td>\n      <td>finding</td>\n      <td>SNOMED-CT</td>\n      <td>T-02000</td>\n    </tr>\n  </tbody>\n</table>\n<p>83 rows × 6 columns</p>\n</div>"
     },
     "execution_count": 41,
     "metadata": {},
     "output_type": "execute_result"
    }
   ],
   "source": [
    "# Test dataset for presence of COVID-19 concepts.\n",
    "a = snomed_cdb_df[snomed_cdb_df['str'].str.contains(\"novel coronavirus\")]\n",
    "a"
   ]
  },
  {
   "cell_type": "markdown",
   "metadata": {},
   "source": [
    "# To add the UK drug extension"
   ]
  },
  {
   "cell_type": "code",
   "execution_count": 42,
   "metadata": {},
   "outputs": [],
   "source": [
    "drug_extension = f'{snomed_dir}/uk_sct2dr_30.2.0_20200930000001/SnomedCT_UKDrugRF2_PRODUCTION_20200930T000001Z/Snapshot/Terminology'\n",
    "drug_terms = parse_file(f'{drug_extension}/sct2_Concept_Snapshot_GB1000001_20200930.txt')\n",
    "active_drug_terms = drug_terms[drug_terms.active == '1']\n",
    "drug_descriptions = parse_file(f'{drug_extension}/sct2_Description_Snapshot-en_GB1000001_20200930.txt')\n",
    "active_drug_desc = drug_descriptions[drug_descriptions.active == '1']\n",
    "all_terms = pd.concat([active_terms, active_drug_terms])\n",
    "all_descs = pd.concat([active_descs, active_drug_desc])"
   ]
  },
  {
   "cell_type": "code",
   "execution_count": 43,
   "metadata": {},
   "outputs": [
    {
     "name": "stderr",
     "output_type": "stream",
     "text": [
      "c:\\program files\\python36\\lib\\site-packages\\pandas\\core\\indexing.py:1472: FutureWarning: \n",
      "Passing list-likes to .loc or [] with any missing label will raise\n",
      "KeyError in the future, you can use .reindex() as an alternative.\n",
      "\n",
      "See the documentation here:\n",
      "https://pandas.pydata.org/pandas-docs/stable/indexing.html#deprecate-loc-reindex-listlike\n",
      "  return self._getitem_tuple(key)\n"
     ]
    }
   ],
   "source": [
    "active_with_desc_drug_ext = pd.merge(all_terms, all_descs[all_descs['typeId'] == '900000000000003001'], left_on=['id'], right_on=['conceptId'], how='inner')\n",
    "active_with_desc_drug_ext[active_with_desc_drug_ext.duplicated(['id_x'], keep='first')]\n",
    "active_with_desc_drug_ext = active_with_desc_drug_ext.drop_duplicates(['id_x'], keep='first')\n",
    "assert len(active_with_desc_drug_ext) == len(all_terms)\n",
    "active_with_desc_drug_ext['tui'] = active_with_desc_drug_ext['term'].str.extract(r\"\\((\\w+\\s?.?\\s?\\w+.?\\w+.?\\w+.?)\\)$\")\n",
    "snomed_cdb_active_only = active_with_desc_drug_ext.loc[:, ['id_x', 'term', 'tty', 'tui_code', 'tui']]\n",
    "snomed_cdb_active_only.columns = ['cui', 'str', 'tty', 'tui', 'sty']\n",
    "snomed_cdb_active_only['cui'] = snomed_cdb_active_only.cui.apply(lambda code: f'S-{code}')\n",
    "snomed_cdb_active_only['onto'] = 'SNOMED-CT'"
   ]
  },
  {
   "cell_type": "code",
   "execution_count": 44,
   "metadata": {},
   "outputs": [],
   "source": [
    "_ = pd.merge(all_terms, all_descs, left_on=['id'], right_on=['conceptId'], how='inner')\n",
    "active_with_primary_desc = _[_['typeId'] == '900000000000003001']\n",
    "active_with_primary_desc = active_with_primary_desc.drop_duplicates(['id_x'], keep='first')\n",
    "active_with_synonym_desc = _[_['typeId'] == '900000000000013009']\n",
    "active_with_all_desc = pd.concat([active_with_primary_desc, active_with_synonym_desc])"
   ]
  },
  {
   "cell_type": "code",
   "execution_count": 45,
   "metadata": {},
   "outputs": [],
   "source": [
    "snomed_cdb_df = pd.merge(active_with_all_desc, active_with_desc_drug_ext, left_on=['id_x'], right_on=['conceptId'], how='inner')"
   ]
  },
  {
   "cell_type": "code",
   "execution_count": 46,
   "metadata": {},
   "outputs": [
    {
     "data": {
      "text/plain": "                        cui  \\\n0                  S-101009   \n1                  S-101009   \n2                  S-102002   \n3                  S-102002   \n4                  S-102002   \n5                  S-102002   \n6                  S-103007   \n7                  S-103007   \n8                  S-104001   \n9                  S-104001   \n10                 S-104001   \n11                 S-106004   \n12                 S-106004   \n13                 S-106004   \n14                 S-107008   \n15                 S-107008   \n16                 S-107008   \n17                 S-107008   \n18                 S-108003   \n19                 S-108003   \n20                 S-109006   \n21                 S-109006   \n22                 S-110001   \n23                 S-110001   \n24                 S-110001   \n25                 S-110001   \n26                 S-111002   \n27                 S-111002   \n28                 S-111002   \n29                 S-111002   \n...                     ...   \n1705348  S-9998511000001106   \n1705349  S-9998511000001106   \n1705350  S-9998611000001105   \n1705351  S-9998611000001105   \n1705352  S-9998711000001101   \n1705353  S-9998711000001101   \n1705354  S-9998811000001109   \n1705355  S-9998811000001109   \n1705356  S-9998911000001104   \n1705357  S-9998911000001104   \n1705358  S-9999011000001108   \n1705359  S-9999011000001108   \n1705360  S-9999111000001109   \n1705361  S-9999111000001109   \n1705362  S-9999211000001103   \n1705363  S-9999211000001103   \n1705364  S-9999311000001106   \n1705365  S-9999311000001106   \n1705366  S-9999411000001104   \n1705367  S-9999411000001104   \n1705368  S-9999511000001100   \n1705369  S-9999511000001100   \n1705370  S-9999611000001101   \n1705371  S-9999611000001101   \n1705372  S-9999711000001105   \n1705373  S-9999711000001105   \n1705374  S-9999811000001102   \n1705375  S-9999811000001102   \n1705376  S-9999911000001107   \n1705377  S-9999911000001107   \n\n                                                       str  tty  \\\n0                            Quilonia ethiopica (organism)    1   \n1                                       Quilonia ethiopica    0   \n2                          Hemoglobin Okaloosa (substance)    1   \n3                                      Hemoglobin Okaloosa    0   \n4                                      Hb 48(CD7), Leu-arg    0   \n5                                     Haemoglobin Okaloosa    0   \n6                        Squirrel fibroma virus (organism)    1   \n7                                   Squirrel fibroma virus    0   \n8                Excision of lesion of patella (procedure)    1   \n9                            Excision of lesion of patella    0   \n10           Local excision of lesion or tissue of patella    0   \n11       Structure of posterior carpal region (body str...    1   \n12                                 Posterior carpal region    0   \n13                    Structure of posterior carpal region    0   \n14       Structure of fetal part of placenta (body stru...    1   \n15                                  Fetal part of placenta    0   \n16                     Structure of fetal part of placenta    0   \n17                    Structure of foetal part of placenta    0   \n18          Entire condylar emissary vein (body structure)    1   \n19                           Entire condylar emissary vein    0   \n20       Anxiety disorder of childhood OR adolescence (...    1   \n21            Anxiety disorder of childhood OR adolescence    0   \n22       Structure of visceral layer of Bowman's capsul...    1   \n23                      Visceral layer of Bowman's capsule    0   \n24         Structure of visceral layer of Bowman's capsule    0   \n25           Structure of visceral layer of Bowman capsule    0   \n26                  Parathyroid structure (body structure)    1   \n27                                       Parathyroid gland    0   \n28                                             Parathyroid    0   \n29                                   Parathyroid structure    0   \n...                                                    ...  ...   \n1705348  Nu-Hope belt right medium 6456H 80cm-88cm leng...    1   \n1705349  Nu-Hope belt right medium 6456H 80cm-88cm leng...    0   \n1705350  Nu-Hope belt right medium 6456H 80cm-88cm leng...    1   \n1705351  Nu-Hope belt right medium 6456H 80cm-88cm leng...    0   \n1705352  Nu-Hope belt right medium 6456J 80cm-88cm leng...    1   \n1705353  Nu-Hope belt right medium 6456J 80cm-88cm leng...    0   \n1705354  Nu-Hope belt left small 6460 70cm-78cm length,...    1   \n1705355  Nu-Hope belt left small 6460 70cm-78cm length,...    0   \n1705356  Nu-Hope belt right medium 6456J 80cm-88cm leng...    1   \n1705357  Nu-Hope belt right medium 6456J 80cm-88cm leng...    0   \n1705358  Nu-Hope belt left small 6460 70cm-78cm length,...    1   \n1705359  Nu-Hope belt left small 6460 70cm-78cm length,...    0   \n1705360  Nu-Hope belt right medium 6456K 80cm-88cm leng...    1   \n1705361  Nu-Hope belt right medium 6456K 80cm-88cm leng...    0   \n1705362  Nu-Hope belt right medium 6456K 80cm-88cm leng...    1   \n1705363  Nu-Hope belt right medium 6456K 80cm-88cm leng...    0   \n1705364  Nu-Hope belt left small 6460A 70cm-78cm length...    1   \n1705365  Nu-Hope belt left small 6460A 70cm-78cm length...    0   \n1705366  Nu-Hope belt left small 6460A 70cm-78cm length...    1   \n1705367  Nu-Hope belt left small 6460A 70cm-78cm length...    0   \n1705368  Nu-Hope belt left small 6460B 70cm-78cm length...    1   \n1705369  Nu-Hope belt left small 6460B 70cm-78cm length...    0   \n1705370  Nu-Hope belt left small 6460B 70cm-78cm length...    1   \n1705371  Nu-Hope belt left small 6460B 70cm-78cm length...    0   \n1705372  Nu-Hope belt right large 6457 90cm-100cm lengt...    1   \n1705373  Nu-Hope belt right large 6457 90cm-100cm lengt...    0   \n1705374  Nu-Hope belt right large 6457 90cm-100cm lengt...    1   \n1705375  Nu-Hope belt right large 6457 90cm-100cm lengt...    0   \n1705376  Nu-Hope belt left small 6460C 70cm-78cm length...    1   \n1705377  Nu-Hope belt left small 6460C 70cm-78cm length...    0   \n\n                     sty       onto  \n0               organism  SNOMED-CT  \n1               organism  SNOMED-CT  \n2              substance  SNOMED-CT  \n3              substance  SNOMED-CT  \n4              substance  SNOMED-CT  \n5              substance  SNOMED-CT  \n6               organism  SNOMED-CT  \n7               organism  SNOMED-CT  \n8              procedure  SNOMED-CT  \n9              procedure  SNOMED-CT  \n10             procedure  SNOMED-CT  \n11        body structure  SNOMED-CT  \n12        body structure  SNOMED-CT  \n13        body structure  SNOMED-CT  \n14        body structure  SNOMED-CT  \n15        body structure  SNOMED-CT  \n16        body structure  SNOMED-CT  \n17        body structure  SNOMED-CT  \n18        body structure  SNOMED-CT  \n19        body structure  SNOMED-CT  \n20              disorder  SNOMED-CT  \n21              disorder  SNOMED-CT  \n22        body structure  SNOMED-CT  \n23        body structure  SNOMED-CT  \n24        body structure  SNOMED-CT  \n25        body structure  SNOMED-CT  \n26        body structure  SNOMED-CT  \n27        body structure  SNOMED-CT  \n28        body structure  SNOMED-CT  \n29        body structure  SNOMED-CT  \n...                  ...        ...  \n1705348  physical object  SNOMED-CT  \n1705349  physical object  SNOMED-CT  \n1705350  physical object  SNOMED-CT  \n1705351  physical object  SNOMED-CT  \n1705352  physical object  SNOMED-CT  \n1705353  physical object  SNOMED-CT  \n1705354  physical object  SNOMED-CT  \n1705355  physical object  SNOMED-CT  \n1705356  physical object  SNOMED-CT  \n1705357  physical object  SNOMED-CT  \n1705358  physical object  SNOMED-CT  \n1705359  physical object  SNOMED-CT  \n1705360  physical object  SNOMED-CT  \n1705361  physical object  SNOMED-CT  \n1705362  physical object  SNOMED-CT  \n1705363  physical object  SNOMED-CT  \n1705364  physical object  SNOMED-CT  \n1705365  physical object  SNOMED-CT  \n1705366  physical object  SNOMED-CT  \n1705367  physical object  SNOMED-CT  \n1705368  physical object  SNOMED-CT  \n1705369  physical object  SNOMED-CT  \n1705370  physical object  SNOMED-CT  \n1705371  physical object  SNOMED-CT  \n1705372  physical object  SNOMED-CT  \n1705373  physical object  SNOMED-CT  \n1705374  physical object  SNOMED-CT  \n1705375  physical object  SNOMED-CT  \n1705376  physical object  SNOMED-CT  \n1705377  physical object  SNOMED-CT  \n\n[1705378 rows x 5 columns]",
      "text/html": "<div>\n<style scoped>\n    .dataframe tbody tr th:only-of-type {\n        vertical-align: middle;\n    }\n\n    .dataframe tbody tr th {\n        vertical-align: top;\n    }\n\n    .dataframe thead th {\n        text-align: right;\n    }\n</style>\n<table border=\"1\" class=\"dataframe\">\n  <thead>\n    <tr style=\"text-align: right;\">\n      <th></th>\n      <th>cui</th>\n      <th>str</th>\n      <th>tty</th>\n      <th>sty</th>\n      <th>onto</th>\n    </tr>\n  </thead>\n  <tbody>\n    <tr>\n      <th>0</th>\n      <td>S-101009</td>\n      <td>Quilonia ethiopica (organism)</td>\n      <td>1</td>\n      <td>organism</td>\n      <td>SNOMED-CT</td>\n    </tr>\n    <tr>\n      <th>1</th>\n      <td>S-101009</td>\n      <td>Quilonia ethiopica</td>\n      <td>0</td>\n      <td>organism</td>\n      <td>SNOMED-CT</td>\n    </tr>\n    <tr>\n      <th>2</th>\n      <td>S-102002</td>\n      <td>Hemoglobin Okaloosa (substance)</td>\n      <td>1</td>\n      <td>substance</td>\n      <td>SNOMED-CT</td>\n    </tr>\n    <tr>\n      <th>3</th>\n      <td>S-102002</td>\n      <td>Hemoglobin Okaloosa</td>\n      <td>0</td>\n      <td>substance</td>\n      <td>SNOMED-CT</td>\n    </tr>\n    <tr>\n      <th>4</th>\n      <td>S-102002</td>\n      <td>Hb 48(CD7), Leu-arg</td>\n      <td>0</td>\n      <td>substance</td>\n      <td>SNOMED-CT</td>\n    </tr>\n    <tr>\n      <th>5</th>\n      <td>S-102002</td>\n      <td>Haemoglobin Okaloosa</td>\n      <td>0</td>\n      <td>substance</td>\n      <td>SNOMED-CT</td>\n    </tr>\n    <tr>\n      <th>6</th>\n      <td>S-103007</td>\n      <td>Squirrel fibroma virus (organism)</td>\n      <td>1</td>\n      <td>organism</td>\n      <td>SNOMED-CT</td>\n    </tr>\n    <tr>\n      <th>7</th>\n      <td>S-103007</td>\n      <td>Squirrel fibroma virus</td>\n      <td>0</td>\n      <td>organism</td>\n      <td>SNOMED-CT</td>\n    </tr>\n    <tr>\n      <th>8</th>\n      <td>S-104001</td>\n      <td>Excision of lesion of patella (procedure)</td>\n      <td>1</td>\n      <td>procedure</td>\n      <td>SNOMED-CT</td>\n    </tr>\n    <tr>\n      <th>9</th>\n      <td>S-104001</td>\n      <td>Excision of lesion of patella</td>\n      <td>0</td>\n      <td>procedure</td>\n      <td>SNOMED-CT</td>\n    </tr>\n    <tr>\n      <th>10</th>\n      <td>S-104001</td>\n      <td>Local excision of lesion or tissue of patella</td>\n      <td>0</td>\n      <td>procedure</td>\n      <td>SNOMED-CT</td>\n    </tr>\n    <tr>\n      <th>11</th>\n      <td>S-106004</td>\n      <td>Structure of posterior carpal region (body str...</td>\n      <td>1</td>\n      <td>body structure</td>\n      <td>SNOMED-CT</td>\n    </tr>\n    <tr>\n      <th>12</th>\n      <td>S-106004</td>\n      <td>Posterior carpal region</td>\n      <td>0</td>\n      <td>body structure</td>\n      <td>SNOMED-CT</td>\n    </tr>\n    <tr>\n      <th>13</th>\n      <td>S-106004</td>\n      <td>Structure of posterior carpal region</td>\n      <td>0</td>\n      <td>body structure</td>\n      <td>SNOMED-CT</td>\n    </tr>\n    <tr>\n      <th>14</th>\n      <td>S-107008</td>\n      <td>Structure of fetal part of placenta (body stru...</td>\n      <td>1</td>\n      <td>body structure</td>\n      <td>SNOMED-CT</td>\n    </tr>\n    <tr>\n      <th>15</th>\n      <td>S-107008</td>\n      <td>Fetal part of placenta</td>\n      <td>0</td>\n      <td>body structure</td>\n      <td>SNOMED-CT</td>\n    </tr>\n    <tr>\n      <th>16</th>\n      <td>S-107008</td>\n      <td>Structure of fetal part of placenta</td>\n      <td>0</td>\n      <td>body structure</td>\n      <td>SNOMED-CT</td>\n    </tr>\n    <tr>\n      <th>17</th>\n      <td>S-107008</td>\n      <td>Structure of foetal part of placenta</td>\n      <td>0</td>\n      <td>body structure</td>\n      <td>SNOMED-CT</td>\n    </tr>\n    <tr>\n      <th>18</th>\n      <td>S-108003</td>\n      <td>Entire condylar emissary vein (body structure)</td>\n      <td>1</td>\n      <td>body structure</td>\n      <td>SNOMED-CT</td>\n    </tr>\n    <tr>\n      <th>19</th>\n      <td>S-108003</td>\n      <td>Entire condylar emissary vein</td>\n      <td>0</td>\n      <td>body structure</td>\n      <td>SNOMED-CT</td>\n    </tr>\n    <tr>\n      <th>20</th>\n      <td>S-109006</td>\n      <td>Anxiety disorder of childhood OR adolescence (...</td>\n      <td>1</td>\n      <td>disorder</td>\n      <td>SNOMED-CT</td>\n    </tr>\n    <tr>\n      <th>21</th>\n      <td>S-109006</td>\n      <td>Anxiety disorder of childhood OR adolescence</td>\n      <td>0</td>\n      <td>disorder</td>\n      <td>SNOMED-CT</td>\n    </tr>\n    <tr>\n      <th>22</th>\n      <td>S-110001</td>\n      <td>Structure of visceral layer of Bowman's capsul...</td>\n      <td>1</td>\n      <td>body structure</td>\n      <td>SNOMED-CT</td>\n    </tr>\n    <tr>\n      <th>23</th>\n      <td>S-110001</td>\n      <td>Visceral layer of Bowman's capsule</td>\n      <td>0</td>\n      <td>body structure</td>\n      <td>SNOMED-CT</td>\n    </tr>\n    <tr>\n      <th>24</th>\n      <td>S-110001</td>\n      <td>Structure of visceral layer of Bowman's capsule</td>\n      <td>0</td>\n      <td>body structure</td>\n      <td>SNOMED-CT</td>\n    </tr>\n    <tr>\n      <th>25</th>\n      <td>S-110001</td>\n      <td>Structure of visceral layer of Bowman capsule</td>\n      <td>0</td>\n      <td>body structure</td>\n      <td>SNOMED-CT</td>\n    </tr>\n    <tr>\n      <th>26</th>\n      <td>S-111002</td>\n      <td>Parathyroid structure (body structure)</td>\n      <td>1</td>\n      <td>body structure</td>\n      <td>SNOMED-CT</td>\n    </tr>\n    <tr>\n      <th>27</th>\n      <td>S-111002</td>\n      <td>Parathyroid gland</td>\n      <td>0</td>\n      <td>body structure</td>\n      <td>SNOMED-CT</td>\n    </tr>\n    <tr>\n      <th>28</th>\n      <td>S-111002</td>\n      <td>Parathyroid</td>\n      <td>0</td>\n      <td>body structure</td>\n      <td>SNOMED-CT</td>\n    </tr>\n    <tr>\n      <th>29</th>\n      <td>S-111002</td>\n      <td>Parathyroid structure</td>\n      <td>0</td>\n      <td>body structure</td>\n      <td>SNOMED-CT</td>\n    </tr>\n    <tr>\n      <th>...</th>\n      <td>...</td>\n      <td>...</td>\n      <td>...</td>\n      <td>...</td>\n      <td>...</td>\n    </tr>\n    <tr>\n      <th>1705348</th>\n      <td>S-9998511000001106</td>\n      <td>Nu-Hope belt right medium 6456H 80cm-88cm leng...</td>\n      <td>1</td>\n      <td>physical object</td>\n      <td>SNOMED-CT</td>\n    </tr>\n    <tr>\n      <th>1705349</th>\n      <td>S-9998511000001106</td>\n      <td>Nu-Hope belt right medium 6456H 80cm-88cm leng...</td>\n      <td>0</td>\n      <td>physical object</td>\n      <td>SNOMED-CT</td>\n    </tr>\n    <tr>\n      <th>1705350</th>\n      <td>S-9998611000001105</td>\n      <td>Nu-Hope belt right medium 6456H 80cm-88cm leng...</td>\n      <td>1</td>\n      <td>physical object</td>\n      <td>SNOMED-CT</td>\n    </tr>\n    <tr>\n      <th>1705351</th>\n      <td>S-9998611000001105</td>\n      <td>Nu-Hope belt right medium 6456H 80cm-88cm leng...</td>\n      <td>0</td>\n      <td>physical object</td>\n      <td>SNOMED-CT</td>\n    </tr>\n    <tr>\n      <th>1705352</th>\n      <td>S-9998711000001101</td>\n      <td>Nu-Hope belt right medium 6456J 80cm-88cm leng...</td>\n      <td>1</td>\n      <td>physical object</td>\n      <td>SNOMED-CT</td>\n    </tr>\n    <tr>\n      <th>1705353</th>\n      <td>S-9998711000001101</td>\n      <td>Nu-Hope belt right medium 6456J 80cm-88cm leng...</td>\n      <td>0</td>\n      <td>physical object</td>\n      <td>SNOMED-CT</td>\n    </tr>\n    <tr>\n      <th>1705354</th>\n      <td>S-9998811000001109</td>\n      <td>Nu-Hope belt left small 6460 70cm-78cm length,...</td>\n      <td>1</td>\n      <td>physical object</td>\n      <td>SNOMED-CT</td>\n    </tr>\n    <tr>\n      <th>1705355</th>\n      <td>S-9998811000001109</td>\n      <td>Nu-Hope belt left small 6460 70cm-78cm length,...</td>\n      <td>0</td>\n      <td>physical object</td>\n      <td>SNOMED-CT</td>\n    </tr>\n    <tr>\n      <th>1705356</th>\n      <td>S-9998911000001104</td>\n      <td>Nu-Hope belt right medium 6456J 80cm-88cm leng...</td>\n      <td>1</td>\n      <td>physical object</td>\n      <td>SNOMED-CT</td>\n    </tr>\n    <tr>\n      <th>1705357</th>\n      <td>S-9998911000001104</td>\n      <td>Nu-Hope belt right medium 6456J 80cm-88cm leng...</td>\n      <td>0</td>\n      <td>physical object</td>\n      <td>SNOMED-CT</td>\n    </tr>\n    <tr>\n      <th>1705358</th>\n      <td>S-9999011000001108</td>\n      <td>Nu-Hope belt left small 6460 70cm-78cm length,...</td>\n      <td>1</td>\n      <td>physical object</td>\n      <td>SNOMED-CT</td>\n    </tr>\n    <tr>\n      <th>1705359</th>\n      <td>S-9999011000001108</td>\n      <td>Nu-Hope belt left small 6460 70cm-78cm length,...</td>\n      <td>0</td>\n      <td>physical object</td>\n      <td>SNOMED-CT</td>\n    </tr>\n    <tr>\n      <th>1705360</th>\n      <td>S-9999111000001109</td>\n      <td>Nu-Hope belt right medium 6456K 80cm-88cm leng...</td>\n      <td>1</td>\n      <td>physical object</td>\n      <td>SNOMED-CT</td>\n    </tr>\n    <tr>\n      <th>1705361</th>\n      <td>S-9999111000001109</td>\n      <td>Nu-Hope belt right medium 6456K 80cm-88cm leng...</td>\n      <td>0</td>\n      <td>physical object</td>\n      <td>SNOMED-CT</td>\n    </tr>\n    <tr>\n      <th>1705362</th>\n      <td>S-9999211000001103</td>\n      <td>Nu-Hope belt right medium 6456K 80cm-88cm leng...</td>\n      <td>1</td>\n      <td>physical object</td>\n      <td>SNOMED-CT</td>\n    </tr>\n    <tr>\n      <th>1705363</th>\n      <td>S-9999211000001103</td>\n      <td>Nu-Hope belt right medium 6456K 80cm-88cm leng...</td>\n      <td>0</td>\n      <td>physical object</td>\n      <td>SNOMED-CT</td>\n    </tr>\n    <tr>\n      <th>1705364</th>\n      <td>S-9999311000001106</td>\n      <td>Nu-Hope belt left small 6460A 70cm-78cm length...</td>\n      <td>1</td>\n      <td>physical object</td>\n      <td>SNOMED-CT</td>\n    </tr>\n    <tr>\n      <th>1705365</th>\n      <td>S-9999311000001106</td>\n      <td>Nu-Hope belt left small 6460A 70cm-78cm length...</td>\n      <td>0</td>\n      <td>physical object</td>\n      <td>SNOMED-CT</td>\n    </tr>\n    <tr>\n      <th>1705366</th>\n      <td>S-9999411000001104</td>\n      <td>Nu-Hope belt left small 6460A 70cm-78cm length...</td>\n      <td>1</td>\n      <td>physical object</td>\n      <td>SNOMED-CT</td>\n    </tr>\n    <tr>\n      <th>1705367</th>\n      <td>S-9999411000001104</td>\n      <td>Nu-Hope belt left small 6460A 70cm-78cm length...</td>\n      <td>0</td>\n      <td>physical object</td>\n      <td>SNOMED-CT</td>\n    </tr>\n    <tr>\n      <th>1705368</th>\n      <td>S-9999511000001100</td>\n      <td>Nu-Hope belt left small 6460B 70cm-78cm length...</td>\n      <td>1</td>\n      <td>physical object</td>\n      <td>SNOMED-CT</td>\n    </tr>\n    <tr>\n      <th>1705369</th>\n      <td>S-9999511000001100</td>\n      <td>Nu-Hope belt left small 6460B 70cm-78cm length...</td>\n      <td>0</td>\n      <td>physical object</td>\n      <td>SNOMED-CT</td>\n    </tr>\n    <tr>\n      <th>1705370</th>\n      <td>S-9999611000001101</td>\n      <td>Nu-Hope belt left small 6460B 70cm-78cm length...</td>\n      <td>1</td>\n      <td>physical object</td>\n      <td>SNOMED-CT</td>\n    </tr>\n    <tr>\n      <th>1705371</th>\n      <td>S-9999611000001101</td>\n      <td>Nu-Hope belt left small 6460B 70cm-78cm length...</td>\n      <td>0</td>\n      <td>physical object</td>\n      <td>SNOMED-CT</td>\n    </tr>\n    <tr>\n      <th>1705372</th>\n      <td>S-9999711000001105</td>\n      <td>Nu-Hope belt right large 6457 90cm-100cm lengt...</td>\n      <td>1</td>\n      <td>physical object</td>\n      <td>SNOMED-CT</td>\n    </tr>\n    <tr>\n      <th>1705373</th>\n      <td>S-9999711000001105</td>\n      <td>Nu-Hope belt right large 6457 90cm-100cm lengt...</td>\n      <td>0</td>\n      <td>physical object</td>\n      <td>SNOMED-CT</td>\n    </tr>\n    <tr>\n      <th>1705374</th>\n      <td>S-9999811000001102</td>\n      <td>Nu-Hope belt right large 6457 90cm-100cm lengt...</td>\n      <td>1</td>\n      <td>physical object</td>\n      <td>SNOMED-CT</td>\n    </tr>\n    <tr>\n      <th>1705375</th>\n      <td>S-9999811000001102</td>\n      <td>Nu-Hope belt right large 6457 90cm-100cm lengt...</td>\n      <td>0</td>\n      <td>physical object</td>\n      <td>SNOMED-CT</td>\n    </tr>\n    <tr>\n      <th>1705376</th>\n      <td>S-9999911000001107</td>\n      <td>Nu-Hope belt left small 6460C 70cm-78cm length...</td>\n      <td>1</td>\n      <td>physical object</td>\n      <td>SNOMED-CT</td>\n    </tr>\n    <tr>\n      <th>1705377</th>\n      <td>S-9999911000001107</td>\n      <td>Nu-Hope belt left small 6460C 70cm-78cm length...</td>\n      <td>0</td>\n      <td>physical object</td>\n      <td>SNOMED-CT</td>\n    </tr>\n  </tbody>\n</table>\n<p>1705378 rows × 5 columns</p>\n</div>"
     },
     "execution_count": 46,
     "metadata": {},
     "output_type": "execute_result"
    }
   ],
   "source": [
    "# clean up the merge and rename the columns to fit the medcat Concept database criteria\n",
    "snomed_cdb_df = snomed_cdb_df.loc[:, ['id_x_x','term_x','typeId_x','tui']]\n",
    "snomed_cdb_df.columns = ['cui', 'str', 'tty', 'sty']\n",
    "snomed_cdb_df['onto'] = 'SNOMED-CT'\n",
    "snomed_cdb_df['tty'] = snomed_cdb_df['tty'].replace(['900000000000003001', '900000000000013009'], [1,0])\n",
    "snomed_cdb_df['cui'] = 'S-' + snomed_cdb_df['cui'].astype(str)\n",
    "snomed_cdb_df"
   ]
  },
  {
   "cell_type": "code",
   "execution_count": 47,
   "metadata": {},
   "outputs": [
    {
     "data": {
      "text/plain": "                        cui  \\\n0                  S-101009   \n1                  S-101009   \n2                  S-102002   \n3                  S-102002   \n4                  S-102002   \n5                  S-102002   \n6                  S-103007   \n7                  S-103007   \n8                  S-104001   \n9                  S-104001   \n10                 S-104001   \n11                 S-106004   \n12                 S-106004   \n13                 S-106004   \n14                 S-107008   \n15                 S-107008   \n16                 S-107008   \n17                 S-107008   \n18                 S-108003   \n19                 S-108003   \n20                 S-109006   \n21                 S-109006   \n22                 S-110001   \n23                 S-110001   \n24                 S-110001   \n25                 S-110001   \n26                 S-111002   \n27                 S-111002   \n28                 S-111002   \n29                 S-111002   \n...                     ...   \n1705348  S-9998511000001106   \n1705349  S-9998511000001106   \n1705350  S-9998611000001105   \n1705351  S-9998611000001105   \n1705352  S-9998711000001101   \n1705353  S-9998711000001101   \n1705354  S-9998811000001109   \n1705355  S-9998811000001109   \n1705356  S-9998911000001104   \n1705357  S-9998911000001104   \n1705358  S-9999011000001108   \n1705359  S-9999011000001108   \n1705360  S-9999111000001109   \n1705361  S-9999111000001109   \n1705362  S-9999211000001103   \n1705363  S-9999211000001103   \n1705364  S-9999311000001106   \n1705365  S-9999311000001106   \n1705366  S-9999411000001104   \n1705367  S-9999411000001104   \n1705368  S-9999511000001100   \n1705369  S-9999511000001100   \n1705370  S-9999611000001101   \n1705371  S-9999611000001101   \n1705372  S-9999711000001105   \n1705373  S-9999711000001105   \n1705374  S-9999811000001102   \n1705375  S-9999811000001102   \n1705376  S-9999911000001107   \n1705377  S-9999911000001107   \n\n                                                       str       onto  tty  \\\n0                            Quilonia ethiopica (organism)  SNOMED-CT    1   \n1                                       Quilonia ethiopica  SNOMED-CT    0   \n2                          Hemoglobin Okaloosa (substance)  SNOMED-CT    1   \n3                                      Hemoglobin Okaloosa  SNOMED-CT    0   \n4                                      Hb 48(CD7), Leu-arg  SNOMED-CT    0   \n5                                     Haemoglobin Okaloosa  SNOMED-CT    0   \n6                        Squirrel fibroma virus (organism)  SNOMED-CT    1   \n7                                   Squirrel fibroma virus  SNOMED-CT    0   \n8                Excision of lesion of patella (procedure)  SNOMED-CT    1   \n9                            Excision of lesion of patella  SNOMED-CT    0   \n10           Local excision of lesion or tissue of patella  SNOMED-CT    0   \n11       Structure of posterior carpal region (body str...  SNOMED-CT    1   \n12                                 Posterior carpal region  SNOMED-CT    0   \n13                    Structure of posterior carpal region  SNOMED-CT    0   \n14       Structure of fetal part of placenta (body stru...  SNOMED-CT    1   \n15                                  Fetal part of placenta  SNOMED-CT    0   \n16                     Structure of fetal part of placenta  SNOMED-CT    0   \n17                    Structure of foetal part of placenta  SNOMED-CT    0   \n18          Entire condylar emissary vein (body structure)  SNOMED-CT    1   \n19                           Entire condylar emissary vein  SNOMED-CT    0   \n20       Anxiety disorder of childhood OR adolescence (...  SNOMED-CT    1   \n21            Anxiety disorder of childhood OR adolescence  SNOMED-CT    0   \n22       Structure of visceral layer of Bowman's capsul...  SNOMED-CT    1   \n23                      Visceral layer of Bowman's capsule  SNOMED-CT    0   \n24         Structure of visceral layer of Bowman's capsule  SNOMED-CT    0   \n25           Structure of visceral layer of Bowman capsule  SNOMED-CT    0   \n26                  Parathyroid structure (body structure)  SNOMED-CT    1   \n27                                       Parathyroid gland  SNOMED-CT    0   \n28                                             Parathyroid  SNOMED-CT    0   \n29                                   Parathyroid structure  SNOMED-CT    0   \n...                                                    ...        ...  ...   \n1705348  Nu-Hope belt right medium 6456H 80cm-88cm leng...  SNOMED-CT    1   \n1705349  Nu-Hope belt right medium 6456H 80cm-88cm leng...  SNOMED-CT    0   \n1705350  Nu-Hope belt right medium 6456H 80cm-88cm leng...  SNOMED-CT    1   \n1705351  Nu-Hope belt right medium 6456H 80cm-88cm leng...  SNOMED-CT    0   \n1705352  Nu-Hope belt right medium 6456J 80cm-88cm leng...  SNOMED-CT    1   \n1705353  Nu-Hope belt right medium 6456J 80cm-88cm leng...  SNOMED-CT    0   \n1705354  Nu-Hope belt left small 6460 70cm-78cm length,...  SNOMED-CT    1   \n1705355  Nu-Hope belt left small 6460 70cm-78cm length,...  SNOMED-CT    0   \n1705356  Nu-Hope belt right medium 6456J 80cm-88cm leng...  SNOMED-CT    1   \n1705357  Nu-Hope belt right medium 6456J 80cm-88cm leng...  SNOMED-CT    0   \n1705358  Nu-Hope belt left small 6460 70cm-78cm length,...  SNOMED-CT    1   \n1705359  Nu-Hope belt left small 6460 70cm-78cm length,...  SNOMED-CT    0   \n1705360  Nu-Hope belt right medium 6456K 80cm-88cm leng...  SNOMED-CT    1   \n1705361  Nu-Hope belt right medium 6456K 80cm-88cm leng...  SNOMED-CT    0   \n1705362  Nu-Hope belt right medium 6456K 80cm-88cm leng...  SNOMED-CT    1   \n1705363  Nu-Hope belt right medium 6456K 80cm-88cm leng...  SNOMED-CT    0   \n1705364  Nu-Hope belt left small 6460A 70cm-78cm length...  SNOMED-CT    1   \n1705365  Nu-Hope belt left small 6460A 70cm-78cm length...  SNOMED-CT    0   \n1705366  Nu-Hope belt left small 6460A 70cm-78cm length...  SNOMED-CT    1   \n1705367  Nu-Hope belt left small 6460A 70cm-78cm length...  SNOMED-CT    0   \n1705368  Nu-Hope belt left small 6460B 70cm-78cm length...  SNOMED-CT    1   \n1705369  Nu-Hope belt left small 6460B 70cm-78cm length...  SNOMED-CT    0   \n1705370  Nu-Hope belt left small 6460B 70cm-78cm length...  SNOMED-CT    1   \n1705371  Nu-Hope belt left small 6460B 70cm-78cm length...  SNOMED-CT    0   \n1705372  Nu-Hope belt right large 6457 90cm-100cm lengt...  SNOMED-CT    1   \n1705373  Nu-Hope belt right large 6457 90cm-100cm lengt...  SNOMED-CT    0   \n1705374  Nu-Hope belt right large 6457 90cm-100cm lengt...  SNOMED-CT    1   \n1705375  Nu-Hope belt right large 6457 90cm-100cm lengt...  SNOMED-CT    0   \n1705376  Nu-Hope belt left small 6460C 70cm-78cm length...  SNOMED-CT    1   \n1705377  Nu-Hope belt left small 6460C 70cm-78cm length...  SNOMED-CT    0   \n\n             tui              sty  \n0        T-06000         organism  \n1        T-06000         organism  \n2        T-19000        substance  \n3        T-19000        substance  \n4        T-19000        substance  \n5        T-19000        substance  \n6        T-06000         organism  \n7        T-06000         organism  \n8        T-10000        procedure  \n9        T-10000        procedure  \n10       T-10000        procedure  \n11       T-01000   body structure  \n12       T-01000   body structure  \n13       T-01000   body structure  \n14       T-01000   body structure  \n15       T-01000   body structure  \n16       T-01000   body structure  \n17       T-01000   body structure  \n18       T-01000   body structure  \n19       T-01000   body structure  \n20       T-02100         disorder  \n21       T-02100         disorder  \n22       T-01000   body structure  \n23       T-01000   body structure  \n24       T-01000   body structure  \n25       T-01000   body structure  \n26       T-01000   body structure  \n27       T-01000   body structure  \n28       T-01000   body structure  \n29       T-01000   body structure  \n...          ...              ...  \n1705348  T-09000  physical object  \n1705349  T-09000  physical object  \n1705350  T-09000  physical object  \n1705351  T-09000  physical object  \n1705352  T-09000  physical object  \n1705353  T-09000  physical object  \n1705354  T-09000  physical object  \n1705355  T-09000  physical object  \n1705356  T-09000  physical object  \n1705357  T-09000  physical object  \n1705358  T-09000  physical object  \n1705359  T-09000  physical object  \n1705360  T-09000  physical object  \n1705361  T-09000  physical object  \n1705362  T-09000  physical object  \n1705363  T-09000  physical object  \n1705364  T-09000  physical object  \n1705365  T-09000  physical object  \n1705366  T-09000  physical object  \n1705367  T-09000  physical object  \n1705368  T-09000  physical object  \n1705369  T-09000  physical object  \n1705370  T-09000  physical object  \n1705371  T-09000  physical object  \n1705372  T-09000  physical object  \n1705373  T-09000  physical object  \n1705374  T-09000  physical object  \n1705375  T-09000  physical object  \n1705376  T-09000  physical object  \n1705377  T-09000  physical object  \n\n[1705378 rows x 6 columns]",
      "text/html": "<div>\n<style scoped>\n    .dataframe tbody tr th:only-of-type {\n        vertical-align: middle;\n    }\n\n    .dataframe tbody tr th {\n        vertical-align: top;\n    }\n\n    .dataframe thead th {\n        text-align: right;\n    }\n</style>\n<table border=\"1\" class=\"dataframe\">\n  <thead>\n    <tr style=\"text-align: right;\">\n      <th></th>\n      <th>cui</th>\n      <th>str</th>\n      <th>onto</th>\n      <th>tty</th>\n      <th>tui</th>\n      <th>sty</th>\n    </tr>\n  </thead>\n  <tbody>\n    <tr>\n      <th>0</th>\n      <td>S-101009</td>\n      <td>Quilonia ethiopica (organism)</td>\n      <td>SNOMED-CT</td>\n      <td>1</td>\n      <td>T-06000</td>\n      <td>organism</td>\n    </tr>\n    <tr>\n      <th>1</th>\n      <td>S-101009</td>\n      <td>Quilonia ethiopica</td>\n      <td>SNOMED-CT</td>\n      <td>0</td>\n      <td>T-06000</td>\n      <td>organism</td>\n    </tr>\n    <tr>\n      <th>2</th>\n      <td>S-102002</td>\n      <td>Hemoglobin Okaloosa (substance)</td>\n      <td>SNOMED-CT</td>\n      <td>1</td>\n      <td>T-19000</td>\n      <td>substance</td>\n    </tr>\n    <tr>\n      <th>3</th>\n      <td>S-102002</td>\n      <td>Hemoglobin Okaloosa</td>\n      <td>SNOMED-CT</td>\n      <td>0</td>\n      <td>T-19000</td>\n      <td>substance</td>\n    </tr>\n    <tr>\n      <th>4</th>\n      <td>S-102002</td>\n      <td>Hb 48(CD7), Leu-arg</td>\n      <td>SNOMED-CT</td>\n      <td>0</td>\n      <td>T-19000</td>\n      <td>substance</td>\n    </tr>\n    <tr>\n      <th>5</th>\n      <td>S-102002</td>\n      <td>Haemoglobin Okaloosa</td>\n      <td>SNOMED-CT</td>\n      <td>0</td>\n      <td>T-19000</td>\n      <td>substance</td>\n    </tr>\n    <tr>\n      <th>6</th>\n      <td>S-103007</td>\n      <td>Squirrel fibroma virus (organism)</td>\n      <td>SNOMED-CT</td>\n      <td>1</td>\n      <td>T-06000</td>\n      <td>organism</td>\n    </tr>\n    <tr>\n      <th>7</th>\n      <td>S-103007</td>\n      <td>Squirrel fibroma virus</td>\n      <td>SNOMED-CT</td>\n      <td>0</td>\n      <td>T-06000</td>\n      <td>organism</td>\n    </tr>\n    <tr>\n      <th>8</th>\n      <td>S-104001</td>\n      <td>Excision of lesion of patella (procedure)</td>\n      <td>SNOMED-CT</td>\n      <td>1</td>\n      <td>T-10000</td>\n      <td>procedure</td>\n    </tr>\n    <tr>\n      <th>9</th>\n      <td>S-104001</td>\n      <td>Excision of lesion of patella</td>\n      <td>SNOMED-CT</td>\n      <td>0</td>\n      <td>T-10000</td>\n      <td>procedure</td>\n    </tr>\n    <tr>\n      <th>10</th>\n      <td>S-104001</td>\n      <td>Local excision of lesion or tissue of patella</td>\n      <td>SNOMED-CT</td>\n      <td>0</td>\n      <td>T-10000</td>\n      <td>procedure</td>\n    </tr>\n    <tr>\n      <th>11</th>\n      <td>S-106004</td>\n      <td>Structure of posterior carpal region (body str...</td>\n      <td>SNOMED-CT</td>\n      <td>1</td>\n      <td>T-01000</td>\n      <td>body structure</td>\n    </tr>\n    <tr>\n      <th>12</th>\n      <td>S-106004</td>\n      <td>Posterior carpal region</td>\n      <td>SNOMED-CT</td>\n      <td>0</td>\n      <td>T-01000</td>\n      <td>body structure</td>\n    </tr>\n    <tr>\n      <th>13</th>\n      <td>S-106004</td>\n      <td>Structure of posterior carpal region</td>\n      <td>SNOMED-CT</td>\n      <td>0</td>\n      <td>T-01000</td>\n      <td>body structure</td>\n    </tr>\n    <tr>\n      <th>14</th>\n      <td>S-107008</td>\n      <td>Structure of fetal part of placenta (body stru...</td>\n      <td>SNOMED-CT</td>\n      <td>1</td>\n      <td>T-01000</td>\n      <td>body structure</td>\n    </tr>\n    <tr>\n      <th>15</th>\n      <td>S-107008</td>\n      <td>Fetal part of placenta</td>\n      <td>SNOMED-CT</td>\n      <td>0</td>\n      <td>T-01000</td>\n      <td>body structure</td>\n    </tr>\n    <tr>\n      <th>16</th>\n      <td>S-107008</td>\n      <td>Structure of fetal part of placenta</td>\n      <td>SNOMED-CT</td>\n      <td>0</td>\n      <td>T-01000</td>\n      <td>body structure</td>\n    </tr>\n    <tr>\n      <th>17</th>\n      <td>S-107008</td>\n      <td>Structure of foetal part of placenta</td>\n      <td>SNOMED-CT</td>\n      <td>0</td>\n      <td>T-01000</td>\n      <td>body structure</td>\n    </tr>\n    <tr>\n      <th>18</th>\n      <td>S-108003</td>\n      <td>Entire condylar emissary vein (body structure)</td>\n      <td>SNOMED-CT</td>\n      <td>1</td>\n      <td>T-01000</td>\n      <td>body structure</td>\n    </tr>\n    <tr>\n      <th>19</th>\n      <td>S-108003</td>\n      <td>Entire condylar emissary vein</td>\n      <td>SNOMED-CT</td>\n      <td>0</td>\n      <td>T-01000</td>\n      <td>body structure</td>\n    </tr>\n    <tr>\n      <th>20</th>\n      <td>S-109006</td>\n      <td>Anxiety disorder of childhood OR adolescence (...</td>\n      <td>SNOMED-CT</td>\n      <td>1</td>\n      <td>T-02100</td>\n      <td>disorder</td>\n    </tr>\n    <tr>\n      <th>21</th>\n      <td>S-109006</td>\n      <td>Anxiety disorder of childhood OR adolescence</td>\n      <td>SNOMED-CT</td>\n      <td>0</td>\n      <td>T-02100</td>\n      <td>disorder</td>\n    </tr>\n    <tr>\n      <th>22</th>\n      <td>S-110001</td>\n      <td>Structure of visceral layer of Bowman's capsul...</td>\n      <td>SNOMED-CT</td>\n      <td>1</td>\n      <td>T-01000</td>\n      <td>body structure</td>\n    </tr>\n    <tr>\n      <th>23</th>\n      <td>S-110001</td>\n      <td>Visceral layer of Bowman's capsule</td>\n      <td>SNOMED-CT</td>\n      <td>0</td>\n      <td>T-01000</td>\n      <td>body structure</td>\n    </tr>\n    <tr>\n      <th>24</th>\n      <td>S-110001</td>\n      <td>Structure of visceral layer of Bowman's capsule</td>\n      <td>SNOMED-CT</td>\n      <td>0</td>\n      <td>T-01000</td>\n      <td>body structure</td>\n    </tr>\n    <tr>\n      <th>25</th>\n      <td>S-110001</td>\n      <td>Structure of visceral layer of Bowman capsule</td>\n      <td>SNOMED-CT</td>\n      <td>0</td>\n      <td>T-01000</td>\n      <td>body structure</td>\n    </tr>\n    <tr>\n      <th>26</th>\n      <td>S-111002</td>\n      <td>Parathyroid structure (body structure)</td>\n      <td>SNOMED-CT</td>\n      <td>1</td>\n      <td>T-01000</td>\n      <td>body structure</td>\n    </tr>\n    <tr>\n      <th>27</th>\n      <td>S-111002</td>\n      <td>Parathyroid gland</td>\n      <td>SNOMED-CT</td>\n      <td>0</td>\n      <td>T-01000</td>\n      <td>body structure</td>\n    </tr>\n    <tr>\n      <th>28</th>\n      <td>S-111002</td>\n      <td>Parathyroid</td>\n      <td>SNOMED-CT</td>\n      <td>0</td>\n      <td>T-01000</td>\n      <td>body structure</td>\n    </tr>\n    <tr>\n      <th>29</th>\n      <td>S-111002</td>\n      <td>Parathyroid structure</td>\n      <td>SNOMED-CT</td>\n      <td>0</td>\n      <td>T-01000</td>\n      <td>body structure</td>\n    </tr>\n    <tr>\n      <th>...</th>\n      <td>...</td>\n      <td>...</td>\n      <td>...</td>\n      <td>...</td>\n      <td>...</td>\n      <td>...</td>\n    </tr>\n    <tr>\n      <th>1705348</th>\n      <td>S-9998511000001106</td>\n      <td>Nu-Hope belt right medium 6456H 80cm-88cm leng...</td>\n      <td>SNOMED-CT</td>\n      <td>1</td>\n      <td>T-09000</td>\n      <td>physical object</td>\n    </tr>\n    <tr>\n      <th>1705349</th>\n      <td>S-9998511000001106</td>\n      <td>Nu-Hope belt right medium 6456H 80cm-88cm leng...</td>\n      <td>SNOMED-CT</td>\n      <td>0</td>\n      <td>T-09000</td>\n      <td>physical object</td>\n    </tr>\n    <tr>\n      <th>1705350</th>\n      <td>S-9998611000001105</td>\n      <td>Nu-Hope belt right medium 6456H 80cm-88cm leng...</td>\n      <td>SNOMED-CT</td>\n      <td>1</td>\n      <td>T-09000</td>\n      <td>physical object</td>\n    </tr>\n    <tr>\n      <th>1705351</th>\n      <td>S-9998611000001105</td>\n      <td>Nu-Hope belt right medium 6456H 80cm-88cm leng...</td>\n      <td>SNOMED-CT</td>\n      <td>0</td>\n      <td>T-09000</td>\n      <td>physical object</td>\n    </tr>\n    <tr>\n      <th>1705352</th>\n      <td>S-9998711000001101</td>\n      <td>Nu-Hope belt right medium 6456J 80cm-88cm leng...</td>\n      <td>SNOMED-CT</td>\n      <td>1</td>\n      <td>T-09000</td>\n      <td>physical object</td>\n    </tr>\n    <tr>\n      <th>1705353</th>\n      <td>S-9998711000001101</td>\n      <td>Nu-Hope belt right medium 6456J 80cm-88cm leng...</td>\n      <td>SNOMED-CT</td>\n      <td>0</td>\n      <td>T-09000</td>\n      <td>physical object</td>\n    </tr>\n    <tr>\n      <th>1705354</th>\n      <td>S-9998811000001109</td>\n      <td>Nu-Hope belt left small 6460 70cm-78cm length,...</td>\n      <td>SNOMED-CT</td>\n      <td>1</td>\n      <td>T-09000</td>\n      <td>physical object</td>\n    </tr>\n    <tr>\n      <th>1705355</th>\n      <td>S-9998811000001109</td>\n      <td>Nu-Hope belt left small 6460 70cm-78cm length,...</td>\n      <td>SNOMED-CT</td>\n      <td>0</td>\n      <td>T-09000</td>\n      <td>physical object</td>\n    </tr>\n    <tr>\n      <th>1705356</th>\n      <td>S-9998911000001104</td>\n      <td>Nu-Hope belt right medium 6456J 80cm-88cm leng...</td>\n      <td>SNOMED-CT</td>\n      <td>1</td>\n      <td>T-09000</td>\n      <td>physical object</td>\n    </tr>\n    <tr>\n      <th>1705357</th>\n      <td>S-9998911000001104</td>\n      <td>Nu-Hope belt right medium 6456J 80cm-88cm leng...</td>\n      <td>SNOMED-CT</td>\n      <td>0</td>\n      <td>T-09000</td>\n      <td>physical object</td>\n    </tr>\n    <tr>\n      <th>1705358</th>\n      <td>S-9999011000001108</td>\n      <td>Nu-Hope belt left small 6460 70cm-78cm length,...</td>\n      <td>SNOMED-CT</td>\n      <td>1</td>\n      <td>T-09000</td>\n      <td>physical object</td>\n    </tr>\n    <tr>\n      <th>1705359</th>\n      <td>S-9999011000001108</td>\n      <td>Nu-Hope belt left small 6460 70cm-78cm length,...</td>\n      <td>SNOMED-CT</td>\n      <td>0</td>\n      <td>T-09000</td>\n      <td>physical object</td>\n    </tr>\n    <tr>\n      <th>1705360</th>\n      <td>S-9999111000001109</td>\n      <td>Nu-Hope belt right medium 6456K 80cm-88cm leng...</td>\n      <td>SNOMED-CT</td>\n      <td>1</td>\n      <td>T-09000</td>\n      <td>physical object</td>\n    </tr>\n    <tr>\n      <th>1705361</th>\n      <td>S-9999111000001109</td>\n      <td>Nu-Hope belt right medium 6456K 80cm-88cm leng...</td>\n      <td>SNOMED-CT</td>\n      <td>0</td>\n      <td>T-09000</td>\n      <td>physical object</td>\n    </tr>\n    <tr>\n      <th>1705362</th>\n      <td>S-9999211000001103</td>\n      <td>Nu-Hope belt right medium 6456K 80cm-88cm leng...</td>\n      <td>SNOMED-CT</td>\n      <td>1</td>\n      <td>T-09000</td>\n      <td>physical object</td>\n    </tr>\n    <tr>\n      <th>1705363</th>\n      <td>S-9999211000001103</td>\n      <td>Nu-Hope belt right medium 6456K 80cm-88cm leng...</td>\n      <td>SNOMED-CT</td>\n      <td>0</td>\n      <td>T-09000</td>\n      <td>physical object</td>\n    </tr>\n    <tr>\n      <th>1705364</th>\n      <td>S-9999311000001106</td>\n      <td>Nu-Hope belt left small 6460A 70cm-78cm length...</td>\n      <td>SNOMED-CT</td>\n      <td>1</td>\n      <td>T-09000</td>\n      <td>physical object</td>\n    </tr>\n    <tr>\n      <th>1705365</th>\n      <td>S-9999311000001106</td>\n      <td>Nu-Hope belt left small 6460A 70cm-78cm length...</td>\n      <td>SNOMED-CT</td>\n      <td>0</td>\n      <td>T-09000</td>\n      <td>physical object</td>\n    </tr>\n    <tr>\n      <th>1705366</th>\n      <td>S-9999411000001104</td>\n      <td>Nu-Hope belt left small 6460A 70cm-78cm length...</td>\n      <td>SNOMED-CT</td>\n      <td>1</td>\n      <td>T-09000</td>\n      <td>physical object</td>\n    </tr>\n    <tr>\n      <th>1705367</th>\n      <td>S-9999411000001104</td>\n      <td>Nu-Hope belt left small 6460A 70cm-78cm length...</td>\n      <td>SNOMED-CT</td>\n      <td>0</td>\n      <td>T-09000</td>\n      <td>physical object</td>\n    </tr>\n    <tr>\n      <th>1705368</th>\n      <td>S-9999511000001100</td>\n      <td>Nu-Hope belt left small 6460B 70cm-78cm length...</td>\n      <td>SNOMED-CT</td>\n      <td>1</td>\n      <td>T-09000</td>\n      <td>physical object</td>\n    </tr>\n    <tr>\n      <th>1705369</th>\n      <td>S-9999511000001100</td>\n      <td>Nu-Hope belt left small 6460B 70cm-78cm length...</td>\n      <td>SNOMED-CT</td>\n      <td>0</td>\n      <td>T-09000</td>\n      <td>physical object</td>\n    </tr>\n    <tr>\n      <th>1705370</th>\n      <td>S-9999611000001101</td>\n      <td>Nu-Hope belt left small 6460B 70cm-78cm length...</td>\n      <td>SNOMED-CT</td>\n      <td>1</td>\n      <td>T-09000</td>\n      <td>physical object</td>\n    </tr>\n    <tr>\n      <th>1705371</th>\n      <td>S-9999611000001101</td>\n      <td>Nu-Hope belt left small 6460B 70cm-78cm length...</td>\n      <td>SNOMED-CT</td>\n      <td>0</td>\n      <td>T-09000</td>\n      <td>physical object</td>\n    </tr>\n    <tr>\n      <th>1705372</th>\n      <td>S-9999711000001105</td>\n      <td>Nu-Hope belt right large 6457 90cm-100cm lengt...</td>\n      <td>SNOMED-CT</td>\n      <td>1</td>\n      <td>T-09000</td>\n      <td>physical object</td>\n    </tr>\n    <tr>\n      <th>1705373</th>\n      <td>S-9999711000001105</td>\n      <td>Nu-Hope belt right large 6457 90cm-100cm lengt...</td>\n      <td>SNOMED-CT</td>\n      <td>0</td>\n      <td>T-09000</td>\n      <td>physical object</td>\n    </tr>\n    <tr>\n      <th>1705374</th>\n      <td>S-9999811000001102</td>\n      <td>Nu-Hope belt right large 6457 90cm-100cm lengt...</td>\n      <td>SNOMED-CT</td>\n      <td>1</td>\n      <td>T-09000</td>\n      <td>physical object</td>\n    </tr>\n    <tr>\n      <th>1705375</th>\n      <td>S-9999811000001102</td>\n      <td>Nu-Hope belt right large 6457 90cm-100cm lengt...</td>\n      <td>SNOMED-CT</td>\n      <td>0</td>\n      <td>T-09000</td>\n      <td>physical object</td>\n    </tr>\n    <tr>\n      <th>1705376</th>\n      <td>S-9999911000001107</td>\n      <td>Nu-Hope belt left small 6460C 70cm-78cm length...</td>\n      <td>SNOMED-CT</td>\n      <td>1</td>\n      <td>T-09000</td>\n      <td>physical object</td>\n    </tr>\n    <tr>\n      <th>1705377</th>\n      <td>S-9999911000001107</td>\n      <td>Nu-Hope belt left small 6460C 70cm-78cm length...</td>\n      <td>SNOMED-CT</td>\n      <td>0</td>\n      <td>T-09000</td>\n      <td>physical object</td>\n    </tr>\n  </tbody>\n</table>\n<p>1705378 rows × 6 columns</p>\n</div>"
     },
     "execution_count": 47,
     "metadata": {},
     "output_type": "execute_result"
    }
   ],
   "source": [
    "terms_list = snomed_cdb_df['sty'].unique().tolist()\n",
    "# Test if the TUIs are correct for the version of snomed\n",
    "assert len(terms_list) == len(terms_dict) # check if there is the same number of groups\n",
    "for i in terms_list:\n",
    "    assert i in terms_dict.values() # check if the terms are identical\n",
    "# Add term codes\n",
    "dict2 = {v : k for k, v in terms_dict.items()}\n",
    "snomed_cdb_df[\"tui\"] = snomed_cdb_df[\"sty\"].map(dict2)\n",
    "snomed_cdb_df[['cui', 'str','onto','tty','tui','sty']]"
   ]
  },
  {
   "cell_type": "code",
   "execution_count": 49,
   "metadata": {},
   "outputs": [],
   "source": [
    "# write the clinical terms plus drug extension to csv:\n",
    "file_name = input(\"Enter file name:\")\n",
    "snomed_cdb_df.to_csv(file_name+'.csv') #snomed_cdb_csv_SNOMED-CT-full_UK_drug_ext_Release_20200228"
   ]
  },
  {
   "cell_type": "code",
   "execution_count": 50,
   "metadata": {},
   "outputs": [
    {
     "name": "stdout",
     "output_type": "stream",
     "text": [
      "finding T-02000\n",
      "disorder T-02100\n",
      "product T-07000\n",
      "medicinal product T-07100\n",
      "medicinal product form T-07110\n",
      "clinical drug T-07111\n",
      "procedure T-10000\n",
      "substance T-19000\n"
     ]
    }
   ],
   "source": [
    "# Tuis relevant for most projects\n",
    "tuisd = ['T-02000', 'T-02100', 'T-07000', 'T-07100', 'T-07110', 'T-07111','T-10000', 'T-19000']\n",
    "for _ in tuisd:\n",
    "    print(terms_dict[_], _)"
   ]
  },
  {
   "cell_type": "code",
   "execution_count": 51,
   "metadata": {},
   "outputs": [
    {
     "name": "stdout",
     "output_type": "stream",
     "text": [
      "There are: 83 concepts which contain 'novel coronavirus' \n"
     ]
    }
   ],
   "source": [
    "# To check df for covid-19 concepts\n",
    "b = pd.DataFrame()\n",
    "a = snomed_cdb_df[snomed_cdb_df['str'].str.contains(\"novel coronavirus\")]\n",
    "for index, _ in a[[\"str\", \"cui\"]].iterrows():\n",
    "    b = b.append(_)\n",
    "# To display all:\n",
    "# with pd.option_context('display.max_rows', None, 'display.max_columns', None):\n",
    "#    display(b)\n",
    "print(f\"There are: {len(b)} concepts which contain 'novel coronavirus' \")"
   ]
  },
  {
   "cell_type": "code",
   "execution_count": 52,
   "metadata": {},
   "outputs": [],
   "source": [
    "# Functions for finding the concept name and all synonyms for a SNOMED concept\n",
    "\n",
    "def find_name(snomedcode):\n",
    "    \"\"\"\n",
    "    Converts SNOMED code to Fully specified name and finds any Synonyms\n",
    "    \"\"\"\n",
    "    df = snomed_cdb_df[(snomed_cdb_df['cui'] == snomedcode) & (snomed_cdb_df['tty'] == 1)]\n",
    "    concept_name = df['str'].values\n",
    "    return f\"{''.join(concept_name)}\"\n",
    "\n",
    "def find_syn(snomedcode):\n",
    "    \"\"\"\n",
    "    Converts SNOMED code and finds all Synonyms. Not including concept name\n",
    "    \"\"\"\n",
    "    df = snomed_cdb_df[(snomed_cdb_df['cui'] == snomedcode) & (snomed_cdb_df['tty'] == 0)]\n",
    "    synonym = df['str'].tolist()\n",
    "    return f\"{'; '.join(synonym)}\""
   ]
  },
  {
   "cell_type": "code",
   "execution_count": 53,
   "metadata": {},
   "outputs": [
    {
     "name": "stdout",
     "output_type": "stream",
     "text": [
      "Lower respiratory tract infection (disorder)\n",
      "Lower respiratory tract infection; Lower respiratory infection; Chest cold; LRTI - Lower respiratory tract infection\n"
     ]
    }
   ],
   "source": [
    "print(find_name(\"S-50417007\"))\n",
    "print(find_syn(\"S-50417007\"))"
   ]
  },
  {
   "cell_type": "markdown",
   "metadata": {},
   "source": [
    "## Exploring SNOMED relationships\n",
    "\n",
    "### Root and top-level Concepts\n",
    "All concepts appear from the root concept 138875005 |SNOMED CT Concept (SNOMED RT+CTV3)|"
   ]
  },
  {
   "cell_type": "markdown",
   "metadata": {},
   "source": [
    "\n",
    "####  Table 3: Top Level Concepts \n",
    "These concepts all root from the base concept: 138875005, (SNOMED CT Concept (SNOMED RT+CTV3))<br>These concepts are all linked via the relationship typeId: 116680003, (is a)\n",
    "<br>A full list of relationship types can be found as children concepts of: 106237007, (linkage concept)\n",
    "\n",
    "\n",
    "\n",
    "|SCTID|Semantic Tag|\n",
    "|:---:|:---:|\n",
    "|123037004 |Body structure|\n",
    "|404684003 |Clinical finding|\n",
    "|272379006 |Event|\n",
    "|308916002 |Environment or geographical location|\n",
    "|363787002 |Observable entity|\n",
    "|410607006 |Organism|\n",
    "|373873005 |Pharmaceutical / biologic product|\n",
    "|78621006 |Physical force|\n",
    "|260787004 |Physical object|\n",
    "|71388002 |Procedure|\n",
    "|362981000 |Qualifier value|\n",
    "|419891008 |Record artifact|\n",
    "|243796009 |Situation with explicit context|\n",
    "|900000000000441003 |SNOMED CT Model Component (metadata)|\n",
    "|48176007 |Social context|\n",
    "|370115009 |Special concept|\n",
    "|123038009 |Specimen|\n",
    "|254291000 |Staging and scales|\n",
    "|105590001 |Substance|\n",
    "\n",
    "\n",
    "Taken from Techincal implementation guide(4.1), Table 4.1-3: https://confluence.ihtsdotools.org/display/DOCTIG "
   ]
  },
  {
   "cell_type": "markdown",
   "metadata": {},
   "source": [
    "## Creating the relationship dictionaries\n",
    "\n",
    "Parent to children structure\n",
    "pt2ch = {‘\\<cui_for_pt\\>’, \\[\\<list of cuis for children\\>\\], …}"
   ]
  },
  {
   "cell_type": "code",
   "execution_count": 54,
   "metadata": {},
   "outputs": [],
   "source": [
    "# Merge relationship files\n",
    "drug_ext_relat = parse_file(f'{drug_extension}/sct2_Relationship_Snapshot_GB1000001_20200930.txt')\n",
    "active_drug_ext_relat = drug_ext_relat[drug_ext_relat.active == '1']\n",
    "all_relat = pd.concat([active_relat, active_drug_ext_relat])\n",
    "all_relat[['sourceId','destinationId','typeId']] = 'S-' + all_relat[['sourceId','destinationId','typeId']].astype(str)"
   ]
  },
  {
   "cell_type": "code",
   "execution_count": 55,
   "metadata": {},
   "outputs": [
    {
     "data": {
      "text/plain": "        id effectiveTime active            moduleId     sourceId  \\\n1   101021      20020131      1  900000000000207008   S-10000006   \n2   102025      20020131      1  900000000000207008   S-10000006   \n13  114022      20020131      1  900000000000207008  S-134035007   \n26  127021      20020131      1  900000000000207008  S-134136005   \n29  130025      20020131      1  900000000000207008   S-10002003   \n\n   destinationId relationshipGroup       typeId characteristicTypeId  \\\n1     S-29857009                 0  S-116680003   900000000000011006   \n2      S-9972008                 0  S-116680003   900000000000011006   \n13    S-84371003                 0  S-116680003   900000000000011006   \n26    S-57250008                 0  S-116680003   900000000000011006   \n29   S-116175006                 0  S-116680003   900000000000011006   \n\n            modifierId  \n1   900000000000451002  \n2   900000000000451002  \n13  900000000000451002  \n26  900000000000451002  \n29  900000000000451002  ",
      "text/html": "<div>\n<style scoped>\n    .dataframe tbody tr th:only-of-type {\n        vertical-align: middle;\n    }\n\n    .dataframe tbody tr th {\n        vertical-align: top;\n    }\n\n    .dataframe thead th {\n        text-align: right;\n    }\n</style>\n<table border=\"1\" class=\"dataframe\">\n  <thead>\n    <tr style=\"text-align: right;\">\n      <th></th>\n      <th>id</th>\n      <th>effectiveTime</th>\n      <th>active</th>\n      <th>moduleId</th>\n      <th>sourceId</th>\n      <th>destinationId</th>\n      <th>relationshipGroup</th>\n      <th>typeId</th>\n      <th>characteristicTypeId</th>\n      <th>modifierId</th>\n    </tr>\n  </thead>\n  <tbody>\n    <tr>\n      <th>1</th>\n      <td>101021</td>\n      <td>20020131</td>\n      <td>1</td>\n      <td>900000000000207008</td>\n      <td>S-10000006</td>\n      <td>S-29857009</td>\n      <td>0</td>\n      <td>S-116680003</td>\n      <td>900000000000011006</td>\n      <td>900000000000451002</td>\n    </tr>\n    <tr>\n      <th>2</th>\n      <td>102025</td>\n      <td>20020131</td>\n      <td>1</td>\n      <td>900000000000207008</td>\n      <td>S-10000006</td>\n      <td>S-9972008</td>\n      <td>0</td>\n      <td>S-116680003</td>\n      <td>900000000000011006</td>\n      <td>900000000000451002</td>\n    </tr>\n    <tr>\n      <th>13</th>\n      <td>114022</td>\n      <td>20020131</td>\n      <td>1</td>\n      <td>900000000000207008</td>\n      <td>S-134035007</td>\n      <td>S-84371003</td>\n      <td>0</td>\n      <td>S-116680003</td>\n      <td>900000000000011006</td>\n      <td>900000000000451002</td>\n    </tr>\n    <tr>\n      <th>26</th>\n      <td>127021</td>\n      <td>20020131</td>\n      <td>1</td>\n      <td>900000000000207008</td>\n      <td>S-134136005</td>\n      <td>S-57250008</td>\n      <td>0</td>\n      <td>S-116680003</td>\n      <td>900000000000011006</td>\n      <td>900000000000451002</td>\n    </tr>\n    <tr>\n      <th>29</th>\n      <td>130025</td>\n      <td>20020131</td>\n      <td>1</td>\n      <td>900000000000207008</td>\n      <td>S-10002003</td>\n      <td>S-116175006</td>\n      <td>0</td>\n      <td>S-116680003</td>\n      <td>900000000000011006</td>\n      <td>900000000000451002</td>\n    </tr>\n  </tbody>\n</table>\n</div>"
     },
     "execution_count": 55,
     "metadata": {},
     "output_type": "execute_result"
    }
   ],
   "source": [
    "all_relat.head()"
   ]
  },
  {
   "cell_type": "code",
   "execution_count": 56,
   "metadata": {},
   "outputs": [],
   "source": [
    "# write the relationship terms plus drug extension relationships to csv:\n",
    "file_name = input(\"Enter file name:\")\n",
    "all_relat.to_csv(file_name+'.csv') #snomed_rela_csv_SNOMED-CT-full_UK_drug_ext_Release_20200228"
   ]
  },
  {
   "cell_type": "code",
   "execution_count": 57,
   "metadata": {},
   "outputs": [
    {
     "name": "stdout",
     "output_type": "stream",
     "text": [
      "Is a (attribute) S-116680003\n",
      "Finding site (attribute) S-363698007\n",
      "Has intent (attribute) S-363703001\n",
      "Method (attribute) S-260686004\n",
      "Interprets (attribute) S-363714003\n",
      "Causative agent (attribute) S-246075003\n",
      "Associated morphology (attribute) S-116676008\n",
      "Laterality (attribute) S-272741003\n",
      "Occurrence (attribute) S-246454002\n",
      "Procedure site (attribute) S-363704007\n",
      "Direct device (attribute) S-363699004\n",
      "Direct morphology (attribute) S-363700003\n",
      "Access (attribute) S-260507000\n",
      "Revision status (attribute) S-246513007\n",
      "Priority (attribute) S-260870009\n",
      "Direct substance (attribute) S-363701004\n",
      "Has focus (attribute) S-363702006\n",
      "Associated finding (attribute) S-246090004\n",
      "Component (attribute) S-246093002\n",
      "Has interpretation (attribute) S-363713009\n",
      "Has specimen (attribute) S-116686009\n",
      "Indirect morphology (attribute) S-363709002\n",
      "Recipient category (attribute) S-370131001\n",
      "Pathological process (attribute) S-370135005\n",
      "Has active ingredient (attribute) S-127489000\n",
      "Specimen source topography (attribute) S-118169006\n",
      "Specimen procedure (attribute) S-118171006\n",
      "Specimen substance (attribute) S-370133003\n",
      "Specimen source identity (attribute) S-118170007\n",
      "Specimen source morphology (attribute) S-118168003\n",
      "Scale type (attribute) S-370132008\n",
      "Property (attribute) S-370130000\n",
      "Measurement method (attribute) S-370129005\n",
      "After (attribute) S-255234002\n",
      "Associated with (attribute) S-47429007\n",
      "Due to (attribute) S-42752001\n",
      "Subject relationship context (attribute) S-408732007\n",
      "Procedure site - Indirect (attribute) S-405814001\n",
      "Procedure device (attribute) S-405815000\n",
      "Procedure site - Direct (attribute) S-405813007\n",
      "Procedure morphology (attribute) S-405816004\n",
      "Associated procedure (attribute) S-363589002\n",
      "Has manufactured dose form (attribute) S-411116001\n",
      "Temporal context (attribute) S-408731000\n",
      "Finding context (attribute) S-408729009\n",
      "Procedure context (attribute) S-408730004\n",
      "Finding method (attribute) S-418775008\n",
      "Finding informer (attribute) S-419066007\n",
      "Route of administration (attribute) S-410675002\n",
      "Using device (attribute) S-424226004\n",
      "Clinical course (attribute) S-263502005\n",
      "Using energy (attribute) S-424244007\n",
      "Using substance (attribute) S-424361007\n",
      "Using access device (attribute) S-425391005\n",
      "Indirect device (attribute) S-363710007\n",
      "Surgical approach (attribute) S-424876005\n",
      "Severity (attribute) S-246112005\n",
      "Characterizes (attribute) S-704321009\n",
      "Process output (attribute) S-704324001\n",
      "Direct site (attribute) S-704327008\n",
      "Inheres in (attribute) S-704319004\n",
      "Precondition (attribute) S-704326004\n",
      "Inherent location (attribute) S-718497002\n",
      "Technique (attribute) S-246501002\n",
      "Time aspect (attribute) S-370134009\n",
      "Relative to part of (attribute) S-719715003\n",
      "During (attribute) S-371881003\n",
      "Has basis of strength substance (attribute) S-732943007\n",
      "Has presentation strength numerator value (attribute) S-732944001\n",
      "Has presentation strength numerator unit (attribute) S-732945000\n",
      "Has presentation strength denominator value (attribute) S-732946004\n",
      "Has presentation strength denominator unit (attribute) S-732947008\n",
      "Has disposition (attribute) S-726542003\n",
      "Has state of matter (attribute) S-736518005\n",
      "Has dose form administration method (attribute) S-736472000\n",
      "Has dose form intended site (attribute) S-736474004\n",
      "Has dose form release characteristic (attribute) S-736475003\n",
      "Has basic dose form (attribute) S-736476002\n",
      "Has dose form transformation (attribute) S-736473005\n",
      "Temporally related to (attribute) S-726633004\n",
      "Is modification of (attribute) S-738774007\n",
      "Has precise active ingredient (attribute) S-762949000\n",
      "Has unit of presentation (attribute) S-763032000\n",
      "Count of base of active ingredient (attribute) S-766952006\n",
      "Has concentration strength denominator value (attribute) S-733723002\n",
      "Has concentration strength numerator value (attribute) S-733724008\n",
      "Has concentration strength numerator unit (attribute) S-733725009\n",
      "Has concentration strength denominator unit (attribute) S-733722007\n",
      "Plays role (attribute) S-766939001\n",
      "Has realization (attribute) S-719722006\n",
      "VMP prescribing status (attribute) S-8940001000001105\n",
      "VMP non-availability indicator (attribute) S-8940601000001102\n",
      "Has excipient (attribute) S-8653101000001104\n",
      "Legal category (attribute) S-8941301000001102\n",
      "Discontinued indicator (attribute) S-8941901000001101\n",
      "Flavour (attribute) S-8941101000001104\n",
      "Has trade family group (attribute) S-9191701000001107\n",
      "Has VMP (attribute) S-10362601000001103\n",
      "Has AMP (attribute) S-10362701000001108\n",
      "Has NHS dm+d (dictionary of medicines and devices) basis of strength substance (attribute) S-10363001000001101\n",
      "Has specific active ingredient (attribute) S-10362801000001104\n",
      "Has NHS dm+d (dictionary of medicines and devices) controlled drug category (attribute) S-13089101000001102\n",
      "Has NHS dm+d (dictionary of medicines and devices) VMP (Virtual Medicinal Product) route of administration (attribute) S-13088401000001104\n",
      "Has NHS dm+d (dictionary of medicines and devices) dose form indicator (attribute) S-13088701000001106\n",
      "Has NHS dm+d (dictionary of medicines and devices) VMP (Virtual Medicinal Product) ontology form and route (attribute) S-13088501000001100\n",
      "Has dispensed dose form (attribute) S-10362901000001105\n",
      "Has unit of administration (attribute) S-13085501000001109\n",
      "Has NHS dm+d (dictionary of medicines and devices) freeness indicator (attribute) S-13089701000001101\n",
      "Has NHS dm+d (dictionary of medicines and devices) AMP (actual medicinal product) availability restriction indicator (attribute) S-13090501000001104\n",
      "Has NHS dm+d (dictionary of medicines and devices) parallel import indicator (attribute) S-13090201000001102\n",
      "Has NHS dm+d (dictionary of medicines and devices) additional monitoring indicator (attribute) S-13090301000001106\n",
      "Has NHS dm+d (dictionary of medicines and devices) VMP (Virtual Medicinal Product) combination product indicator (attribute) S-13088901000001108\n",
      "Virtual radiopharmaceutical product prescribing status (attribute) S-12223501000001103\n",
      "Has virtual radiopharmaceutical product (attribute) S-12223101000001108\n",
      "Has actual radiopharmaceutical product (attribute) S-12223201000001101\n"
     ]
    }
   ],
   "source": [
    "# Find all types of relationships\n",
    "rel = all_relat['typeId'].unique()\n",
    "for _ in rel:\n",
    "    print(find_name(_), _)"
   ]
  },
  {
   "cell_type": "markdown",
   "metadata": {},
   "source": [
    "### Parents and Children\n",
    "Subtype relationship 116680003|Is a (attribute)| relates a Concept to its immediate supertype Concepts."
   ]
  },
  {
   "cell_type": "code",
   "execution_count": 58,
   "metadata": {},
   "outputs": [],
   "source": [
    "# Parent to Children dictionary (\"Is a\" relationships)\n",
    "pt2ch = dict([(key, []) for key in all_relat[\"destinationId\"].unique()])\n",
    "for index, v in all_relat.iterrows():\n",
    "    if v['typeId'] == \"S-116680003\":\n",
    "        _ = v['destinationId']\n",
    "        pt2ch[_].append(v['sourceId'])\n",
    "    else:\n",
    "        pass"
   ]
  },
  {
   "cell_type": "code",
   "execution_count": 59,
   "metadata": {},
   "outputs": [],
   "source": [
    "# Children to Parent dictionary\n",
    "ch2pt = dict([(key, []) for key in all_relat[\"sourceId\"].unique()])\n",
    "for index, v in all_relat.iterrows():\n",
    "    if v['typeId'] == \"S-116680003\":\n",
    "        _ = v['sourceId']\n",
    "        ch2pt[_].append(v['destinationId'])\n",
    "    else:\n",
    "        pass\n"
   ]
  },
  {
   "cell_type": "code",
   "execution_count": 60,
   "metadata": {},
   "outputs": [],
   "source": [
    "# Write to 'isa' relationships to file\n",
    "with open('20200930_isa_rela_pt2ch.txt', 'w') as outfile:\n",
    "    json.dump(pt2ch, outfile)\n",
    "with open('20200930_isa_rela_ch2pt.txt', 'w') as outfile:\n",
    "    json.dump(ch2pt, outfile)"
   ]
  },
  {
   "cell_type": "code",
   "execution_count": 61,
   "metadata": {},
   "outputs": [],
   "source": [
    "# Load 'isa' relationships to df\n",
    "with open('20200930_isa_rela_pt2ch.txt') as json_file:\n",
    "    pt2ch = json.load(json_file)\n",
    "with open('20200930_isa_rela_ch2pt.txt') as json_file:\n",
    "    ch2pt = json.load(json_file)\n"
   ]
  },
  {
   "cell_type": "markdown",
   "source": [
    "### Finding site relationship\n",
    "Subtype relationship 363698007|Finding site (attribute)| relates a disease concept to its immediate Finding site concepts."
   ],
   "metadata": {
    "collapsed": false
   }
  },
  {
   "cell_type": "code",
   "execution_count": 82,
   "outputs": [],
   "source": [
    "# disease to finding site dictionary (\"Finding site\" relationships)\n",
    "disease2site = dict([(key, []) for key in all_relat[all_relat['typeId'] == \"S-363698007\"][\"sourceId\"].unique()])\n",
    "for index, v in all_relat[all_relat['typeId'] == \"S-363698007\"].iterrows():\n",
    "    _ = v['sourceId']\n",
    "    disease2site[_].append(v['destinationId'])"
   ],
   "metadata": {
    "collapsed": false,
    "pycharm": {
     "name": "#%%\n"
    }
   }
  },
  {
   "cell_type": "code",
   "execution_count": 87,
   "outputs": [
    {
     "data": {
      "text/plain": "['S-113257007']"
     },
     "execution_count": 87,
     "metadata": {},
     "output_type": "execute_result"
    }
   ],
   "source": [
    "disease2site['S-271594007']"
   ],
   "metadata": {
    "collapsed": false,
    "pycharm": {
     "name": "#%%\n"
    }
   }
  },
  {
   "cell_type": "code",
   "execution_count": 88,
   "outputs": [],
   "source": [
    "# Write to 'finding site' relationships to file\n",
    "with open('20200930_findingsite_rela_disease2site.txt', 'w') as outfile:\n",
    "    json.dump(disease2site, outfile)"
   ],
   "metadata": {
    "collapsed": false,
    "pycharm": {
     "name": "#%%\n"
    }
   }
  },
  {
   "cell_type": "code",
   "execution_count": 89,
   "metadata": {},
   "outputs": [
    {
     "name": "stderr",
     "output_type": "stream",
     "text": [
      "c:\\program files\\python36\\lib\\site-packages\\ipykernel_launcher.py:4: SettingWithCopyWarning: \n",
      "A value is trying to be set on a copy of a slice from a DataFrame.\n",
      "Try using .loc[row_indexer,col_indexer] = value instead\n",
      "\n",
      "See the caveats in the documentation: http://pandas.pydata.org/pandas-docs/stable/indexing.html#indexing-view-versus-copy\n",
      "  after removing the cwd from sys.path.\n"
     ]
    },
    {
     "data": {
      "text/plain": "      index              sourceId  \\\n0    143166           S-254291000   \n1    143194           S-260787004   \n2    143274           S-272379006   \n3    143613           S-308916002   \n4    143811           S-123037004   \n5    143812           S-123038009   \n6    144417            S-48176007   \n7    144501            S-71388002   \n8    144577            S-78621006   \n9    144660           S-362981000   \n10   144662           S-363787002   \n11   144664           S-370115009   \n12   804301           S-105590001   \n13   804319           S-243796009   \n14   921450           S-373873005   \n15  1284430           S-404684003   \n16  1353989           S-410607006   \n17  1607937           S-419891008   \n18  2291081  S-900000000000441003   \n\n                                          conceptname  \n0                  Staging and scales (staging scale)  \n1                   Physical object (physical object)  \n2                                       Event (event)  \n3   Environment or geographical location (environm...  \n4                     Body structure (body structure)  \n5                                 Specimen (specimen)  \n6                     Social context (social concept)  \n7                               Procedure (procedure)  \n8                     Physical force (physical force)  \n9                   Qualifier value (qualifier value)  \n10              Observable entity (observable entity)  \n11                  Special concept (special concept)  \n12                              Substance (substance)  \n13        Situation with explicit context (situation)  \n14        Pharmaceutical / biologic product (product)  \n15                         Clinical finding (finding)  \n16                                Organism (organism)  \n17                  Record artifact (record artifact)  \n18               SNOMED CT Model Component (metadata)  ",
      "text/html": "<div>\n<style scoped>\n    .dataframe tbody tr th:only-of-type {\n        vertical-align: middle;\n    }\n\n    .dataframe tbody tr th {\n        vertical-align: top;\n    }\n\n    .dataframe thead th {\n        text-align: right;\n    }\n</style>\n<table border=\"1\" class=\"dataframe\">\n  <thead>\n    <tr style=\"text-align: right;\">\n      <th></th>\n      <th>index</th>\n      <th>sourceId</th>\n      <th>conceptname</th>\n    </tr>\n  </thead>\n  <tbody>\n    <tr>\n      <th>0</th>\n      <td>143166</td>\n      <td>S-254291000</td>\n      <td>Staging and scales (staging scale)</td>\n    </tr>\n    <tr>\n      <th>1</th>\n      <td>143194</td>\n      <td>S-260787004</td>\n      <td>Physical object (physical object)</td>\n    </tr>\n    <tr>\n      <th>2</th>\n      <td>143274</td>\n      <td>S-272379006</td>\n      <td>Event (event)</td>\n    </tr>\n    <tr>\n      <th>3</th>\n      <td>143613</td>\n      <td>S-308916002</td>\n      <td>Environment or geographical location (environm...</td>\n    </tr>\n    <tr>\n      <th>4</th>\n      <td>143811</td>\n      <td>S-123037004</td>\n      <td>Body structure (body structure)</td>\n    </tr>\n    <tr>\n      <th>5</th>\n      <td>143812</td>\n      <td>S-123038009</td>\n      <td>Specimen (specimen)</td>\n    </tr>\n    <tr>\n      <th>6</th>\n      <td>144417</td>\n      <td>S-48176007</td>\n      <td>Social context (social concept)</td>\n    </tr>\n    <tr>\n      <th>7</th>\n      <td>144501</td>\n      <td>S-71388002</td>\n      <td>Procedure (procedure)</td>\n    </tr>\n    <tr>\n      <th>8</th>\n      <td>144577</td>\n      <td>S-78621006</td>\n      <td>Physical force (physical force)</td>\n    </tr>\n    <tr>\n      <th>9</th>\n      <td>144660</td>\n      <td>S-362981000</td>\n      <td>Qualifier value (qualifier value)</td>\n    </tr>\n    <tr>\n      <th>10</th>\n      <td>144662</td>\n      <td>S-363787002</td>\n      <td>Observable entity (observable entity)</td>\n    </tr>\n    <tr>\n      <th>11</th>\n      <td>144664</td>\n      <td>S-370115009</td>\n      <td>Special concept (special concept)</td>\n    </tr>\n    <tr>\n      <th>12</th>\n      <td>804301</td>\n      <td>S-105590001</td>\n      <td>Substance (substance)</td>\n    </tr>\n    <tr>\n      <th>13</th>\n      <td>804319</td>\n      <td>S-243796009</td>\n      <td>Situation with explicit context (situation)</td>\n    </tr>\n    <tr>\n      <th>14</th>\n      <td>921450</td>\n      <td>S-373873005</td>\n      <td>Pharmaceutical / biologic product (product)</td>\n    </tr>\n    <tr>\n      <th>15</th>\n      <td>1284430</td>\n      <td>S-404684003</td>\n      <td>Clinical finding (finding)</td>\n    </tr>\n    <tr>\n      <th>16</th>\n      <td>1353989</td>\n      <td>S-410607006</td>\n      <td>Organism (organism)</td>\n    </tr>\n    <tr>\n      <th>17</th>\n      <td>1607937</td>\n      <td>S-419891008</td>\n      <td>Record artifact (record artifact)</td>\n    </tr>\n    <tr>\n      <th>18</th>\n      <td>2291081</td>\n      <td>S-900000000000441003</td>\n      <td>SNOMED CT Model Component (metadata)</td>\n    </tr>\n  </tbody>\n</table>\n</div>"
     },
     "execution_count": 89,
     "metadata": {},
     "output_type": "execute_result"
    }
   ],
   "source": [
    "# Check if the Top level concepts are the same in the SNOMED UK Extension\n",
    "top_level_concepts = all_relat[all_relat['destinationId']=='S-138875005']\n",
    "top_level_concepts['conceptname'] = top_level_concepts['sourceId'].apply(find_name)\n",
    "top_level_concepts[['sourceId', 'conceptname']].reset_index()"
   ]
  },
  {
   "cell_type": "markdown",
   "metadata": {},
   "source": [
    "### Siblings"
   ]
  },
  {
   "cell_type": "code",
   "execution_count": 52,
   "metadata": {},
   "outputs": [],
   "source": [
    "isa_rel = all_relat[all_relat['typeId'] == 'S-116680003']"
   ]
  },
  {
   "cell_type": "code",
   "execution_count": null,
   "metadata": {},
   "outputs": [],
   "source": [
    "# Find siblings\n",
    "# cui to siblings dictionary\n",
    "cui2sib_dic = dict([(key, set()) for key in isa_rel['sourceId'].unique()])"
   ]
  },
  {
   "cell_type": "code",
   "execution_count": null,
   "metadata": {},
   "outputs": [],
   "source": [
    "isa_rel.head()"
   ]
  },
  {
   "cell_type": "code",
   "execution_count": null,
   "metadata": {},
   "outputs": [],
   "source": [
    "# Find siblings function\n",
    "def cui2sib(snomed):\n",
    "    x = set()\n",
    "    for a in ch2pt[snomed]:\n",
    "        for b in pt2ch[a]:\n",
    "            x.add(b)\n",
    "    return x"
   ]
  },
  {
   "cell_type": "code",
   "execution_count": null,
   "metadata": {},
   "outputs": [],
   "source": [
    "%%timeit\n",
    "for key in cui2sib_dic:\n",
    "    cui2sib_dic[key].update(cui2sib(key))"
   ]
  },
  {
   "cell_type": "code",
   "execution_count": null,
   "metadata": {},
   "outputs": [],
   "source": [
    "%%timeit\n",
    "cui2sib_dic = dict()\n",
    "for key in tqdm(unique_snomed, total=len(unique_snomed)):\n",
    "    value = cui2sib(key)\n",
    "    cui2sib_dic[key].\n",
    "    "
   ]
  },
  {
   "cell_type": "code",
   "execution_count": null,
   "metadata": {},
   "outputs": [],
   "source": [
    "with open('isa_rela_cui2sib.txt', 'w') as outfile:\n",
    "    json.dump(cui2sib, outfile)"
   ]
  },
  {
   "cell_type": "code",
   "execution_count": null,
   "metadata": {},
   "outputs": [],
   "source": []
  },
  {
   "cell_type": "code",
   "execution_count": null,
   "metadata": {},
   "outputs": [],
   "source": [
    "cui2sib('S-404684003')"
   ]
  },
  {
   "cell_type": "markdown",
   "metadata": {
    "pycharm": {
     "name": "#%% md\n"
    }
   },
   "source": [
    "# ICD-10 / OPCS-4 linkages with SNOMED-CT\n"
   ]
  },
  {
   "cell_type": "code",
   "execution_count": 56,
   "metadata": {
    "pycharm": {
     "name": "#%%\n"
    }
   },
   "outputs": [],
   "source": [
    "refset_terminology = f'{base_term}/SnomedCT_UKClinicalRF2_PRODUCTION_20200401T000001Z/Snapshot/Refset/Map'"
   ]
  },
  {
   "cell_type": "code",
   "execution_count": 57,
   "metadata": {},
   "outputs": [],
   "source": [
    "mappings = parse_file(f'{refset_terminology}/der2_iisssciRefset_ExtendedMapSnapshot_GB1000000_20200401.txt')\n",
    "mappings = mappings[mappings.active == '1']\n",
    "mappings.referencedComponentId = mappings.referencedComponentId.apply(lambda s: f'S-{s}')"
   ]
  },
  {
   "cell_type": "code",
   "execution_count": 58,
   "metadata": {},
   "outputs": [],
   "source": [
    "mappings.mapPriority = mappings.mapPriority.astype(int)"
   ]
  },
  {
   "cell_type": "code",
   "execution_count": 59,
   "metadata": {},
   "outputs": [],
   "source": [
    "icd10_refset_id = '999002271000000101'\n",
    "opcs4_refset_id = '999002741000000101'"
   ]
  },
  {
   "cell_type": "code",
   "execution_count": 61,
   "metadata": {},
   "outputs": [
    {
     "name": "stdout",
     "output_type": "stream",
     "text": [
      "Wall time: 9h 22min 25s\n"
     ]
    }
   ],
   "source": [
    "%%time\n",
    "cui2mappings = dict()\n",
    "for cui in snomed_cdb_df.cui.unique():\n",
    "    cui_map = mappings[mappings.referencedComponentId == cui].loc[:, ['mapPriority', 'mapAdvice', 'mapTarget', 'refsetId']]\n",
    "    if cui_map.shape[0] > 0:\n",
    "        cui2mappings[cui] = cui_map.sort_values('mapPriority')"
   ]
  },
  {
   "cell_type": "code",
   "execution_count": 62,
   "metadata": {},
   "outputs": [],
   "source": [
    "opcs_mappings = {}\n",
    "icd10_mappings= {}\n",
    "for cui, mappings in cui2mappings.items():\n",
    "    icd10_codes = mappings[mappings.refsetId == icd10_refset_id]\n",
    "    if icd10_codes.shape[0] > 0:\n",
    "        icd10_mappings[cui] = icd10_codes\n",
    "    opcs_codes = mappings[mappings.refsetId == opcs4_refset_id]\n",
    "    if opcs_codes.shape[0] > 0:\n",
    "        opcs_mappings[cui] = opcs_codes"
   ]
  },
  {
   "cell_type": "code",
   "execution_count": 64,
   "metadata": {},
   "outputs": [],
   "source": [
    "import pickle\n",
    "pickle.dump(opcs_mappings, open('opcs_mappings_full.pickle', 'wb'))\n",
    "pickle.dump(icd10_mappings, open('icd10_mappings_full.pickle', 'wb'))"
   ]
  },
  {
   "cell_type": "code",
   "execution_count": null,
   "metadata": {},
   "outputs": [],
   "source": [
    "# condense mappings to a simple dict representation"
   ]
  },
  {
   "cell_type": "code",
   "execution_count": 147,
   "metadata": {},
   "outputs": [],
   "source": [
    "def condense_mapping(cui2mappings):\n",
    "    mapping_condensed = {}\n",
    "    for cui, mappings in cui2mappings.items():\n",
    "        mapping_condensed[cui] = mappings.mapTarget.replace('(\\w\\d\\d)(\\d*)', r'\\1.\\2', regex=True).tolist()\n",
    "    return mapping_condensed"
   ]
  },
  {
   "cell_type": "code",
   "execution_count": 148,
   "metadata": {},
   "outputs": [],
   "source": [
    "icd10_mapping_condensed = condense_mapping(icd10_mappings)"
   ]
  },
  {
   "cell_type": "code",
   "execution_count": 67,
   "metadata": {},
   "outputs": [],
   "source": [
    "opcs_mapping_condensed = condense_mapping(opcs_mappings)"
   ]
  },
  {
   "cell_type": "code",
   "execution_count": 68,
   "metadata": {},
   "outputs": [],
   "source": [
    "pickle.dump(icd10_mapping_condensed, open('icd10_mapping_condensed.pickle', 'wb'))\n",
    "pickle.dump(opcs_mapping_condensed, open('opcs_mapping_condensed.pickle', 'wb'))"
   ]
  },
  {
   "cell_type": "code",
   "execution_count": null,
   "metadata": {},
   "outputs": [],
   "source": []
  },
  {
   "cell_type": "code",
   "execution_count": 108,
   "metadata": {},
   "outputs": [
    {
     "data": {
      "text/html": [
       "<div>\n",
       "<style scoped>\n",
       "    .dataframe tbody tr th:only-of-type {\n",
       "        vertical-align: middle;\n",
       "    }\n",
       "\n",
       "    .dataframe tbody tr th {\n",
       "        vertical-align: top;\n",
       "    }\n",
       "\n",
       "    .dataframe thead th {\n",
       "        text-align: right;\n",
       "    }\n",
       "</style>\n",
       "<table border=\"1\" class=\"dataframe\">\n",
       "  <thead>\n",
       "    <tr style=\"text-align: right;\">\n",
       "      <th></th>\n",
       "      <th>mapPriority</th>\n",
       "      <th>mapAdvice</th>\n",
       "      <th>mapTarget</th>\n",
       "      <th>refsetId</th>\n",
       "    </tr>\n",
       "  </thead>\n",
       "  <tbody>\n",
       "    <tr>\n",
       "      <th>2798385</th>\n",
       "      <td>1</td>\n",
       "      <td>COVID-19 (U07.1)</td>\n",
       "      <td>U071</td>\n",
       "      <td>999002271000000101</td>\n",
       "    </tr>\n",
       "  </tbody>\n",
       "</table>\n",
       "</div>"
      ],
      "text/plain": [
       "         mapPriority         mapAdvice mapTarget            refsetId\n",
       "2798385            1  COVID-19 (U07.1)      U071  999002271000000101"
      ]
     },
     "execution_count": 108,
     "metadata": {},
     "output_type": "execute_result"
    }
   ],
   "source": [
    "cui2mappings['S-1240751000000100']"
   ]
  },
  {
   "cell_type": "code",
   "execution_count": 153,
   "metadata": {},
   "outputs": [
    {
     "data": {
      "text/plain": [
       "['W09.1', 'Z78.7']"
      ]
     },
     "execution_count": 153,
     "metadata": {},
     "output_type": "execute_result"
    }
   ],
   "source": [
    "opcs_mapping_condensed['S-104001']"
   ]
  },
  {
   "cell_type": "code",
   "execution_count": null,
   "metadata": {},
   "outputs": [],
   "source": []
  },
  {
   "cell_type": "markdown",
   "metadata": {},
   "source": [
    "### ICD-10 and OPSC-4 code to descriptions\n",
    "Link to files on NHS TRUD\n",
    "\n",
    "\n",
    "__icd:__ https://isd.digital.nhs.uk/trud3/user/authenticated/group/0/pack/28\n",
    "\n",
    "__opcs:__ https://isd.digital.nhs.uk/trud3/user/authenticated/group/0/pack/10"
   ]
  },
  {
   "cell_type": "markdown",
   "metadata": {},
   "source": [
    "#### ICD10 code2desc"
   ]
  },
  {
   "cell_type": "code",
   "execution_count": 160,
   "metadata": {},
   "outputs": [],
   "source": [
    "icd_path = r\"C:\\Users\\k1767582\\Desktop\\icd_df_10.5.0_20151102000001\\ICD10_Edition5_20160401\\Content\"\n",
    "icd10_mapping_detail = parse_file(f'{icd_path}/ICD10_Edition5_CodesAndTitlesAndMetadata_GB_20160401.txt')\n",
    "icd10_mapping_detail['full_description'] = icd10_mapping_detail.DESCRIPTION +  icd10_mapping_detail.MODIFIER_4 + icd10_mapping_detail.MODIFIER_5"
   ]
  },
  {
   "cell_type": "code",
   "execution_count": 167,
   "metadata": {},
   "outputs": [],
   "source": [
    "icd10_uk_codes = {c: desc for c, desc in zip(icd10_mapping_detail.CODE, icd10_mapping_detail.full_description)}\n",
    "pickle.dump(icd10_uk_codes, open('icd10_uk_code2desc.pickle', 'wb'))"
   ]
  },
  {
   "cell_type": "markdown",
   "metadata": {},
   "source": [
    "#### OPCS code2desc"
   ]
  },
  {
   "cell_type": "code",
   "execution_count": 174,
   "metadata": {},
   "outputs": [],
   "source": [
    "opcs_filename = r'C:\\Users\\k1767582\\Desktop\\nhs_opcs4df_9.0.0_20191104000001\\OPCS49 CodesAndTitles Nov 2019 V1.0.txt'\n",
    "opcs_desc_df = parse_file(opcs_filename, first_row_header=False, columns=['code', 'desc'])\n",
    "opcs_desc_df = {code: desc for code, desc in zip(opcs_desc_df.code, opcs_desc_df.desc)}\n",
    "pickle.dump(opcs_desc_df, open('opcs_code2desc.pickle', 'wb'))"
   ]
  },
  {
   "cell_type": "code",
   "execution_count": null,
   "metadata": {},
   "outputs": [],
   "source": []
  },
  {
   "cell_type": "code",
   "execution_count": null,
   "metadata": {},
   "outputs": [],
   "source": []
  },
  {
   "cell_type": "code",
   "execution_count": null,
   "metadata": {},
   "outputs": [],
   "source": []
  }
 ],
 "metadata": {
  "kernelspec": {
   "display_name": "Python 3",
   "language": "python",
   "name": "python3"
  },
  "language_info": {
   "codemirror_mode": {
    "name": "ipython",
    "version": 3
   },
   "file_extension": ".py",
   "mimetype": "text/x-python",
   "name": "python",
   "nbconvert_exporter": "python",
   "pygments_lexer": "ipython3",
   "version": "3.6.3"
  }
 },
 "nbformat": 4,
 "nbformat_minor": 4
}